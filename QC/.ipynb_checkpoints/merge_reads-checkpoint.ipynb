{
 "cells": [
  {
   "cell_type": "markdown",
   "metadata": {},
   "source": [
    "##This notebook is used to merge the two paired-end reads from the Illumina sequencing data"
   ]
  },
  {
   "cell_type": "code",
   "execution_count": 1,
   "metadata": {
    "collapsed": false
   },
   "outputs": [
    {
     "name": "stderr",
     "output_type": "stream",
     "text": [
      "/opt/virt_env/lib/python2.7/site-packages/mpltools/style/__init__.py:42: FutureWarning: \n",
      "\n",
      "    The style-sheet functionality in mpltools has been integrated into\n",
      "    Matplotlib >= 1.4. This module will be removed in a future release.\n",
      "\n",
      "    Note that style-sheets used by `matplotlib.style` use the standard\n",
      "    Matplotlib rc-file syntax instead of the INI format used by `mpltools`.\n",
      "    This mostly means un-quoting strings and changing '=' to ':'.\n",
      "\n",
      "\n",
      "  \"\"\", FutureWarning)\n"
     ]
    }
   ],
   "source": [
    "# bringing in some python modules\n",
    "# screed reads the fasta or fastq files\n",
    "import screed\n",
    "# matplotlib.pyplot is a program for plotting data\n",
    "import matplotlib.pyplot as plt\n",
    "from mpltools import style\n",
    "import numpy as np\n",
    "from mpld3 import enable_notebook\n",
    "# A mode is indicated by a % sign.\n",
    "# Here we are telling it to show the graphics in the notebook itself\n",
    "%matplotlib inline"
   ]
  },
  {
   "cell_type": "code",
   "execution_count": 2,
   "metadata": {
    "collapsed": false
   },
   "outputs": [],
   "source": [
    "# python code that allows us to have interactive figures in the notebook\n",
    "enable_notebook()"
   ]
  },
  {
   "cell_type": "code",
   "execution_count": 3,
   "metadata": {
    "collapsed": false
   },
   "outputs": [
    {
     "name": "stdout",
     "output_type": "stream",
     "text": [
      "@M01056:162:000000000-AF6MY:1:1101:17178:1441 1:N:0:0\r\n",
      "CATCTTCGGTTAAATCCAAAACGGCAGAAGCCTGTATGTTCTTATTATAGGCCAAAGCTGTCTGTAATCGTTCGGTTTGTTCAGTAACTTTTCTCTTGTTTTCTTACCTATTAGTGGTTGAACAGCATCGGACTCAGTTAGTAATCCACGCTCTTTTATAATGTCAACATTTTAATCTCTACCATGAACAAAATGTGACTCATATCTAATCCAGTCCTTGACTTACGTTCCAAGCATATTAATCCACTTCT\r\n",
      "+\r\n",
      "11>>AFF11AA?13FGA1111A0000000110B012D2222DF22D222211A//00011D1D112222/B/0///?B/BF@22B222BB212B22B11BBF@FG210B1BF22B10B?/0211000B<///<><111B22B22B2211//?<FFFG2122@2?<11<1011111?1@<F1<11>11111000<1=10<=<0=0=<=0000000=0:;;0000000.:/:/000./;0;B000000/;B00\r\n",
      "@M01056:162:000000000-AF6MY:1:1101:15205:1449 1:N:0:0\r\n",
      "TCACTCAGTGAGTCATCGAGTCTTTGCATATCAATAAGCGGTTGTAGATCGGTAGAGCACACGGCTGTACTCCAGTCACCACGGTTGTTTTTTTTCGTATGCCGTCTTCTTCTTGTATTTTTTTTTTTTTTTTTTTTTTTTTTTTTTTTTTTTTTTTTTTTTTTTTTTTTTTTTTTTTTTTTTTTTTTTTTTTTTTTTTTTTTTTTTTTTTTTTTTTTTTTTTTTTTTTTTTTTTTTTTTTTTTTTTTTTT\r\n",
      "+\r\n",
      ">>1>AF11B@1DGFGGA111B1FGG313D3FA33D311100000/122D1/////1111000///A/012D1111D11111///BF/?/00/>/>0/B0>021/?/B?2B12B>11122221/////<-----------9--9-----999--9-----99---------99-9999-9999----9-9-9--------9----------9----99------9---9----------9---------9--\r\n",
      "@M01056:162:000000000-AF6MY:1:1101:14431:1453 1:N:0:0\r\n",
      "TCTAGTGCCAGCAGCCGCGGTAATACGGAGGATCCAAGCGTTTTCCGGTATCATTGGGTTTAAAGGGTCCGTTGTCGGTTTTGTAATTCTGTTGTTTAATCCCCTCGCTCTACGGTGGAACGGCCATTTATACTTCAAGACTTGAATTATTGGGTAGTAACTATAATATGTATTGTAGCGGTGAAATGCTTAGTGATTACATGGATTACCATTTGCGAAGGCAGGTTACTACCATTTTATTGACGCTGTTT\r\n"
     ]
    }
   ],
   "source": [
    "!head ../../SeqData/W57_R1_001.fastq\n",
    "# Check out the file.. order of fwd, rev, and index reads should all match\n",
    "# The ! indicates the command is run in unix, not Python"
   ]
  },
  {
   "cell_type": "code",
   "execution_count": 2,
   "metadata": {
    "collapsed": true
   },
   "outputs": [
    {
     "name": "stdout",
     "output_type": "stream",
     "text": [
      " ____  _____    _    ____ \r\n",
      "|  _ \\| ____|  / \\  |  _ \\\r\n",
      "| |_) |  _|   / _ \\ | |_) |\r\n",
      "|  __/| |___ / ___ \\|  _ <\r\n",
      "|_|   |_____/_/   \\_\\_| \\_\\\r\n",
      "PEAR v0.9.6 [January 15, 2015]  - [+bzlib +zlib]\r\n",
      "\r\n",
      "Citation - PEAR: a fast and accurate Illumina Paired-End reAd mergeR\r\n",
      "Zhang et al (2014) Bioinformatics 30(5): 614-620 | doi:10.1093/bioinformatics/btt593\r\n",
      "\r\n",
      "License: Creative Commons Licence\r\n",
      "Bug-reports and requests to: Tomas.Flouri@h-its.org and Jiajie.Zhang@h-its.org\r\n",
      "\r\n",
      "\r\n",
      "Usage: pear <options>\r\n",
      "Standard (mandatory):\r\n",
      "  -f, --forward-fastq         <str>     Forward paired-end FASTQ file.\r\n",
      "  -r, --reverse-fastq         <str>     Reverse paired-end FASTQ file.\r\n",
      "  -o, --output                <str>     Output filename.\r\n",
      "Optional:\r\n",
      "  -p, --p-value               <float>   Specify  a p-value for the statistical test. If the computed\r\n",
      "                                        p-value of a possible assembly exceeds the specified p-value\r\n",
      "                                        then  paired-end  read  will not be assembled. Valid options\r\n",
      "                                        are: 0.0001, 0.001, 0.01, 0.05 and 1.0. Setting 1.0 disables\r\n",
      "                                        the test. (default: 0.01)\r\n",
      "  -v, --min-overlap           <int>     Specify the minimum overlap size. The minimum overlap may be\r\n",
      "                                        set to 1 when the statistical test is used. However, further\r\n",
      "                                        restricting  the  minimum overlap size to a proper value may\r\n",
      "                                        reduce false-positive assembles. (default: 10)\r\n",
      "  -m, --max-assembly-length   <int>     Specify   the  maximum  possible  length  of  the  assembled\r\n",
      "                                        sequences.  Setting this value to 0 disables the restriction\r\n",
      "                                        and assembled sequences may be arbitrary long. (default: 0)\r\n",
      "  -n, --min-assembly-length   <int>     Specify   the  minimum  possible  length  of  the  assembled\r\n",
      "                                        sequences.  Setting this value to 0 disables the restriction\r\n",
      "                                        and  assembled  sequences  may be arbitrary short. (default:\r\n",
      "                                        50)\r\n",
      "  -t, --min-trim-length       <int>     Specify  the  minimum length of reads after trimming the low\r\n",
      "                                        quality part (see option -q). (default: 1)\r\n",
      "  -q, --quality-threshold     <int>     Specify  the  quality  score  threshold for trimming the low\r\n",
      "                                        quality  part  of  a  read.  If  the  quality  scores of two\r\n",
      "                                        consecutive  bases  are  strictly  less  than  the specified\r\n",
      "                                        threshold,  the  rest of the read will be trimmed. (default:\r\n",
      "                                        0)\r\n",
      "  -u, --max-uncalled-base     <float>   Specify  the maximal proportion of uncalled bases in a read.\r\n",
      "                                        Setting this value to 0 will cause PEAR to discard all reads\r\n",
      "                                        containing  uncalled  bases.  The other extreme setting is 1\r\n",
      "                                        which  causes  PEAR  to process all reads independent on the\r\n",
      "                                        number of uncalled bases. (default: 1)\r\n",
      "  -g, --test-method           <int>     Specify  the  type  of  statistical  test.  Two  options are\r\n",
      "                                        available. (default: 1)\r\n",
      "                                        1: Given the minimum allowed overlap, test using the highest\r\n",
      "                                        OES. Note that due to its discrete nature, this test usually\r\n",
      "                                        yields  a lower p-value for the assembled read than the cut-\r\n",
      "                                        off  (specified  by -p). For example, setting the cut-off to\r\n",
      "                                        0.05  using  this  test,  the  assembled reads might have an\r\n",
      "                                        actual p-value of 0.02.\r\n",
      "\r\n",
      "                                        2. Use the acceptance probability (m.a.p). This test methods\r\n",
      "                                        computes  the same probability as test method 1. However, it\r\n",
      "                                        assumes  that  the  minimal  overlap is the observed overlap\r\n",
      "                                        with  the  highest  OES, instead of the one specified by -v.\r\n",
      "                                        Therefore,  this  is  not  a  valid statistical test and the\r\n",
      "                                        'p-value'  is  in fact the maximal probability for accepting\r\n",
      "                                        the assembly. Nevertheless, we observed in practice that for\r\n",
      "                                        the case the actual overlap sizes are relatively small, test\r\n",
      "                                        2  can  correctly  assemble  more  reads  with only slightly\r\n",
      "                                        higher false-positive rate.\r\n",
      "  -e, --empirical-freqs                 Disable  empirical base frequencies. (default: use empirical\r\n",
      "                                        base frequencies)\r\n",
      "  -s, --score-method          <int>     Specify the scoring method. (default: 2)\r\n",
      "                                        1. OES with +1 for match and -1 for mismatch.\r\n",
      "                                        2: Assembly score (AS). Use +1 for match and -1 for mismatch\r\n",
      "                                        multiplied by base quality scores.\r\n",
      "                                        3: Ignore quality scores and use +1 for a match and -1 for a\r\n",
      "                                        mismatch.\r\n",
      "  -b, --phred-base            <int>     Base PHRED quality score. (default: 33)\r\n",
      "  -y, --memory                <str>     Specify  the  amount of memory to be used. The number may be\r\n",
      "                                        followed  by  one  of  the  letters  K,  M,  or  G  denoting\r\n",
      "                                        Kilobytes,  Megabytes and Gigabytes, respectively. Bytes are\r\n",
      "                                        assumed in case no letter is specified.\r\n",
      "  -c, --cap                   <int>     Specify  the upper bound for the resulting quality score. If\r\n",
      "                                        set to zero, capping is disabled. (default: 40)\r\n",
      "  -j, --threads               <int>     Number of threads to use\r\n",
      "  -z, --nbase                           When  merging  a  base-pair  that  consists of two non-equal\r\n",
      "                                        bases  out  of which none is degenerate, set the merged base\r\n",
      "                                        to N and use the highest quality score of the two bases\r\n",
      "  -h, --help                            This help screen.\r\n",
      "\r\n"
     ]
    }
   ],
   "source": [
    "# PEAR is an Illumina Paired-End reAd mergeR (Zhang et al., 2014)\n",
    "!pear -h"
   ]
  },
  {
   "cell_type": "code",
   "execution_count": null,
   "metadata": {
    "collapsed": false
   },
   "outputs": [
    {
     "name": "stdout",
     "output_type": "stream",
     "text": [
      " ____  _____    _    ____ \r\n",
      "|  _ \\| ____|  / \\  |  _ \\\r\n",
      "| |_) |  _|   / _ \\ | |_) |\r\n",
      "|  __/| |___ / ___ \\|  _ <\r\n",
      "|_|   |_____/_/   \\_\\_| \\_\\\r\n",
      "\r\n",
      "PEAR v0.9.6 [January 15, 2015]\r\n",
      "\r\n",
      "Citation - PEAR: a fast and accurate Illumina Paired-End reAd mergeR\r\n",
      "Zhang et al (2014) Bioinformatics 30(5): 614-620 | doi:10.1093/bioinformatics/btt593\r\n",
      "\r\n",
      "Forward reads file.................: ../../SeqData/W57_R1_001.fastq\r\n",
      "Reverse reads file.................: ../../SeqData/W57_R2_001.fastq\r\n",
      "PHRED..............................: 33\r\n",
      "Using empirical frequencies........: YES\r\n",
      "Statistical method.................: OES\r\n",
      "Maximum assembly length............: 600\r\n",
      "Minimum assembly length............: 50\r\n",
      "p-value............................: 0.010000\r\n",
      "Quality score threshold (trimming).: 0\r\n",
      "Minimum read size after trimming...: 1\r\n",
      "Maximal ratio of uncalled bases....: 1.000000\r\n",
      "Minimum overlap....................: 10\r\n",
      "Scoring method.....................: Scaled score\r\n",
      "Threads............................: 4\r\n",
      "\r\n",
      "Allocating memory..................: 200,000,000 bytes\r\n",
      "Computing empirical frequencies....: "
     ]
    }
   ],
   "source": [
    "!pear -m 600 -j 4 -f ../../SeqData/W57_R1_001.fastq -r ../../SeqData/W57_R2_001.fastq -o ../../SeqData/pear_merged_W57_$(date +%F)\n",
    "# -m is the maximum length we will consider assembling\n",
    "# -j is the number of processors\n",
    "# Thus, the data will be paired together, merged, including max lengths of 600 (-m) and using 2 threads (-j),\n",
    "# returning a file called pear_merged-DATE"
   ]
  },
  {
   "cell_type": "code",
   "execution_count": 11,
   "metadata": {
    "collapsed": false
   },
   "outputs": [],
   "source": [
    "# Screed is a module from C. Titus Brown\n",
    "# Basically it takes your fasta file and makes a database that you can query\n",
    "# Here, we're using it to loop through files, collect seq lengths, and plot as a histogram\n",
    "# This will allow us to evaluate how well the pairing worked.\n",
    "# You can find documentation here: http://screed.readthedocs.org/en/latest/\n",
    "import screed"
   ]
  },
  {
   "cell_type": "code",
   "execution_count": 13,
   "metadata": {
    "collapsed": false
   },
   "outputs": [
    {
     "data": {
      "text/plain": [
       "<ScreedDB, '../SeqData/pear_merged-2015-11-04.assembled.fastq_screed'>"
      ]
     },
     "execution_count": 13,
     "metadata": {},
     "output_type": "execute_result"
    }
   ],
   "source": [
    "# This creates the database which it will query\n",
    "# The database will have the sequence name, description, quality, and sequence itself (if those data are in the original files)\n",
    "# The output will be PreviousName_screed\n",
    "screed.read_fastq_sequences(\"../SeqData/pear_merged-2015-11-04.assembled.fastq\")\n",
    "# Started at 12:22"
   ]
  },
  {
   "cell_type": "code",
   "execution_count": 14,
   "metadata": {
    "collapsed": false
   },
   "outputs": [],
   "source": [
    "# We will load the fastq database we just made, calling it db\n",
    "db = screed.ScreedDB(\"../SeqData/pear_merged-2015-11-04.assembled.fastq_screed\")"
   ]
  },
  {
   "cell_type": "code",
   "execution_count": 15,
   "metadata": {
    "collapsed": false
   },
   "outputs": [],
   "source": [
    "# This will store, from our fqdb, the first record... to test the db\n",
    "# (recall Python is 0-based, so 0 is the 1st item)\n",
    "record = db[db.keys()[0]]"
   ]
  },
  {
   "cell_type": "code",
   "execution_count": 16,
   "metadata": {
    "collapsed": true
   },
   "outputs": [],
   "source": [
    "irdb=screed.ScreedDB(\"../SeqData/pear_merged-2015-11-04.assembled.fastq_screed\")"
   ]
  },
  {
   "cell_type": "code",
   "execution_count": 17,
   "metadata": {
    "collapsed": false
   },
   "outputs": [
    {
     "data": {
      "text/plain": [
       "'TCAGTGAGTCATCGAATCTTTGAACGCAAATGGCGCTCTTGGGTTCTCCCAGGAGCATGTCTGTCTGAGTGTCGGATTTTATCGAACGCACTCGTGAGTGCGGTATTGTGGTGTCACGGCGTGTTAGCAAGCAAGCAAGAATTAAATCTCCGTGTCCCTTGAAGGACAGCAGCATTGGACTCGCATTCTCTATTGAAACTTGAGTGCGAAGGCTAAAGATAATATTTTCCTTCGAACAAACATGCAATAGCAGAAACAAAAACCAAACAAAGCGGTGACAGACAATAAACAAAAAATCTTGACCACAGATCAGGCAAGGCTACCCGATGAAATTAAGCATATCAATAAGCGGAGGATAGA'"
      ]
     },
     "execution_count": 17,
     "metadata": {},
     "output_type": "execute_result"
    }
   ],
   "source": [
    "irdb[record[\"name\"]][\"sequence\"]"
   ]
  },
  {
   "cell_type": "code",
   "execution_count": 18,
   "metadata": {
    "collapsed": false
   },
   "outputs": [
    {
     "data": {
      "text/plain": [
       "'>>11>311BD1DE11BFEGGG331B00000D11000AAFG11/BFAFEA001/////B1DFG1GAF111D1FB///??GG2@@//0>////>>/B/0/B11//?/?F22A>B>?II1GG<>B>IF;=@III>III>II?0IIIIII=>1@<=III<=@<I>II1I=II1@I>>I=I1IIHI>>=III@;@II;I2III@;;@I1I@9IIII>IIIIIAIIIIIBIBFI=GHI==00<III>II??IIII1@B2EFB/FFB>//0BB21FE>//1122F1F@D1GF2FBB/A11FDB11121B0221BDB01FB11FBB100B001A33AFD313GF3DB3B33FB1EA111@BB3>11>1'"
      ]
     },
     "execution_count": 18,
     "metadata": {},
     "output_type": "execute_result"
    }
   ],
   "source": [
    "# This will now retrieve the sequence from our database for what we have set as the record\n",
    "record[\"quality\"]\n",
    "# record[\"name\"]"
   ]
  },
  {
   "cell_type": "code",
   "execution_count": 20,
   "metadata": {
    "collapsed": false
   },
   "outputs": [],
   "source": [
    "# Here we are basically getting the length of each sequence\n",
    "# First we create a string that is called \"lengths\"\n",
    "# For each read from our database (we are looking at all the iterative values of our fqdb), we find the length of the sequence\n",
    "# from the sequence category of our database that we created. Then, we append this length to our original length file.\n",
    "# We should end up with a file that has all the lengths of all our sequences, in a row. They are not necessarily tied to our \n",
    "# original sequence file\n",
    "lengths = []\n",
    "for record in db.itervalues():\n",
    "    lengths.append((len(record[\"sequence\"])))"
   ]
  },
  {
   "cell_type": "code",
   "execution_count": 21,
   "metadata": {
    "collapsed": false
   },
   "outputs": [
    {
     "data": {
      "image/png": "[encoded data removed]",
      "text/html": [
       "\n",
       "\n",
       "<style>\n",
       "\n",
       "</style>\n",
       "\n",
       "<div id=\"fig_el340743796377767783775739\"></div>\n",
       "<script>\n",
       "function mpld3_load_lib(url, callback){\n",
       "  var s = document.createElement('script');\n",
       "  s.src = url;\n",
       "  s.async = true;\n",
       "  s.onreadystatechange = s.onload = callback;\n",
       "  s.onerror = function(){console.warn(\"failed to load library \" + url);};\n",
       "  document.getElementsByTagName(\"head\")[0].appendChild(s);\n",
       "}\n",
       "\n",
       "if(typeof(mpld3) !== \"undefined\" && mpld3._mpld3IsLoaded){\n",
       "   // already loaded: just create the figure\n",
       "   !function(mpld3){\n",
       "       \n",
       "       mpld3.draw_figure(\"fig_el340743796377767783775739\", {\"axes\": [{\"xlim\": [50.0, 500.0], \"yscale\": \"linear\", \"axesbg\": \"#E5E5E5\", \"texts\": [{\"v_baseline\": \"hanging\", \"h_anchor\": \"middle\", \"color\": \"#555555\", \"text\": \"Sequence Length, nt\", \"coordinates\": \"axes\", \"zorder\": 3, \"alpha\": 1, \"fontsize\": 12.0, \"position\": [0.5, -0.065710872162485071], \"rotation\": -0.0, \"id\": \"el34074332274256\"}, {\"v_baseline\": \"auto\", \"h_anchor\": \"middle\", \"color\": \"#555555\", \"text\": \"Count\", \"coordinates\": \"axes\", \"zorder\": 3, \"alpha\": 1, \"fontsize\": 12.0, \"position\": [-0.10152329749103942, 0.5], \"rotation\": -90.0, \"id\": \"el34076297012624\"}], \"zoomable\": true, \"images\": [], \"xdomain\": [50.0, 500.0], \"ylim\": [0.0, 7000000.0], \"paths\": [{\"edgecolor\": \"#EEEEEE\", \"facecolor\": \"#E24A33\", \"edgewidth\": 0.5, \"pathcodes\": [\"M\", \"L\", \"L\", \"L\", \"Z\"], \"yindex\": 1, \"coordinates\": \"data\", \"dasharray\": \"10,0\", \"zorder\": 1, \"alpha\": 1, \"xindex\": 0, \"data\": \"data01\", \"id\": \"el34074384025040\"}, {\"edgecolor\": \"#EEEEEE\", \"facecolor\": \"#E24A33\", \"edgewidth\": 0.5, \"pathcodes\": [\"M\", \"L\", \"L\", \"L\", \"Z\"], \"yindex\": 1, \"coordinates\": \"data\", \"dasharray\": \"10,0\", \"zorder\": 1, \"alpha\": 1, \"xindex\": 0, \"data\": \"data02\", \"id\": \"el34074384026320\"}, {\"edgecolor\": \"#EEEEEE\", \"facecolor\": \"#E24A33\", \"edgewidth\": 0.5, \"pathcodes\": [\"M\", \"L\", \"L\", \"L\", \"Z\"], \"yindex\": 1, \"coordinates\": \"data\", \"dasharray\": \"10,0\", \"zorder\": 1, \"alpha\": 1, \"xindex\": 0, \"data\": \"data03\", \"id\": \"el34074384098064\"}, {\"edgecolor\": \"#EEEEEE\", \"facecolor\": \"#E24A33\", \"edgewidth\": 0.5, \"pathcodes\": [\"M\", \"L\", \"L\", \"L\", \"Z\"], \"yindex\": 1, \"coordinates\": \"data\", \"dasharray\": \"10,0\", \"zorder\": 1, \"alpha\": 1, \"xindex\": 0, \"data\": \"data04\", \"id\": \"el34074384099728\"}, {\"edgecolor\": \"#EEEEEE\", \"facecolor\": \"#E24A33\", \"edgewidth\": 0.5, \"pathcodes\": [\"M\", \"L\", \"L\", \"L\", \"Z\"], \"yindex\": 1, \"coordinates\": \"data\", \"dasharray\": \"10,0\", \"zorder\": 1, \"alpha\": 1, \"xindex\": 0, \"data\": \"data05\", \"id\": \"el34074384248912\"}, {\"edgecolor\": \"#EEEEEE\", \"facecolor\": \"#E24A33\", \"edgewidth\": 0.5, \"pathcodes\": [\"M\", \"L\", \"L\", \"L\", \"Z\"], \"yindex\": 1, \"coordinates\": \"data\", \"dasharray\": \"10,0\", \"zorder\": 1, \"alpha\": 1, \"xindex\": 0, \"data\": \"data06\", \"id\": \"el34074384250576\"}, {\"edgecolor\": \"#EEEEEE\", \"facecolor\": \"#E24A33\", \"edgewidth\": 0.5, \"pathcodes\": [\"M\", \"L\", \"L\", \"L\", \"Z\"], \"yindex\": 1, \"coordinates\": \"data\", \"dasharray\": \"10,0\", \"zorder\": 1, \"alpha\": 1, \"xindex\": 0, \"data\": \"data07\", \"id\": \"el34074384251856\"}, {\"edgecolor\": \"#EEEEEE\", \"facecolor\": \"#E24A33\", \"edgewidth\": 0.5, \"pathcodes\": [\"M\", \"L\", \"L\", \"L\", \"Z\"], \"yindex\": 1, \"coordinates\": \"data\", \"dasharray\": \"10,0\", \"zorder\": 1, \"alpha\": 1, \"xindex\": 0, \"data\": \"data08\", \"id\": \"el34074384077840\"}, {\"edgecolor\": \"#EEEEEE\", \"facecolor\": \"#E24A33\", \"edgewidth\": 0.5, \"pathcodes\": [\"M\", \"L\", \"L\", \"L\", \"Z\"], \"yindex\": 1, \"coordinates\": \"data\", \"dasharray\": \"10,0\", \"zorder\": 1, \"alpha\": 1, \"xindex\": 0, \"data\": \"data09\", \"id\": \"el34074384079504\"}, {\"edgecolor\": \"#EEEEEE\", \"facecolor\": \"#E24A33\", \"edgewidth\": 0.5, \"pathcodes\": [\"M\", \"L\", \"L\", \"L\", \"Z\"], \"yindex\": 1, \"coordinates\": \"data\", \"dasharray\": \"10,0\", \"zorder\": 1, \"alpha\": 1, \"xindex\": 0, \"data\": \"data10\", \"id\": \"el34074384294224\"}, {\"edgecolor\": \"#EEEEEE\", \"facecolor\": \"#E24A33\", \"edgewidth\": 0.5, \"pathcodes\": [\"M\", \"L\", \"L\", \"L\", \"Z\"], \"yindex\": 1, \"coordinates\": \"data\", \"dasharray\": \"10,0\", \"zorder\": 1, \"alpha\": 1, \"xindex\": 0, \"data\": \"data11\", \"id\": \"el34074384295888\"}, {\"edgecolor\": \"#EEEEEE\", \"facecolor\": \"#E24A33\", \"edgewidth\": 0.5, \"pathcodes\": [\"M\", \"L\", \"L\", \"L\", \"Z\"], \"yindex\": 1, \"coordinates\": \"data\", \"dasharray\": \"10,0\", \"zorder\": 1, \"alpha\": 1, \"xindex\": 0, \"data\": \"data12\", \"id\": \"el34074380582544\"}, {\"edgecolor\": \"#EEEEEE\", \"facecolor\": \"#E24A33\", \"edgewidth\": 0.5, \"pathcodes\": [\"M\", \"L\", \"L\", \"L\", \"Z\"], \"yindex\": 1, \"coordinates\": \"data\", \"dasharray\": \"10,0\", \"zorder\": 1, \"alpha\": 1, \"xindex\": 0, \"data\": \"data13\", \"id\": \"el34074380584208\"}, {\"edgecolor\": \"#EEEEEE\", \"facecolor\": \"#E24A33\", \"edgewidth\": 0.5, \"pathcodes\": [\"M\", \"L\", \"L\", \"L\", \"Z\"], \"yindex\": 1, \"coordinates\": \"data\", \"dasharray\": \"10,0\", \"zorder\": 1, \"alpha\": 1, \"xindex\": 0, \"data\": \"data14\", \"id\": \"el34074380585872\"}, {\"edgecolor\": \"#EEEEEE\", \"facecolor\": \"#E24A33\", \"edgewidth\": 0.5, \"pathcodes\": [\"M\", \"L\", \"L\", \"L\", \"Z\"], \"yindex\": 1, \"coordinates\": \"data\", \"dasharray\": \"10,0\", \"zorder\": 1, \"alpha\": 1, \"xindex\": 0, \"data\": \"data15\", \"id\": \"el34074380444240\"}, {\"edgecolor\": \"#EEEEEE\", \"facecolor\": \"#E24A33\", \"edgewidth\": 0.5, \"pathcodes\": [\"M\", \"L\", \"L\", \"L\", \"Z\"], \"yindex\": 1, \"coordinates\": \"data\", \"dasharray\": \"10,0\", \"zorder\": 1, \"alpha\": 1, \"xindex\": 0, \"data\": \"data16\", \"id\": \"el34074380445904\"}, {\"edgecolor\": \"#EEEEEE\", \"facecolor\": \"#E24A33\", \"edgewidth\": 0.5, \"pathcodes\": [\"M\", \"L\", \"L\", \"L\", \"Z\"], \"yindex\": 1, \"coordinates\": \"data\", \"dasharray\": \"10,0\", \"zorder\": 1, \"alpha\": 1, \"xindex\": 0, \"data\": \"data17\", \"id\": \"el34074380529552\"}, {\"edgecolor\": \"#EEEEEE\", \"facecolor\": \"#E24A33\", \"edgewidth\": 0.5, \"pathcodes\": [\"M\", \"L\", \"L\", \"L\", \"Z\"], \"yindex\": 1, \"coordinates\": \"data\", \"dasharray\": \"10,0\", \"zorder\": 1, \"alpha\": 1, \"xindex\": 0, \"data\": \"data18\", \"id\": \"el34074380531216\"}, {\"edgecolor\": \"#EEEEEE\", \"facecolor\": \"#E24A33\", \"edgewidth\": 0.5, \"pathcodes\": [\"M\", \"L\", \"L\", \"L\", \"Z\"], \"yindex\": 1, \"coordinates\": \"data\", \"dasharray\": \"10,0\", \"zorder\": 1, \"alpha\": 1, \"xindex\": 0, \"data\": \"data19\", \"id\": \"el34074380532496\"}, {\"edgecolor\": \"#EEEEEE\", \"facecolor\": \"#E24A33\", \"edgewidth\": 0.5, \"pathcodes\": [\"M\", \"L\", \"L\", \"L\", \"Z\"], \"yindex\": 1, \"coordinates\": \"data\", \"dasharray\": \"10,0\", \"zorder\": 1, \"alpha\": 1, \"xindex\": 0, \"data\": \"data20\", \"id\": \"el34074380473168\"}, {\"edgecolor\": \"#EEEEEE\", \"facecolor\": \"#E24A33\", \"edgewidth\": 0.5, \"pathcodes\": [\"M\", \"L\", \"L\", \"L\", \"Z\"], \"yindex\": 1, \"coordinates\": \"data\", \"dasharray\": \"10,0\", \"zorder\": 1, \"alpha\": 1, \"xindex\": 0, \"data\": \"data21\", \"id\": \"el34074380474832\"}, {\"edgecolor\": \"#EEEEEE\", \"facecolor\": \"#E24A33\", \"edgewidth\": 0.5, \"pathcodes\": [\"M\", \"L\", \"L\", \"L\", \"Z\"], \"yindex\": 1, \"coordinates\": \"data\", \"dasharray\": \"10,0\", \"zorder\": 1, \"alpha\": 1, \"xindex\": 0, \"data\": \"data22\", \"id\": \"el34074380419216\"}, {\"edgecolor\": \"#EEEEEE\", \"facecolor\": \"#E24A33\", \"edgewidth\": 0.5, \"pathcodes\": [\"M\", \"L\", \"L\", \"L\", \"Z\"], \"yindex\": 1, \"coordinates\": \"data\", \"dasharray\": \"10,0\", \"zorder\": 1, \"alpha\": 1, \"xindex\": 0, \"data\": \"data23\", \"id\": \"el34074380420880\"}, {\"edgecolor\": \"#EEEEEE\", \"facecolor\": \"#E24A33\", \"edgewidth\": 0.5, \"pathcodes\": [\"M\", \"L\", \"L\", \"L\", \"Z\"], \"yindex\": 1, \"coordinates\": \"data\", \"dasharray\": \"10,0\", \"zorder\": 1, \"alpha\": 1, \"xindex\": 0, \"data\": \"data24\", \"id\": \"el34074377874896\"}, {\"edgecolor\": \"#EEEEEE\", \"facecolor\": \"#E24A33\", \"edgewidth\": 0.5, \"pathcodes\": [\"M\", \"L\", \"L\", \"L\", \"Z\"], \"yindex\": 1, \"coordinates\": \"data\", \"dasharray\": \"10,0\", \"zorder\": 1, \"alpha\": 1, \"xindex\": 0, \"data\": \"data25\", \"id\": \"el34074377876560\"}, {\"edgecolor\": \"#EEEEEE\", \"facecolor\": \"#E24A33\", \"edgewidth\": 0.5, \"pathcodes\": [\"M\", \"L\", \"L\", \"L\", \"Z\"], \"yindex\": 1, \"coordinates\": \"data\", \"dasharray\": \"10,0\", \"zorder\": 1, \"alpha\": 1, \"xindex\": 0, \"data\": \"data26\", \"id\": \"el34074377878224\"}, {\"edgecolor\": \"#EEEEEE\", \"facecolor\": \"#E24A33\", \"edgewidth\": 0.5, \"pathcodes\": [\"M\", \"L\", \"L\", \"L\", \"Z\"], \"yindex\": 1, \"coordinates\": \"data\", \"dasharray\": \"10,0\", \"zorder\": 1, \"alpha\": 1, \"xindex\": 0, \"data\": \"data27\", \"id\": \"el34074377916816\"}, {\"edgecolor\": \"#EEEEEE\", \"facecolor\": \"#E24A33\", \"edgewidth\": 0.5, \"pathcodes\": [\"M\", \"L\", \"L\", \"L\", \"Z\"], \"yindex\": 1, \"coordinates\": \"data\", \"dasharray\": \"10,0\", \"zorder\": 1, \"alpha\": 1, \"xindex\": 0, \"data\": \"data28\", \"id\": \"el34074377918480\"}, {\"edgecolor\": \"#EEEEEE\", \"facecolor\": \"#E24A33\", \"edgewidth\": 0.5, \"pathcodes\": [\"M\", \"L\", \"L\", \"L\", \"Z\"], \"yindex\": 1, \"coordinates\": \"data\", \"dasharray\": \"10,0\", \"zorder\": 1, \"alpha\": 1, \"xindex\": 0, \"data\": \"data29\", \"id\": \"el34074377862864\"}, {\"edgecolor\": \"#EEEEEE\", \"facecolor\": \"#E24A33\", \"edgewidth\": 0.5, \"pathcodes\": [\"M\", \"L\", \"L\", \"L\", \"Z\"], \"yindex\": 1, \"coordinates\": \"data\", \"dasharray\": \"10,0\", \"zorder\": 1, \"alpha\": 1, \"xindex\": 0, \"data\": \"data30\", \"id\": \"el34074377864528\"}, {\"edgecolor\": \"#EEEEEE\", \"facecolor\": \"#E24A33\", \"edgewidth\": 0.5, \"pathcodes\": [\"M\", \"L\", \"L\", \"L\", \"Z\"], \"yindex\": 1, \"coordinates\": \"data\", \"dasharray\": \"10,0\", \"zorder\": 1, \"alpha\": 1, \"xindex\": 0, \"data\": \"data31\", \"id\": \"el34074377866192\"}, {\"edgecolor\": \"#EEEEEE\", \"facecolor\": \"#E24A33\", \"edgewidth\": 0.5, \"pathcodes\": [\"M\", \"L\", \"L\", \"L\", \"Z\"], \"yindex\": 1, \"coordinates\": \"data\", \"dasharray\": \"10,0\", \"zorder\": 1, \"alpha\": 1, \"xindex\": 0, \"data\": \"data32\", \"id\": \"el34074377990800\"}, {\"edgecolor\": \"#EEEEEE\", \"facecolor\": \"#E24A33\", \"edgewidth\": 0.5, \"pathcodes\": [\"M\", \"L\", \"L\", \"L\", \"Z\"], \"yindex\": 1, \"coordinates\": \"data\", \"dasharray\": \"10,0\", \"zorder\": 1, \"alpha\": 1, \"xindex\": 0, \"data\": \"data33\", \"id\": \"el34074377992464\"}, {\"edgecolor\": \"#EEEEEE\", \"facecolor\": \"#E24A33\", \"edgewidth\": 0.5, \"pathcodes\": [\"M\", \"L\", \"L\", \"L\", \"Z\"], \"yindex\": 1, \"coordinates\": \"data\", \"dasharray\": \"10,0\", \"zorder\": 1, \"alpha\": 1, \"xindex\": 0, \"data\": \"data34\", \"id\": \"el34074377936848\"}, {\"edgecolor\": \"#EEEEEE\", \"facecolor\": \"#E24A33\", \"edgewidth\": 0.5, \"pathcodes\": [\"M\", \"L\", \"L\", \"L\", \"Z\"], \"yindex\": 1, \"coordinates\": \"data\", \"dasharray\": \"10,0\", \"zorder\": 1, \"alpha\": 1, \"xindex\": 0, \"data\": \"data35\", \"id\": \"el34074377938512\"}, {\"edgecolor\": \"#EEEEEE\", \"facecolor\": \"#E24A33\", \"edgewidth\": 0.5, \"pathcodes\": [\"M\", \"L\", \"L\", \"L\", \"Z\"], \"yindex\": 1, \"coordinates\": \"data\", \"dasharray\": \"10,0\", \"zorder\": 1, \"alpha\": 1, \"xindex\": 0, \"data\": \"data36\", \"id\": \"el34074377939792\"}, {\"edgecolor\": \"#EEEEEE\", \"facecolor\": \"#E24A33\", \"edgewidth\": 0.5, \"pathcodes\": [\"M\", \"L\", \"L\", \"L\", \"Z\"], \"yindex\": 1, \"coordinates\": \"data\", \"dasharray\": \"10,0\", \"zorder\": 1, \"alpha\": 1, \"xindex\": 0, \"data\": \"data37\", \"id\": \"el34074384528272\"}, {\"edgecolor\": \"#EEEEEE\", \"facecolor\": \"#E24A33\", \"edgewidth\": 0.5, \"pathcodes\": [\"M\", \"L\", \"L\", \"L\", \"Z\"], \"yindex\": 1, \"coordinates\": \"data\", \"dasharray\": \"10,0\", \"zorder\": 1, \"alpha\": 1, \"xindex\": 0, \"data\": \"data38\", \"id\": \"el34074384529936\"}, {\"edgecolor\": \"#EEEEEE\", \"facecolor\": \"#E24A33\", \"edgewidth\": 0.5, \"pathcodes\": [\"M\", \"L\", \"L\", \"L\", \"Z\"], \"yindex\": 1, \"coordinates\": \"data\", \"dasharray\": \"10,0\", \"zorder\": 1, \"alpha\": 1, \"xindex\": 0, \"data\": \"data39\", \"id\": \"el34074384478416\"}, {\"edgecolor\": \"#EEEEEE\", \"facecolor\": \"#E24A33\", \"edgewidth\": 0.5, \"pathcodes\": [\"M\", \"L\", \"L\", \"L\", \"Z\"], \"yindex\": 1, \"coordinates\": \"data\", \"dasharray\": \"10,0\", \"zorder\": 1, \"alpha\": 1, \"xindex\": 0, \"data\": \"data40\", \"id\": \"el34074384480080\"}, {\"edgecolor\": \"#EEEEEE\", \"facecolor\": \"#E24A33\", \"edgewidth\": 0.5, \"pathcodes\": [\"M\", \"L\", \"L\", \"L\", \"Z\"], \"yindex\": 1, \"coordinates\": \"data\", \"dasharray\": \"10,0\", \"zorder\": 1, \"alpha\": 1, \"xindex\": 0, \"data\": \"data41\", \"id\": \"el34074384395792\"}, {\"edgecolor\": \"#EEEEEE\", \"facecolor\": \"#E24A33\", \"edgewidth\": 0.5, \"pathcodes\": [\"M\", \"L\", \"L\", \"L\", \"Z\"], \"yindex\": 1, \"coordinates\": \"data\", \"dasharray\": \"10,0\", \"zorder\": 1, \"alpha\": 1, \"xindex\": 0, \"data\": \"data42\", \"id\": \"el34074384397456\"}, {\"edgecolor\": \"#EEEEEE\", \"facecolor\": \"#E24A33\", \"edgewidth\": 0.5, \"pathcodes\": [\"M\", \"L\", \"L\", \"L\", \"Z\"], \"yindex\": 1, \"coordinates\": \"data\", \"dasharray\": \"10,0\", \"zorder\": 1, \"alpha\": 1, \"xindex\": 0, \"data\": \"data43\", \"id\": \"el34074384399120\"}, {\"edgecolor\": \"#EEEEEE\", \"facecolor\": \"#E24A33\", \"edgewidth\": 0.5, \"pathcodes\": [\"M\", \"L\", \"L\", \"L\", \"Z\"], \"yindex\": 1, \"coordinates\": \"data\", \"dasharray\": \"10,0\", \"zorder\": 1, \"alpha\": 1, \"xindex\": 0, \"data\": \"data44\", \"id\": \"el34074384437712\"}, {\"edgecolor\": \"#EEEEEE\", \"facecolor\": \"#E24A33\", \"edgewidth\": 0.5, \"pathcodes\": [\"M\", \"L\", \"L\", \"L\", \"Z\"], \"yindex\": 1, \"coordinates\": \"data\", \"dasharray\": \"10,0\", \"zorder\": 1, \"alpha\": 1, \"xindex\": 0, \"data\": \"data45\", \"id\": \"el34074384439376\"}, {\"edgecolor\": \"#EEEEEE\", \"facecolor\": \"#E24A33\", \"edgewidth\": 0.5, \"pathcodes\": [\"M\", \"L\", \"L\", \"L\", \"Z\"], \"yindex\": 1, \"coordinates\": \"data\", \"dasharray\": \"10,0\", \"zorder\": 1, \"alpha\": 1, \"xindex\": 0, \"data\": \"data46\", \"id\": \"el34074378882832\"}, {\"edgecolor\": \"#EEEEEE\", \"facecolor\": \"#E24A33\", \"edgewidth\": 0.5, \"pathcodes\": [\"M\", \"L\", \"L\", \"L\", \"Z\"], \"yindex\": 1, \"coordinates\": \"data\", \"dasharray\": \"10,0\", \"zorder\": 1, \"alpha\": 1, \"xindex\": 0, \"data\": \"data47\", \"id\": \"el34074378884496\"}, {\"edgecolor\": \"#EEEEEE\", \"facecolor\": \"#E24A33\", \"edgewidth\": 0.5, \"pathcodes\": [\"M\", \"L\", \"L\", \"L\", \"Z\"], \"yindex\": 1, \"coordinates\": \"data\", \"dasharray\": \"10,0\", \"zorder\": 1, \"alpha\": 1, \"xindex\": 0, \"data\": \"data48\", \"id\": \"el34074378885776\"}, {\"edgecolor\": \"#EEEEEE\", \"facecolor\": \"#E24A33\", \"edgewidth\": 0.5, \"pathcodes\": [\"M\", \"L\", \"L\", \"L\", \"Z\"], \"yindex\": 1, \"coordinates\": \"data\", \"dasharray\": \"10,0\", \"zorder\": 1, \"alpha\": 1, \"xindex\": 0, \"data\": \"data49\", \"id\": \"el34074378982096\"}, {\"edgecolor\": \"#EEEEEE\", \"facecolor\": \"#E24A33\", \"edgewidth\": 0.5, \"pathcodes\": [\"M\", \"L\", \"L\", \"L\", \"Z\"], \"yindex\": 1, \"coordinates\": \"data\", \"dasharray\": \"10,0\", \"zorder\": 1, \"alpha\": 1, \"xindex\": 0, \"data\": \"data50\", \"id\": \"el34074378983760\"}], \"sharey\": [], \"sharex\": [], \"axesbgalpha\": null, \"axes\": [{\"scale\": \"linear\", \"tickformat\": null, \"grid\": {\"color\": \"#FFFFFF\", \"alpha\": 1.0, \"dasharray\": \"10,0\", \"gridOn\": true}, \"fontsize\": 10.0, \"position\": \"bottom\", \"nticks\": 10, \"tickvalues\": null}, {\"scale\": \"linear\", \"tickformat\": null, \"grid\": {\"color\": \"#FFFFFF\", \"alpha\": 1.0, \"dasharray\": \"10,0\", \"gridOn\": true}, \"fontsize\": 10.0, \"position\": \"left\", \"nticks\": 8, \"tickvalues\": null}], \"lines\": [], \"markers\": [], \"id\": \"el34074379637840\", \"ydomain\": [0.0, 7000000.0], \"collections\": [], \"xscale\": \"linear\", \"bbox\": [0.125, 0.125, 0.77500000000000002, 0.77500000000000002]}], \"height\": 480.0, \"width\": 800.0, \"plugins\": [{\"type\": \"reset\"}, {\"enabled\": false, \"button\": true, \"type\": \"zoom\"}, {\"enabled\": false, \"button\": true, \"type\": \"boxzoom\"}], \"data\": {\"data42\": [[412.44000000000005, 0.0], [421.28000000000003, 0.0], [421.28000000000003, 142605.0], [412.44000000000005, 142605.0]], \"data43\": [[421.28, 0.0], [430.12, 0.0], [430.12, 123491.0], [421.28, 123491.0]], \"data40\": [[394.76, 0.0], [403.6, 0.0], [403.6, 210156.0], [394.76, 210156.0]], \"data41\": [[403.6, 0.0], [412.44, 0.0], [412.44, 162143.0], [403.6, 162143.0]], \"data46\": [[447.80000000000007, 0.0], [456.64000000000004, 0.0], [456.64000000000004, 81092.0], [447.80000000000007, 81092.0]], \"data47\": [[456.64, 0.0], [465.48, 0.0], [465.48, 61591.0], [456.64, 61591.0]], \"data44\": [[430.12, 0.0], [438.96, 0.0], [438.96, 97668.0], [430.12, 97668.0]], \"data45\": [[438.96, 0.0], [447.8, 0.0], [447.8, 96281.0], [438.96, 96281.0]], \"data48\": [[465.48, 0.0], [474.32, 0.0], [474.32, 38919.0], [465.48, 38919.0]], \"data49\": [[474.32000000000005, 0.0], [483.16, 0.0], [483.16, 19960.0], [474.32000000000005, 19960.0]], \"data50\": [[483.15999999999997, 0.0], [492.0, 0.0], [492.0, 9173.0], [483.15999999999997, 9173.0]], \"data28\": [[288.68000000000006, 0.0], [297.52000000000004, 0.0], [297.52000000000004, 1542376.0], [288.68000000000006, 1542376.0]], \"data06\": [[94.20000000000002, 0.0], [103.04, 0.0], [103.04, 4621.0], [94.20000000000002, 4621.0]], \"data08\": [[111.88, 0.0], [120.72, 0.0], [120.72, 7859.0], [111.88, 7859.0]], \"data09\": [[120.72, 0.0], [129.56, 0.0], [129.56, 8064.0], [120.72, 8064.0]], \"data20\": [[217.95999999999998, 0.0], [226.79999999999998, 0.0], [226.79999999999998, 13651.0], [217.95999999999998, 13651.0]], \"data21\": [[226.8, 0.0], [235.64, 0.0], [235.64, 13849.0], [226.8, 13849.0]], \"data22\": [[235.64, 0.0], [244.48, 0.0], [244.48, 24187.0], [235.64, 24187.0]], \"data05\": [[85.36, 0.0], [94.2, 0.0], [94.2, 5200.0], [85.36, 5200.0]], \"data02\": [[58.84, 0.0], [67.68, 0.0], [67.68, 4826.0], [58.84, 4826.0]], \"data04\": [[76.52, 0.0], [85.36, 0.0], [85.36, 21086.0], [76.52, 21086.0]], \"data26\": [[271.0, 0.0], [279.84000000000003, 0.0], [279.84000000000003, 18539.0], [271.0, 18539.0]], \"data01\": [[50.0, 0.0], [58.84, 0.0], [58.84, 7278.0], [50.0, 7278.0]], \"data23\": [[244.47999999999996, 0.0], [253.31999999999996, 0.0], [253.31999999999996, 13534.0], [244.47999999999996, 13534.0]], \"data24\": [[253.32000000000002, 0.0], [262.15999999999997, 0.0], [262.15999999999997, 20939.0], [253.32000000000002, 20939.0]], \"data03\": [[67.68, 0.0], [76.52, 0.0], [76.52, 21335.0], [67.68, 21335.0]], \"data27\": [[279.84000000000003, 0.0], [288.68, 0.0], [288.68, 374450.0], [279.84000000000003, 374450.0]], \"data07\": [[103.03999999999999, 0.0], [111.88, 0.0], [111.88, 4873.0], [103.03999999999999, 4873.0]], \"data37\": [[368.24, 0.0], [377.08, 0.0], [377.08, 432735.0], [368.24, 432735.0]], \"data36\": [[359.4, 0.0], [368.24, 0.0], [368.24, 476711.0], [359.4, 476711.0]], \"data35\": [[350.56000000000006, 0.0], [359.40000000000003, 0.0], [359.40000000000003, 980371.0], [350.56000000000006, 980371.0]], \"data34\": [[341.71999999999997, 0.0], [350.56, 0.0], [350.56, 376360.0], [341.71999999999997, 376360.0]], \"data25\": [[262.15999999999997, 0.0], [271.0, 0.0], [271.0, 19809.0], [262.15999999999997, 19809.0]], \"data32\": [[324.0400000000001, 0.0], [332.88000000000005, 0.0], [332.88000000000005, 365639.0], [324.0400000000001, 365639.0]], \"data31\": [[315.2, 0.0], [324.04, 0.0], [324.04, 213208.0], [315.2, 213208.0]], \"data30\": [[306.36, 0.0], [315.2, 0.0], [315.2, 224980.0], [306.36, 224980.0]], \"data39\": [[385.9200000000001, 0.0], [394.76000000000005, 0.0], [394.76000000000005, 228558.0], [385.9200000000001, 228558.0]], \"data38\": [[377.08, 0.0], [385.92, 0.0], [385.92, 409744.0], [377.08, 409744.0]], \"data19\": [[209.12, 0.0], [217.96, 0.0], [217.96, 10046.0], [209.12, 10046.0]], \"data18\": [[200.27999999999997, 0.0], [209.11999999999998, 0.0], [209.11999999999998, 9748.0], [200.27999999999997, 9748.0]], \"data15\": [[173.76, 0.0], [182.6, 0.0], [182.6, 10814.0], [173.76, 10814.0]], \"data14\": [[164.92000000000002, 0.0], [173.76, 0.0], [173.76, 9985.0], [164.92000000000002, 9985.0]], \"data17\": [[191.44, 0.0], [200.28, 0.0], [200.28, 9804.0], [191.44, 9804.0]], \"data16\": [[182.59999999999997, 0.0], [191.43999999999997, 0.0], [191.43999999999997, 78746.0], [182.59999999999997, 78746.0]], \"data11\": [[138.39999999999998, 0.0], [147.23999999999998, 0.0], [147.23999999999998, 9550.0], [138.39999999999998, 9550.0]], \"data10\": [[129.56, 0.0], [138.4, 0.0], [138.4, 8821.0], [129.56, 8821.0]], \"data13\": [[156.07999999999998, 0.0], [164.92000000000002, 0.0], [164.92000000000002, 8856.0], [156.07999999999998, 8856.0]], \"data12\": [[147.24, 0.0], [156.07999999999998, 0.0], [156.07999999999998, 9621.0], [147.24, 9621.0]], \"data29\": [[297.52, 0.0], [306.36, 0.0], [306.36, 6444497.0], [297.52, 6444497.0]], \"data33\": [[332.88, 0.0], [341.71999999999997, 0.0], [341.71999999999997, 498332.0], [332.88, 498332.0]]}, \"id\": \"el34074379637776\"});\n",
       "   }(mpld3);\n",
       "}else if(typeof define === \"function\" && define.amd){\n",
       "   // require.js is available: use it to load d3/mpld3\n",
       "   require.config({paths: {d3: \"https://mpld3.github.io/js/d3.v3.min\"}});\n",
       "   require([\"d3\"], function(d3){\n",
       "      window.d3 = d3;\n",
       "      mpld3_load_lib(\"https://mpld3.github.io/js/mpld3.v0.2.js\", function(){\n",
       "         \n",
       "         mpld3.draw_figure(\"fig_el340743796377767783775739\", {\"axes\": [{\"xlim\": [50.0, 500.0], \"yscale\": \"linear\", \"axesbg\": \"#E5E5E5\", \"texts\": [{\"v_baseline\": \"hanging\", \"h_anchor\": \"middle\", \"color\": \"#555555\", \"text\": \"Sequence Length, nt\", \"coordinates\": \"axes\", \"zorder\": 3, \"alpha\": 1, \"fontsize\": 12.0, \"position\": [0.5, -0.065710872162485071], \"rotation\": -0.0, \"id\": \"el34074332274256\"}, {\"v_baseline\": \"auto\", \"h_anchor\": \"middle\", \"color\": \"#555555\", \"text\": \"Count\", \"coordinates\": \"axes\", \"zorder\": 3, \"alpha\": 1, \"fontsize\": 12.0, \"position\": [-0.10152329749103942, 0.5], \"rotation\": -90.0, \"id\": \"el34076297012624\"}], \"zoomable\": true, \"images\": [], \"xdomain\": [50.0, 500.0], \"ylim\": [0.0, 7000000.0], \"paths\": [{\"edgecolor\": \"#EEEEEE\", \"facecolor\": \"#E24A33\", \"edgewidth\": 0.5, \"pathcodes\": [\"M\", \"L\", \"L\", \"L\", \"Z\"], \"yindex\": 1, \"coordinates\": \"data\", \"dasharray\": \"10,0\", \"zorder\": 1, \"alpha\": 1, \"xindex\": 0, \"data\": \"data01\", \"id\": \"el34074384025040\"}, {\"edgecolor\": \"#EEEEEE\", \"facecolor\": \"#E24A33\", \"edgewidth\": 0.5, \"pathcodes\": [\"M\", \"L\", \"L\", \"L\", \"Z\"], \"yindex\": 1, \"coordinates\": \"data\", \"dasharray\": \"10,0\", \"zorder\": 1, \"alpha\": 1, \"xindex\": 0, \"data\": \"data02\", \"id\": \"el34074384026320\"}, {\"edgecolor\": \"#EEEEEE\", \"facecolor\": \"#E24A33\", \"edgewidth\": 0.5, \"pathcodes\": [\"M\", \"L\", \"L\", \"L\", \"Z\"], \"yindex\": 1, \"coordinates\": \"data\", \"dasharray\": \"10,0\", \"zorder\": 1, \"alpha\": 1, \"xindex\": 0, \"data\": \"data03\", \"id\": \"el34074384098064\"}, {\"edgecolor\": \"#EEEEEE\", \"facecolor\": \"#E24A33\", \"edgewidth\": 0.5, \"pathcodes\": [\"M\", \"L\", \"L\", \"L\", \"Z\"], \"yindex\": 1, \"coordinates\": \"data\", \"dasharray\": \"10,0\", \"zorder\": 1, \"alpha\": 1, \"xindex\": 0, \"data\": \"data04\", \"id\": \"el34074384099728\"}, {\"edgecolor\": \"#EEEEEE\", \"facecolor\": \"#E24A33\", \"edgewidth\": 0.5, \"pathcodes\": [\"M\", \"L\", \"L\", \"L\", \"Z\"], \"yindex\": 1, \"coordinates\": \"data\", \"dasharray\": \"10,0\", \"zorder\": 1, \"alpha\": 1, \"xindex\": 0, \"data\": \"data05\", \"id\": \"el34074384248912\"}, {\"edgecolor\": \"#EEEEEE\", \"facecolor\": \"#E24A33\", \"edgewidth\": 0.5, \"pathcodes\": [\"M\", \"L\", \"L\", \"L\", \"Z\"], \"yindex\": 1, \"coordinates\": \"data\", \"dasharray\": \"10,0\", \"zorder\": 1, \"alpha\": 1, \"xindex\": 0, \"data\": \"data06\", \"id\": \"el34074384250576\"}, {\"edgecolor\": \"#EEEEEE\", \"facecolor\": \"#E24A33\", \"edgewidth\": 0.5, \"pathcodes\": [\"M\", \"L\", \"L\", \"L\", \"Z\"], \"yindex\": 1, \"coordinates\": \"data\", \"dasharray\": \"10,0\", \"zorder\": 1, \"alpha\": 1, \"xindex\": 0, \"data\": \"data07\", \"id\": \"el34074384251856\"}, {\"edgecolor\": \"#EEEEEE\", \"facecolor\": \"#E24A33\", \"edgewidth\": 0.5, \"pathcodes\": [\"M\", \"L\", \"L\", \"L\", \"Z\"], \"yindex\": 1, \"coordinates\": \"data\", \"dasharray\": \"10,0\", \"zorder\": 1, \"alpha\": 1, \"xindex\": 0, \"data\": \"data08\", \"id\": \"el34074384077840\"}, {\"edgecolor\": \"#EEEEEE\", \"facecolor\": \"#E24A33\", \"edgewidth\": 0.5, \"pathcodes\": [\"M\", \"L\", \"L\", \"L\", \"Z\"], \"yindex\": 1, \"coordinates\": \"data\", \"dasharray\": \"10,0\", \"zorder\": 1, \"alpha\": 1, \"xindex\": 0, \"data\": \"data09\", \"id\": \"el34074384079504\"}, {\"edgecolor\": \"#EEEEEE\", \"facecolor\": \"#E24A33\", \"edgewidth\": 0.5, \"pathcodes\": [\"M\", \"L\", \"L\", \"L\", \"Z\"], \"yindex\": 1, \"coordinates\": \"data\", \"dasharray\": \"10,0\", \"zorder\": 1, \"alpha\": 1, \"xindex\": 0, \"data\": \"data10\", \"id\": \"el34074384294224\"}, {\"edgecolor\": \"#EEEEEE\", \"facecolor\": \"#E24A33\", \"edgewidth\": 0.5, \"pathcodes\": [\"M\", \"L\", \"L\", \"L\", \"Z\"], \"yindex\": 1, \"coordinates\": \"data\", \"dasharray\": \"10,0\", \"zorder\": 1, \"alpha\": 1, \"xindex\": 0, \"data\": \"data11\", \"id\": \"el34074384295888\"}, {\"edgecolor\": \"#EEEEEE\", \"facecolor\": \"#E24A33\", \"edgewidth\": 0.5, \"pathcodes\": [\"M\", \"L\", \"L\", \"L\", \"Z\"], \"yindex\": 1, \"coordinates\": \"data\", \"dasharray\": \"10,0\", \"zorder\": 1, \"alpha\": 1, \"xindex\": 0, \"data\": \"data12\", \"id\": \"el34074380582544\"}, {\"edgecolor\": \"#EEEEEE\", \"facecolor\": \"#E24A33\", \"edgewidth\": 0.5, \"pathcodes\": [\"M\", \"L\", \"L\", \"L\", \"Z\"], \"yindex\": 1, \"coordinates\": \"data\", \"dasharray\": \"10,0\", \"zorder\": 1, \"alpha\": 1, \"xindex\": 0, \"data\": \"data13\", \"id\": \"el34074380584208\"}, {\"edgecolor\": \"#EEEEEE\", \"facecolor\": \"#E24A33\", \"edgewidth\": 0.5, \"pathcodes\": [\"M\", \"L\", \"L\", \"L\", \"Z\"], \"yindex\": 1, \"coordinates\": \"data\", \"dasharray\": \"10,0\", \"zorder\": 1, \"alpha\": 1, \"xindex\": 0, \"data\": \"data14\", \"id\": \"el34074380585872\"}, {\"edgecolor\": \"#EEEEEE\", \"facecolor\": \"#E24A33\", \"edgewidth\": 0.5, \"pathcodes\": [\"M\", \"L\", \"L\", \"L\", \"Z\"], \"yindex\": 1, \"coordinates\": \"data\", \"dasharray\": \"10,0\", \"zorder\": 1, \"alpha\": 1, \"xindex\": 0, \"data\": \"data15\", \"id\": \"el34074380444240\"}, {\"edgecolor\": \"#EEEEEE\", \"facecolor\": \"#E24A33\", \"edgewidth\": 0.5, \"pathcodes\": [\"M\", \"L\", \"L\", \"L\", \"Z\"], \"yindex\": 1, \"coordinates\": \"data\", \"dasharray\": \"10,0\", \"zorder\": 1, \"alpha\": 1, \"xindex\": 0, \"data\": \"data16\", \"id\": \"el34074380445904\"}, {\"edgecolor\": \"#EEEEEE\", \"facecolor\": \"#E24A33\", \"edgewidth\": 0.5, \"pathcodes\": [\"M\", \"L\", \"L\", \"L\", \"Z\"], \"yindex\": 1, \"coordinates\": \"data\", \"dasharray\": \"10,0\", \"zorder\": 1, \"alpha\": 1, \"xindex\": 0, \"data\": \"data17\", \"id\": \"el34074380529552\"}, {\"edgecolor\": \"#EEEEEE\", \"facecolor\": \"#E24A33\", \"edgewidth\": 0.5, \"pathcodes\": [\"M\", \"L\", \"L\", \"L\", \"Z\"], \"yindex\": 1, \"coordinates\": \"data\", \"dasharray\": \"10,0\", \"zorder\": 1, \"alpha\": 1, \"xindex\": 0, \"data\": \"data18\", \"id\": \"el34074380531216\"}, {\"edgecolor\": \"#EEEEEE\", \"facecolor\": \"#E24A33\", \"edgewidth\": 0.5, \"pathcodes\": [\"M\", \"L\", \"L\", \"L\", \"Z\"], \"yindex\": 1, \"coordinates\": \"data\", \"dasharray\": \"10,0\", \"zorder\": 1, \"alpha\": 1, \"xindex\": 0, \"data\": \"data19\", \"id\": \"el34074380532496\"}, {\"edgecolor\": \"#EEEEEE\", \"facecolor\": \"#E24A33\", \"edgewidth\": 0.5, \"pathcodes\": [\"M\", \"L\", \"L\", \"L\", \"Z\"], \"yindex\": 1, \"coordinates\": \"data\", \"dasharray\": \"10,0\", \"zorder\": 1, \"alpha\": 1, \"xindex\": 0, \"data\": \"data20\", \"id\": \"el34074380473168\"}, {\"edgecolor\": \"#EEEEEE\", \"facecolor\": \"#E24A33\", \"edgewidth\": 0.5, \"pathcodes\": [\"M\", \"L\", \"L\", \"L\", \"Z\"], \"yindex\": 1, \"coordinates\": \"data\", \"dasharray\": \"10,0\", \"zorder\": 1, \"alpha\": 1, \"xindex\": 0, \"data\": \"data21\", \"id\": \"el34074380474832\"}, {\"edgecolor\": \"#EEEEEE\", \"facecolor\": \"#E24A33\", \"edgewidth\": 0.5, \"pathcodes\": [\"M\", \"L\", \"L\", \"L\", \"Z\"], \"yindex\": 1, \"coordinates\": \"data\", \"dasharray\": \"10,0\", \"zorder\": 1, \"alpha\": 1, \"xindex\": 0, \"data\": \"data22\", \"id\": \"el34074380419216\"}, {\"edgecolor\": \"#EEEEEE\", \"facecolor\": \"#E24A33\", \"edgewidth\": 0.5, \"pathcodes\": [\"M\", \"L\", \"L\", \"L\", \"Z\"], \"yindex\": 1, \"coordinates\": \"data\", \"dasharray\": \"10,0\", \"zorder\": 1, \"alpha\": 1, \"xindex\": 0, \"data\": \"data23\", \"id\": \"el34074380420880\"}, {\"edgecolor\": \"#EEEEEE\", \"facecolor\": \"#E24A33\", \"edgewidth\": 0.5, \"pathcodes\": [\"M\", \"L\", \"L\", \"L\", \"Z\"], \"yindex\": 1, \"coordinates\": \"data\", \"dasharray\": \"10,0\", \"zorder\": 1, \"alpha\": 1, \"xindex\": 0, \"data\": \"data24\", \"id\": \"el34074377874896\"}, {\"edgecolor\": \"#EEEEEE\", \"facecolor\": \"#E24A33\", \"edgewidth\": 0.5, \"pathcodes\": [\"M\", \"L\", \"L\", \"L\", \"Z\"], \"yindex\": 1, \"coordinates\": \"data\", \"dasharray\": \"10,0\", \"zorder\": 1, \"alpha\": 1, \"xindex\": 0, \"data\": \"data25\", \"id\": \"el34074377876560\"}, {\"edgecolor\": \"#EEEEEE\", \"facecolor\": \"#E24A33\", \"edgewidth\": 0.5, \"pathcodes\": [\"M\", \"L\", \"L\", \"L\", \"Z\"], \"yindex\": 1, \"coordinates\": \"data\", \"dasharray\": \"10,0\", \"zorder\": 1, \"alpha\": 1, \"xindex\": 0, \"data\": \"data26\", \"id\": \"el34074377878224\"}, {\"edgecolor\": \"#EEEEEE\", \"facecolor\": \"#E24A33\", \"edgewidth\": 0.5, \"pathcodes\": [\"M\", \"L\", \"L\", \"L\", \"Z\"], \"yindex\": 1, \"coordinates\": \"data\", \"dasharray\": \"10,0\", \"zorder\": 1, \"alpha\": 1, \"xindex\": 0, \"data\": \"data27\", \"id\": \"el34074377916816\"}, {\"edgecolor\": \"#EEEEEE\", \"facecolor\": \"#E24A33\", \"edgewidth\": 0.5, \"pathcodes\": [\"M\", \"L\", \"L\", \"L\", \"Z\"], \"yindex\": 1, \"coordinates\": \"data\", \"dasharray\": \"10,0\", \"zorder\": 1, \"alpha\": 1, \"xindex\": 0, \"data\": \"data28\", \"id\": \"el34074377918480\"}, {\"edgecolor\": \"#EEEEEE\", \"facecolor\": \"#E24A33\", \"edgewidth\": 0.5, \"pathcodes\": [\"M\", \"L\", \"L\", \"L\", \"Z\"], \"yindex\": 1, \"coordinates\": \"data\", \"dasharray\": \"10,0\", \"zorder\": 1, \"alpha\": 1, \"xindex\": 0, \"data\": \"data29\", \"id\": \"el34074377862864\"}, {\"edgecolor\": \"#EEEEEE\", \"facecolor\": \"#E24A33\", \"edgewidth\": 0.5, \"pathcodes\": [\"M\", \"L\", \"L\", \"L\", \"Z\"], \"yindex\": 1, \"coordinates\": \"data\", \"dasharray\": \"10,0\", \"zorder\": 1, \"alpha\": 1, \"xindex\": 0, \"data\": \"data30\", \"id\": \"el34074377864528\"}, {\"edgecolor\": \"#EEEEEE\", \"facecolor\": \"#E24A33\", \"edgewidth\": 0.5, \"pathcodes\": [\"M\", \"L\", \"L\", \"L\", \"Z\"], \"yindex\": 1, \"coordinates\": \"data\", \"dasharray\": \"10,0\", \"zorder\": 1, \"alpha\": 1, \"xindex\": 0, \"data\": \"data31\", \"id\": \"el34074377866192\"}, {\"edgecolor\": \"#EEEEEE\", \"facecolor\": \"#E24A33\", \"edgewidth\": 0.5, \"pathcodes\": [\"M\", \"L\", \"L\", \"L\", \"Z\"], \"yindex\": 1, \"coordinates\": \"data\", \"dasharray\": \"10,0\", \"zorder\": 1, \"alpha\": 1, \"xindex\": 0, \"data\": \"data32\", \"id\": \"el34074377990800\"}, {\"edgecolor\": \"#EEEEEE\", \"facecolor\": \"#E24A33\", \"edgewidth\": 0.5, \"pathcodes\": [\"M\", \"L\", \"L\", \"L\", \"Z\"], \"yindex\": 1, \"coordinates\": \"data\", \"dasharray\": \"10,0\", \"zorder\": 1, \"alpha\": 1, \"xindex\": 0, \"data\": \"data33\", \"id\": \"el34074377992464\"}, {\"edgecolor\": \"#EEEEEE\", \"facecolor\": \"#E24A33\", \"edgewidth\": 0.5, \"pathcodes\": [\"M\", \"L\", \"L\", \"L\", \"Z\"], \"yindex\": 1, \"coordinates\": \"data\", \"dasharray\": \"10,0\", \"zorder\": 1, \"alpha\": 1, \"xindex\": 0, \"data\": \"data34\", \"id\": \"el34074377936848\"}, {\"edgecolor\": \"#EEEEEE\", \"facecolor\": \"#E24A33\", \"edgewidth\": 0.5, \"pathcodes\": [\"M\", \"L\", \"L\", \"L\", \"Z\"], \"yindex\": 1, \"coordinates\": \"data\", \"dasharray\": \"10,0\", \"zorder\": 1, \"alpha\": 1, \"xindex\": 0, \"data\": \"data35\", \"id\": \"el34074377938512\"}, {\"edgecolor\": \"#EEEEEE\", \"facecolor\": \"#E24A33\", \"edgewidth\": 0.5, \"pathcodes\": [\"M\", \"L\", \"L\", \"L\", \"Z\"], \"yindex\": 1, \"coordinates\": \"data\", \"dasharray\": \"10,0\", \"zorder\": 1, \"alpha\": 1, \"xindex\": 0, \"data\": \"data36\", \"id\": \"el34074377939792\"}, {\"edgecolor\": \"#EEEEEE\", \"facecolor\": \"#E24A33\", \"edgewidth\": 0.5, \"pathcodes\": [\"M\", \"L\", \"L\", \"L\", \"Z\"], \"yindex\": 1, \"coordinates\": \"data\", \"dasharray\": \"10,0\", \"zorder\": 1, \"alpha\": 1, \"xindex\": 0, \"data\": \"data37\", \"id\": \"el34074384528272\"}, {\"edgecolor\": \"#EEEEEE\", \"facecolor\": \"#E24A33\", \"edgewidth\": 0.5, \"pathcodes\": [\"M\", \"L\", \"L\", \"L\", \"Z\"], \"yindex\": 1, \"coordinates\": \"data\", \"dasharray\": \"10,0\", \"zorder\": 1, \"alpha\": 1, \"xindex\": 0, \"data\": \"data38\", \"id\": \"el34074384529936\"}, {\"edgecolor\": \"#EEEEEE\", \"facecolor\": \"#E24A33\", \"edgewidth\": 0.5, \"pathcodes\": [\"M\", \"L\", \"L\", \"L\", \"Z\"], \"yindex\": 1, \"coordinates\": \"data\", \"dasharray\": \"10,0\", \"zorder\": 1, \"alpha\": 1, \"xindex\": 0, \"data\": \"data39\", \"id\": \"el34074384478416\"}, {\"edgecolor\": \"#EEEEEE\", \"facecolor\": \"#E24A33\", \"edgewidth\": 0.5, \"pathcodes\": [\"M\", \"L\", \"L\", \"L\", \"Z\"], \"yindex\": 1, \"coordinates\": \"data\", \"dasharray\": \"10,0\", \"zorder\": 1, \"alpha\": 1, \"xindex\": 0, \"data\": \"data40\", \"id\": \"el34074384480080\"}, {\"edgecolor\": \"#EEEEEE\", \"facecolor\": \"#E24A33\", \"edgewidth\": 0.5, \"pathcodes\": [\"M\", \"L\", \"L\", \"L\", \"Z\"], \"yindex\": 1, \"coordinates\": \"data\", \"dasharray\": \"10,0\", \"zorder\": 1, \"alpha\": 1, \"xindex\": 0, \"data\": \"data41\", \"id\": \"el34074384395792\"}, {\"edgecolor\": \"#EEEEEE\", \"facecolor\": \"#E24A33\", \"edgewidth\": 0.5, \"pathcodes\": [\"M\", \"L\", \"L\", \"L\", \"Z\"], \"yindex\": 1, \"coordinates\": \"data\", \"dasharray\": \"10,0\", \"zorder\": 1, \"alpha\": 1, \"xindex\": 0, \"data\": \"data42\", \"id\": \"el34074384397456\"}, {\"edgecolor\": \"#EEEEEE\", \"facecolor\": \"#E24A33\", \"edgewidth\": 0.5, \"pathcodes\": [\"M\", \"L\", \"L\", \"L\", \"Z\"], \"yindex\": 1, \"coordinates\": \"data\", \"dasharray\": \"10,0\", \"zorder\": 1, \"alpha\": 1, \"xindex\": 0, \"data\": \"data43\", \"id\": \"el34074384399120\"}, {\"edgecolor\": \"#EEEEEE\", \"facecolor\": \"#E24A33\", \"edgewidth\": 0.5, \"pathcodes\": [\"M\", \"L\", \"L\", \"L\", \"Z\"], \"yindex\": 1, \"coordinates\": \"data\", \"dasharray\": \"10,0\", \"zorder\": 1, \"alpha\": 1, \"xindex\": 0, \"data\": \"data44\", \"id\": \"el34074384437712\"}, {\"edgecolor\": \"#EEEEEE\", \"facecolor\": \"#E24A33\", \"edgewidth\": 0.5, \"pathcodes\": [\"M\", \"L\", \"L\", \"L\", \"Z\"], \"yindex\": 1, \"coordinates\": \"data\", \"dasharray\": \"10,0\", \"zorder\": 1, \"alpha\": 1, \"xindex\": 0, \"data\": \"data45\", \"id\": \"el34074384439376\"}, {\"edgecolor\": \"#EEEEEE\", \"facecolor\": \"#E24A33\", \"edgewidth\": 0.5, \"pathcodes\": [\"M\", \"L\", \"L\", \"L\", \"Z\"], \"yindex\": 1, \"coordinates\": \"data\", \"dasharray\": \"10,0\", \"zorder\": 1, \"alpha\": 1, \"xindex\": 0, \"data\": \"data46\", \"id\": \"el34074378882832\"}, {\"edgecolor\": \"#EEEEEE\", \"facecolor\": \"#E24A33\", \"edgewidth\": 0.5, \"pathcodes\": [\"M\", \"L\", \"L\", \"L\", \"Z\"], \"yindex\": 1, \"coordinates\": \"data\", \"dasharray\": \"10,0\", \"zorder\": 1, \"alpha\": 1, \"xindex\": 0, \"data\": \"data47\", \"id\": \"el34074378884496\"}, {\"edgecolor\": \"#EEEEEE\", \"facecolor\": \"#E24A33\", \"edgewidth\": 0.5, \"pathcodes\": [\"M\", \"L\", \"L\", \"L\", \"Z\"], \"yindex\": 1, \"coordinates\": \"data\", \"dasharray\": \"10,0\", \"zorder\": 1, \"alpha\": 1, \"xindex\": 0, \"data\": \"data48\", \"id\": \"el34074378885776\"}, {\"edgecolor\": \"#EEEEEE\", \"facecolor\": \"#E24A33\", \"edgewidth\": 0.5, \"pathcodes\": [\"M\", \"L\", \"L\", \"L\", \"Z\"], \"yindex\": 1, \"coordinates\": \"data\", \"dasharray\": \"10,0\", \"zorder\": 1, \"alpha\": 1, \"xindex\": 0, \"data\": \"data49\", \"id\": \"el34074378982096\"}, {\"edgecolor\": \"#EEEEEE\", \"facecolor\": \"#E24A33\", \"edgewidth\": 0.5, \"pathcodes\": [\"M\", \"L\", \"L\", \"L\", \"Z\"], \"yindex\": 1, \"coordinates\": \"data\", \"dasharray\": \"10,0\", \"zorder\": 1, \"alpha\": 1, \"xindex\": 0, \"data\": \"data50\", \"id\": \"el34074378983760\"}], \"sharey\": [], \"sharex\": [], \"axesbgalpha\": null, \"axes\": [{\"scale\": \"linear\", \"tickformat\": null, \"grid\": {\"color\": \"#FFFFFF\", \"alpha\": 1.0, \"dasharray\": \"10,0\", \"gridOn\": true}, \"fontsize\": 10.0, \"position\": \"bottom\", \"nticks\": 10, \"tickvalues\": null}, {\"scale\": \"linear\", \"tickformat\": null, \"grid\": {\"color\": \"#FFFFFF\", \"alpha\": 1.0, \"dasharray\": \"10,0\", \"gridOn\": true}, \"fontsize\": 10.0, \"position\": \"left\", \"nticks\": 8, \"tickvalues\": null}], \"lines\": [], \"markers\": [], \"id\": \"el34074379637840\", \"ydomain\": [0.0, 7000000.0], \"collections\": [], \"xscale\": \"linear\", \"bbox\": [0.125, 0.125, 0.77500000000000002, 0.77500000000000002]}], \"height\": 480.0, \"width\": 800.0, \"plugins\": [{\"type\": \"reset\"}, {\"enabled\": false, \"button\": true, \"type\": \"zoom\"}, {\"enabled\": false, \"button\": true, \"type\": \"boxzoom\"}], \"data\": {\"data42\": [[412.44000000000005, 0.0], [421.28000000000003, 0.0], [421.28000000000003, 142605.0], [412.44000000000005, 142605.0]], \"data43\": [[421.28, 0.0], [430.12, 0.0], [430.12, 123491.0], [421.28, 123491.0]], \"data40\": [[394.76, 0.0], [403.6, 0.0], [403.6, 210156.0], [394.76, 210156.0]], \"data41\": [[403.6, 0.0], [412.44, 0.0], [412.44, 162143.0], [403.6, 162143.0]], \"data46\": [[447.80000000000007, 0.0], [456.64000000000004, 0.0], [456.64000000000004, 81092.0], [447.80000000000007, 81092.0]], \"data47\": [[456.64, 0.0], [465.48, 0.0], [465.48, 61591.0], [456.64, 61591.0]], \"data44\": [[430.12, 0.0], [438.96, 0.0], [438.96, 97668.0], [430.12, 97668.0]], \"data45\": [[438.96, 0.0], [447.8, 0.0], [447.8, 96281.0], [438.96, 96281.0]], \"data48\": [[465.48, 0.0], [474.32, 0.0], [474.32, 38919.0], [465.48, 38919.0]], \"data49\": [[474.32000000000005, 0.0], [483.16, 0.0], [483.16, 19960.0], [474.32000000000005, 19960.0]], \"data50\": [[483.15999999999997, 0.0], [492.0, 0.0], [492.0, 9173.0], [483.15999999999997, 9173.0]], \"data28\": [[288.68000000000006, 0.0], [297.52000000000004, 0.0], [297.52000000000004, 1542376.0], [288.68000000000006, 1542376.0]], \"data06\": [[94.20000000000002, 0.0], [103.04, 0.0], [103.04, 4621.0], [94.20000000000002, 4621.0]], \"data08\": [[111.88, 0.0], [120.72, 0.0], [120.72, 7859.0], [111.88, 7859.0]], \"data09\": [[120.72, 0.0], [129.56, 0.0], [129.56, 8064.0], [120.72, 8064.0]], \"data20\": [[217.95999999999998, 0.0], [226.79999999999998, 0.0], [226.79999999999998, 13651.0], [217.95999999999998, 13651.0]], \"data21\": [[226.8, 0.0], [235.64, 0.0], [235.64, 13849.0], [226.8, 13849.0]], \"data22\": [[235.64, 0.0], [244.48, 0.0], [244.48, 24187.0], [235.64, 24187.0]], \"data05\": [[85.36, 0.0], [94.2, 0.0], [94.2, 5200.0], [85.36, 5200.0]], \"data02\": [[58.84, 0.0], [67.68, 0.0], [67.68, 4826.0], [58.84, 4826.0]], \"data04\": [[76.52, 0.0], [85.36, 0.0], [85.36, 21086.0], [76.52, 21086.0]], \"data26\": [[271.0, 0.0], [279.84000000000003, 0.0], [279.84000000000003, 18539.0], [271.0, 18539.0]], \"data01\": [[50.0, 0.0], [58.84, 0.0], [58.84, 7278.0], [50.0, 7278.0]], \"data23\": [[244.47999999999996, 0.0], [253.31999999999996, 0.0], [253.31999999999996, 13534.0], [244.47999999999996, 13534.0]], \"data24\": [[253.32000000000002, 0.0], [262.15999999999997, 0.0], [262.15999999999997, 20939.0], [253.32000000000002, 20939.0]], \"data03\": [[67.68, 0.0], [76.52, 0.0], [76.52, 21335.0], [67.68, 21335.0]], \"data27\": [[279.84000000000003, 0.0], [288.68, 0.0], [288.68, 374450.0], [279.84000000000003, 374450.0]], \"data07\": [[103.03999999999999, 0.0], [111.88, 0.0], [111.88, 4873.0], [103.03999999999999, 4873.0]], \"data37\": [[368.24, 0.0], [377.08, 0.0], [377.08, 432735.0], [368.24, 432735.0]], \"data36\": [[359.4, 0.0], [368.24, 0.0], [368.24, 476711.0], [359.4, 476711.0]], \"data35\": [[350.56000000000006, 0.0], [359.40000000000003, 0.0], [359.40000000000003, 980371.0], [350.56000000000006, 980371.0]], \"data34\": [[341.71999999999997, 0.0], [350.56, 0.0], [350.56, 376360.0], [341.71999999999997, 376360.0]], \"data25\": [[262.15999999999997, 0.0], [271.0, 0.0], [271.0, 19809.0], [262.15999999999997, 19809.0]], \"data32\": [[324.0400000000001, 0.0], [332.88000000000005, 0.0], [332.88000000000005, 365639.0], [324.0400000000001, 365639.0]], \"data31\": [[315.2, 0.0], [324.04, 0.0], [324.04, 213208.0], [315.2, 213208.0]], \"data30\": [[306.36, 0.0], [315.2, 0.0], [315.2, 224980.0], [306.36, 224980.0]], \"data39\": [[385.9200000000001, 0.0], [394.76000000000005, 0.0], [394.76000000000005, 228558.0], [385.9200000000001, 228558.0]], \"data38\": [[377.08, 0.0], [385.92, 0.0], [385.92, 409744.0], [377.08, 409744.0]], \"data19\": [[209.12, 0.0], [217.96, 0.0], [217.96, 10046.0], [209.12, 10046.0]], \"data18\": [[200.27999999999997, 0.0], [209.11999999999998, 0.0], [209.11999999999998, 9748.0], [200.27999999999997, 9748.0]], \"data15\": [[173.76, 0.0], [182.6, 0.0], [182.6, 10814.0], [173.76, 10814.0]], \"data14\": [[164.92000000000002, 0.0], [173.76, 0.0], [173.76, 9985.0], [164.92000000000002, 9985.0]], \"data17\": [[191.44, 0.0], [200.28, 0.0], [200.28, 9804.0], [191.44, 9804.0]], \"data16\": [[182.59999999999997, 0.0], [191.43999999999997, 0.0], [191.43999999999997, 78746.0], [182.59999999999997, 78746.0]], \"data11\": [[138.39999999999998, 0.0], [147.23999999999998, 0.0], [147.23999999999998, 9550.0], [138.39999999999998, 9550.0]], \"data10\": [[129.56, 0.0], [138.4, 0.0], [138.4, 8821.0], [129.56, 8821.0]], \"data13\": [[156.07999999999998, 0.0], [164.92000000000002, 0.0], [164.92000000000002, 8856.0], [156.07999999999998, 8856.0]], \"data12\": [[147.24, 0.0], [156.07999999999998, 0.0], [156.07999999999998, 9621.0], [147.24, 9621.0]], \"data29\": [[297.52, 0.0], [306.36, 0.0], [306.36, 6444497.0], [297.52, 6444497.0]], \"data33\": [[332.88, 0.0], [341.71999999999997, 0.0], [341.71999999999997, 498332.0], [332.88, 498332.0]]}, \"id\": \"el34074379637776\"});\n",
       "      });\n",
       "    });\n",
       "}else{\n",
       "    // require.js not available: dynamically load d3 & mpld3\n",
       "    mpld3_load_lib(\"https://mpld3.github.io/js/d3.v3.min.js\", function(){\n",
       "         mpld3_load_lib(\"https://mpld3.github.io/js/mpld3.v0.2.js\", function(){\n",
       "                 \n",
       "                 mpld3.draw_figure(\"fig_el340743796377767783775739\", {\"axes\": [{\"xlim\": [50.0, 500.0], \"yscale\": \"linear\", \"axesbg\": \"#E5E5E5\", \"texts\": [{\"v_baseline\": \"hanging\", \"h_anchor\": \"middle\", \"color\": \"#555555\", \"text\": \"Sequence Length, nt\", \"coordinates\": \"axes\", \"zorder\": 3, \"alpha\": 1, \"fontsize\": 12.0, \"position\": [0.5, -0.065710872162485071], \"rotation\": -0.0, \"id\": \"el34074332274256\"}, {\"v_baseline\": \"auto\", \"h_anchor\": \"middle\", \"color\": \"#555555\", \"text\": \"Count\", \"coordinates\": \"axes\", \"zorder\": 3, \"alpha\": 1, \"fontsize\": 12.0, \"position\": [-0.10152329749103942, 0.5], \"rotation\": -90.0, \"id\": \"el34076297012624\"}], \"zoomable\": true, \"images\": [], \"xdomain\": [50.0, 500.0], \"ylim\": [0.0, 7000000.0], \"paths\": [{\"edgecolor\": \"#EEEEEE\", \"facecolor\": \"#E24A33\", \"edgewidth\": 0.5, \"pathcodes\": [\"M\", \"L\", \"L\", \"L\", \"Z\"], \"yindex\": 1, \"coordinates\": \"data\", \"dasharray\": \"10,0\", \"zorder\": 1, \"alpha\": 1, \"xindex\": 0, \"data\": \"data01\", \"id\": \"el34074384025040\"}, {\"edgecolor\": \"#EEEEEE\", \"facecolor\": \"#E24A33\", \"edgewidth\": 0.5, \"pathcodes\": [\"M\", \"L\", \"L\", \"L\", \"Z\"], \"yindex\": 1, \"coordinates\": \"data\", \"dasharray\": \"10,0\", \"zorder\": 1, \"alpha\": 1, \"xindex\": 0, \"data\": \"data02\", \"id\": \"el34074384026320\"}, {\"edgecolor\": \"#EEEEEE\", \"facecolor\": \"#E24A33\", \"edgewidth\": 0.5, \"pathcodes\": [\"M\", \"L\", \"L\", \"L\", \"Z\"], \"yindex\": 1, \"coordinates\": \"data\", \"dasharray\": \"10,0\", \"zorder\": 1, \"alpha\": 1, \"xindex\": 0, \"data\": \"data03\", \"id\": \"el34074384098064\"}, {\"edgecolor\": \"#EEEEEE\", \"facecolor\": \"#E24A33\", \"edgewidth\": 0.5, \"pathcodes\": [\"M\", \"L\", \"L\", \"L\", \"Z\"], \"yindex\": 1, \"coordinates\": \"data\", \"dasharray\": \"10,0\", \"zorder\": 1, \"alpha\": 1, \"xindex\": 0, \"data\": \"data04\", \"id\": \"el34074384099728\"}, {\"edgecolor\": \"#EEEEEE\", \"facecolor\": \"#E24A33\", \"edgewidth\": 0.5, \"pathcodes\": [\"M\", \"L\", \"L\", \"L\", \"Z\"], \"yindex\": 1, \"coordinates\": \"data\", \"dasharray\": \"10,0\", \"zorder\": 1, \"alpha\": 1, \"xindex\": 0, \"data\": \"data05\", \"id\": \"el34074384248912\"}, {\"edgecolor\": \"#EEEEEE\", \"facecolor\": \"#E24A33\", \"edgewidth\": 0.5, \"pathcodes\": [\"M\", \"L\", \"L\", \"L\", \"Z\"], \"yindex\": 1, \"coordinates\": \"data\", \"dasharray\": \"10,0\", \"zorder\": 1, \"alpha\": 1, \"xindex\": 0, \"data\": \"data06\", \"id\": \"el34074384250576\"}, {\"edgecolor\": \"#EEEEEE\", \"facecolor\": \"#E24A33\", \"edgewidth\": 0.5, \"pathcodes\": [\"M\", \"L\", \"L\", \"L\", \"Z\"], \"yindex\": 1, \"coordinates\": \"data\", \"dasharray\": \"10,0\", \"zorder\": 1, \"alpha\": 1, \"xindex\": 0, \"data\": \"data07\", \"id\": \"el34074384251856\"}, {\"edgecolor\": \"#EEEEEE\", \"facecolor\": \"#E24A33\", \"edgewidth\": 0.5, \"pathcodes\": [\"M\", \"L\", \"L\", \"L\", \"Z\"], \"yindex\": 1, \"coordinates\": \"data\", \"dasharray\": \"10,0\", \"zorder\": 1, \"alpha\": 1, \"xindex\": 0, \"data\": \"data08\", \"id\": \"el34074384077840\"}, {\"edgecolor\": \"#EEEEEE\", \"facecolor\": \"#E24A33\", \"edgewidth\": 0.5, \"pathcodes\": [\"M\", \"L\", \"L\", \"L\", \"Z\"], \"yindex\": 1, \"coordinates\": \"data\", \"dasharray\": \"10,0\", \"zorder\": 1, \"alpha\": 1, \"xindex\": 0, \"data\": \"data09\", \"id\": \"el34074384079504\"}, {\"edgecolor\": \"#EEEEEE\", \"facecolor\": \"#E24A33\", \"edgewidth\": 0.5, \"pathcodes\": [\"M\", \"L\", \"L\", \"L\", \"Z\"], \"yindex\": 1, \"coordinates\": \"data\", \"dasharray\": \"10,0\", \"zorder\": 1, \"alpha\": 1, \"xindex\": 0, \"data\": \"data10\", \"id\": \"el34074384294224\"}, {\"edgecolor\": \"#EEEEEE\", \"facecolor\": \"#E24A33\", \"edgewidth\": 0.5, \"pathcodes\": [\"M\", \"L\", \"L\", \"L\", \"Z\"], \"yindex\": 1, \"coordinates\": \"data\", \"dasharray\": \"10,0\", \"zorder\": 1, \"alpha\": 1, \"xindex\": 0, \"data\": \"data11\", \"id\": \"el34074384295888\"}, {\"edgecolor\": \"#EEEEEE\", \"facecolor\": \"#E24A33\", \"edgewidth\": 0.5, \"pathcodes\": [\"M\", \"L\", \"L\", \"L\", \"Z\"], \"yindex\": 1, \"coordinates\": \"data\", \"dasharray\": \"10,0\", \"zorder\": 1, \"alpha\": 1, \"xindex\": 0, \"data\": \"data12\", \"id\": \"el34074380582544\"}, {\"edgecolor\": \"#EEEEEE\", \"facecolor\": \"#E24A33\", \"edgewidth\": 0.5, \"pathcodes\": [\"M\", \"L\", \"L\", \"L\", \"Z\"], \"yindex\": 1, \"coordinates\": \"data\", \"dasharray\": \"10,0\", \"zorder\": 1, \"alpha\": 1, \"xindex\": 0, \"data\": \"data13\", \"id\": \"el34074380584208\"}, {\"edgecolor\": \"#EEEEEE\", \"facecolor\": \"#E24A33\", \"edgewidth\": 0.5, \"pathcodes\": [\"M\", \"L\", \"L\", \"L\", \"Z\"], \"yindex\": 1, \"coordinates\": \"data\", \"dasharray\": \"10,0\", \"zorder\": 1, \"alpha\": 1, \"xindex\": 0, \"data\": \"data14\", \"id\": \"el34074380585872\"}, {\"edgecolor\": \"#EEEEEE\", \"facecolor\": \"#E24A33\", \"edgewidth\": 0.5, \"pathcodes\": [\"M\", \"L\", \"L\", \"L\", \"Z\"], \"yindex\": 1, \"coordinates\": \"data\", \"dasharray\": \"10,0\", \"zorder\": 1, \"alpha\": 1, \"xindex\": 0, \"data\": \"data15\", \"id\": \"el34074380444240\"}, {\"edgecolor\": \"#EEEEEE\", \"facecolor\": \"#E24A33\", \"edgewidth\": 0.5, \"pathcodes\": [\"M\", \"L\", \"L\", \"L\", \"Z\"], \"yindex\": 1, \"coordinates\": \"data\", \"dasharray\": \"10,0\", \"zorder\": 1, \"alpha\": 1, \"xindex\": 0, \"data\": \"data16\", \"id\": \"el34074380445904\"}, {\"edgecolor\": \"#EEEEEE\", \"facecolor\": \"#E24A33\", \"edgewidth\": 0.5, \"pathcodes\": [\"M\", \"L\", \"L\", \"L\", \"Z\"], \"yindex\": 1, \"coordinates\": \"data\", \"dasharray\": \"10,0\", \"zorder\": 1, \"alpha\": 1, \"xindex\": 0, \"data\": \"data17\", \"id\": \"el34074380529552\"}, {\"edgecolor\": \"#EEEEEE\", \"facecolor\": \"#E24A33\", \"edgewidth\": 0.5, \"pathcodes\": [\"M\", \"L\", \"L\", \"L\", \"Z\"], \"yindex\": 1, \"coordinates\": \"data\", \"dasharray\": \"10,0\", \"zorder\": 1, \"alpha\": 1, \"xindex\": 0, \"data\": \"data18\", \"id\": \"el34074380531216\"}, {\"edgecolor\": \"#EEEEEE\", \"facecolor\": \"#E24A33\", \"edgewidth\": 0.5, \"pathcodes\": [\"M\", \"L\", \"L\", \"L\", \"Z\"], \"yindex\": 1, \"coordinates\": \"data\", \"dasharray\": \"10,0\", \"zorder\": 1, \"alpha\": 1, \"xindex\": 0, \"data\": \"data19\", \"id\": \"el34074380532496\"}, {\"edgecolor\": \"#EEEEEE\", \"facecolor\": \"#E24A33\", \"edgewidth\": 0.5, \"pathcodes\": [\"M\", \"L\", \"L\", \"L\", \"Z\"], \"yindex\": 1, \"coordinates\": \"data\", \"dasharray\": \"10,0\", \"zorder\": 1, \"alpha\": 1, \"xindex\": 0, \"data\": \"data20\", \"id\": \"el34074380473168\"}, {\"edgecolor\": \"#EEEEEE\", \"facecolor\": \"#E24A33\", \"edgewidth\": 0.5, \"pathcodes\": [\"M\", \"L\", \"L\", \"L\", \"Z\"], \"yindex\": 1, \"coordinates\": \"data\", \"dasharray\": \"10,0\", \"zorder\": 1, \"alpha\": 1, \"xindex\": 0, \"data\": \"data21\", \"id\": \"el34074380474832\"}, {\"edgecolor\": \"#EEEEEE\", \"facecolor\": \"#E24A33\", \"edgewidth\": 0.5, \"pathcodes\": [\"M\", \"L\", \"L\", \"L\", \"Z\"], \"yindex\": 1, \"coordinates\": \"data\", \"dasharray\": \"10,0\", \"zorder\": 1, \"alpha\": 1, \"xindex\": 0, \"data\": \"data22\", \"id\": \"el34074380419216\"}, {\"edgecolor\": \"#EEEEEE\", \"facecolor\": \"#E24A33\", \"edgewidth\": 0.5, \"pathcodes\": [\"M\", \"L\", \"L\", \"L\", \"Z\"], \"yindex\": 1, \"coordinates\": \"data\", \"dasharray\": \"10,0\", \"zorder\": 1, \"alpha\": 1, \"xindex\": 0, \"data\": \"data23\", \"id\": \"el34074380420880\"}, {\"edgecolor\": \"#EEEEEE\", \"facecolor\": \"#E24A33\", \"edgewidth\": 0.5, \"pathcodes\": [\"M\", \"L\", \"L\", \"L\", \"Z\"], \"yindex\": 1, \"coordinates\": \"data\", \"dasharray\": \"10,0\", \"zorder\": 1, \"alpha\": 1, \"xindex\": 0, \"data\": \"data24\", \"id\": \"el34074377874896\"}, {\"edgecolor\": \"#EEEEEE\", \"facecolor\": \"#E24A33\", \"edgewidth\": 0.5, \"pathcodes\": [\"M\", \"L\", \"L\", \"L\", \"Z\"], \"yindex\": 1, \"coordinates\": \"data\", \"dasharray\": \"10,0\", \"zorder\": 1, \"alpha\": 1, \"xindex\": 0, \"data\": \"data25\", \"id\": \"el34074377876560\"}, {\"edgecolor\": \"#EEEEEE\", \"facecolor\": \"#E24A33\", \"edgewidth\": 0.5, \"pathcodes\": [\"M\", \"L\", \"L\", \"L\", \"Z\"], \"yindex\": 1, \"coordinates\": \"data\", \"dasharray\": \"10,0\", \"zorder\": 1, \"alpha\": 1, \"xindex\": 0, \"data\": \"data26\", \"id\": \"el34074377878224\"}, {\"edgecolor\": \"#EEEEEE\", \"facecolor\": \"#E24A33\", \"edgewidth\": 0.5, \"pathcodes\": [\"M\", \"L\", \"L\", \"L\", \"Z\"], \"yindex\": 1, \"coordinates\": \"data\", \"dasharray\": \"10,0\", \"zorder\": 1, \"alpha\": 1, \"xindex\": 0, \"data\": \"data27\", \"id\": \"el34074377916816\"}, {\"edgecolor\": \"#EEEEEE\", \"facecolor\": \"#E24A33\", \"edgewidth\": 0.5, \"pathcodes\": [\"M\", \"L\", \"L\", \"L\", \"Z\"], \"yindex\": 1, \"coordinates\": \"data\", \"dasharray\": \"10,0\", \"zorder\": 1, \"alpha\": 1, \"xindex\": 0, \"data\": \"data28\", \"id\": \"el34074377918480\"}, {\"edgecolor\": \"#EEEEEE\", \"facecolor\": \"#E24A33\", \"edgewidth\": 0.5, \"pathcodes\": [\"M\", \"L\", \"L\", \"L\", \"Z\"], \"yindex\": 1, \"coordinates\": \"data\", \"dasharray\": \"10,0\", \"zorder\": 1, \"alpha\": 1, \"xindex\": 0, \"data\": \"data29\", \"id\": \"el34074377862864\"}, {\"edgecolor\": \"#EEEEEE\", \"facecolor\": \"#E24A33\", \"edgewidth\": 0.5, \"pathcodes\": [\"M\", \"L\", \"L\", \"L\", \"Z\"], \"yindex\": 1, \"coordinates\": \"data\", \"dasharray\": \"10,0\", \"zorder\": 1, \"alpha\": 1, \"xindex\": 0, \"data\": \"data30\", \"id\": \"el34074377864528\"}, {\"edgecolor\": \"#EEEEEE\", \"facecolor\": \"#E24A33\", \"edgewidth\": 0.5, \"pathcodes\": [\"M\", \"L\", \"L\", \"L\", \"Z\"], \"yindex\": 1, \"coordinates\": \"data\", \"dasharray\": \"10,0\", \"zorder\": 1, \"alpha\": 1, \"xindex\": 0, \"data\": \"data31\", \"id\": \"el34074377866192\"}, {\"edgecolor\": \"#EEEEEE\", \"facecolor\": \"#E24A33\", \"edgewidth\": 0.5, \"pathcodes\": [\"M\", \"L\", \"L\", \"L\", \"Z\"], \"yindex\": 1, \"coordinates\": \"data\", \"dasharray\": \"10,0\", \"zorder\": 1, \"alpha\": 1, \"xindex\": 0, \"data\": \"data32\", \"id\": \"el34074377990800\"}, {\"edgecolor\": \"#EEEEEE\", \"facecolor\": \"#E24A33\", \"edgewidth\": 0.5, \"pathcodes\": [\"M\", \"L\", \"L\", \"L\", \"Z\"], \"yindex\": 1, \"coordinates\": \"data\", \"dasharray\": \"10,0\", \"zorder\": 1, \"alpha\": 1, \"xindex\": 0, \"data\": \"data33\", \"id\": \"el34074377992464\"}, {\"edgecolor\": \"#EEEEEE\", \"facecolor\": \"#E24A33\", \"edgewidth\": 0.5, \"pathcodes\": [\"M\", \"L\", \"L\", \"L\", \"Z\"], \"yindex\": 1, \"coordinates\": \"data\", \"dasharray\": \"10,0\", \"zorder\": 1, \"alpha\": 1, \"xindex\": 0, \"data\": \"data34\", \"id\": \"el34074377936848\"}, {\"edgecolor\": \"#EEEEEE\", \"facecolor\": \"#E24A33\", \"edgewidth\": 0.5, \"pathcodes\": [\"M\", \"L\", \"L\", \"L\", \"Z\"], \"yindex\": 1, \"coordinates\": \"data\", \"dasharray\": \"10,0\", \"zorder\": 1, \"alpha\": 1, \"xindex\": 0, \"data\": \"data35\", \"id\": \"el34074377938512\"}, {\"edgecolor\": \"#EEEEEE\", \"facecolor\": \"#E24A33\", \"edgewidth\": 0.5, \"pathcodes\": [\"M\", \"L\", \"L\", \"L\", \"Z\"], \"yindex\": 1, \"coordinates\": \"data\", \"dasharray\": \"10,0\", \"zorder\": 1, \"alpha\": 1, \"xindex\": 0, \"data\": \"data36\", \"id\": \"el34074377939792\"}, {\"edgecolor\": \"#EEEEEE\", \"facecolor\": \"#E24A33\", \"edgewidth\": 0.5, \"pathcodes\": [\"M\", \"L\", \"L\", \"L\", \"Z\"], \"yindex\": 1, \"coordinates\": \"data\", \"dasharray\": \"10,0\", \"zorder\": 1, \"alpha\": 1, \"xindex\": 0, \"data\": \"data37\", \"id\": \"el34074384528272\"}, {\"edgecolor\": \"#EEEEEE\", \"facecolor\": \"#E24A33\", \"edgewidth\": 0.5, \"pathcodes\": [\"M\", \"L\", \"L\", \"L\", \"Z\"], \"yindex\": 1, \"coordinates\": \"data\", \"dasharray\": \"10,0\", \"zorder\": 1, \"alpha\": 1, \"xindex\": 0, \"data\": \"data38\", \"id\": \"el34074384529936\"}, {\"edgecolor\": \"#EEEEEE\", \"facecolor\": \"#E24A33\", \"edgewidth\": 0.5, \"pathcodes\": [\"M\", \"L\", \"L\", \"L\", \"Z\"], \"yindex\": 1, \"coordinates\": \"data\", \"dasharray\": \"10,0\", \"zorder\": 1, \"alpha\": 1, \"xindex\": 0, \"data\": \"data39\", \"id\": \"el34074384478416\"}, {\"edgecolor\": \"#EEEEEE\", \"facecolor\": \"#E24A33\", \"edgewidth\": 0.5, \"pathcodes\": [\"M\", \"L\", \"L\", \"L\", \"Z\"], \"yindex\": 1, \"coordinates\": \"data\", \"dasharray\": \"10,0\", \"zorder\": 1, \"alpha\": 1, \"xindex\": 0, \"data\": \"data40\", \"id\": \"el34074384480080\"}, {\"edgecolor\": \"#EEEEEE\", \"facecolor\": \"#E24A33\", \"edgewidth\": 0.5, \"pathcodes\": [\"M\", \"L\", \"L\", \"L\", \"Z\"], \"yindex\": 1, \"coordinates\": \"data\", \"dasharray\": \"10,0\", \"zorder\": 1, \"alpha\": 1, \"xindex\": 0, \"data\": \"data41\", \"id\": \"el34074384395792\"}, {\"edgecolor\": \"#EEEEEE\", \"facecolor\": \"#E24A33\", \"edgewidth\": 0.5, \"pathcodes\": [\"M\", \"L\", \"L\", \"L\", \"Z\"], \"yindex\": 1, \"coordinates\": \"data\", \"dasharray\": \"10,0\", \"zorder\": 1, \"alpha\": 1, \"xindex\": 0, \"data\": \"data42\", \"id\": \"el34074384397456\"}, {\"edgecolor\": \"#EEEEEE\", \"facecolor\": \"#E24A33\", \"edgewidth\": 0.5, \"pathcodes\": [\"M\", \"L\", \"L\", \"L\", \"Z\"], \"yindex\": 1, \"coordinates\": \"data\", \"dasharray\": \"10,0\", \"zorder\": 1, \"alpha\": 1, \"xindex\": 0, \"data\": \"data43\", \"id\": \"el34074384399120\"}, {\"edgecolor\": \"#EEEEEE\", \"facecolor\": \"#E24A33\", \"edgewidth\": 0.5, \"pathcodes\": [\"M\", \"L\", \"L\", \"L\", \"Z\"], \"yindex\": 1, \"coordinates\": \"data\", \"dasharray\": \"10,0\", \"zorder\": 1, \"alpha\": 1, \"xindex\": 0, \"data\": \"data44\", \"id\": \"el34074384437712\"}, {\"edgecolor\": \"#EEEEEE\", \"facecolor\": \"#E24A33\", \"edgewidth\": 0.5, \"pathcodes\": [\"M\", \"L\", \"L\", \"L\", \"Z\"], \"yindex\": 1, \"coordinates\": \"data\", \"dasharray\": \"10,0\", \"zorder\": 1, \"alpha\": 1, \"xindex\": 0, \"data\": \"data45\", \"id\": \"el34074384439376\"}, {\"edgecolor\": \"#EEEEEE\", \"facecolor\": \"#E24A33\", \"edgewidth\": 0.5, \"pathcodes\": [\"M\", \"L\", \"L\", \"L\", \"Z\"], \"yindex\": 1, \"coordinates\": \"data\", \"dasharray\": \"10,0\", \"zorder\": 1, \"alpha\": 1, \"xindex\": 0, \"data\": \"data46\", \"id\": \"el34074378882832\"}, {\"edgecolor\": \"#EEEEEE\", \"facecolor\": \"#E24A33\", \"edgewidth\": 0.5, \"pathcodes\": [\"M\", \"L\", \"L\", \"L\", \"Z\"], \"yindex\": 1, \"coordinates\": \"data\", \"dasharray\": \"10,0\", \"zorder\": 1, \"alpha\": 1, \"xindex\": 0, \"data\": \"data47\", \"id\": \"el34074378884496\"}, {\"edgecolor\": \"#EEEEEE\", \"facecolor\": \"#E24A33\", \"edgewidth\": 0.5, \"pathcodes\": [\"M\", \"L\", \"L\", \"L\", \"Z\"], \"yindex\": 1, \"coordinates\": \"data\", \"dasharray\": \"10,0\", \"zorder\": 1, \"alpha\": 1, \"xindex\": 0, \"data\": \"data48\", \"id\": \"el34074378885776\"}, {\"edgecolor\": \"#EEEEEE\", \"facecolor\": \"#E24A33\", \"edgewidth\": 0.5, \"pathcodes\": [\"M\", \"L\", \"L\", \"L\", \"Z\"], \"yindex\": 1, \"coordinates\": \"data\", \"dasharray\": \"10,0\", \"zorder\": 1, \"alpha\": 1, \"xindex\": 0, \"data\": \"data49\", \"id\": \"el34074378982096\"}, {\"edgecolor\": \"#EEEEEE\", \"facecolor\": \"#E24A33\", \"edgewidth\": 0.5, \"pathcodes\": [\"M\", \"L\", \"L\", \"L\", \"Z\"], \"yindex\": 1, \"coordinates\": \"data\", \"dasharray\": \"10,0\", \"zorder\": 1, \"alpha\": 1, \"xindex\": 0, \"data\": \"data50\", \"id\": \"el34074378983760\"}], \"sharey\": [], \"sharex\": [], \"axesbgalpha\": null, \"axes\": [{\"scale\": \"linear\", \"tickformat\": null, \"grid\": {\"color\": \"#FFFFFF\", \"alpha\": 1.0, \"dasharray\": \"10,0\", \"gridOn\": true}, \"fontsize\": 10.0, \"position\": \"bottom\", \"nticks\": 10, \"tickvalues\": null}, {\"scale\": \"linear\", \"tickformat\": null, \"grid\": {\"color\": \"#FFFFFF\", \"alpha\": 1.0, \"dasharray\": \"10,0\", \"gridOn\": true}, \"fontsize\": 10.0, \"position\": \"left\", \"nticks\": 8, \"tickvalues\": null}], \"lines\": [], \"markers\": [], \"id\": \"el34074379637840\", \"ydomain\": [0.0, 7000000.0], \"collections\": [], \"xscale\": \"linear\", \"bbox\": [0.125, 0.125, 0.77500000000000002, 0.77500000000000002]}], \"height\": 480.0, \"width\": 800.0, \"plugins\": [{\"type\": \"reset\"}, {\"enabled\": false, \"button\": true, \"type\": \"zoom\"}, {\"enabled\": false, \"button\": true, \"type\": \"boxzoom\"}], \"data\": {\"data42\": [[412.44000000000005, 0.0], [421.28000000000003, 0.0], [421.28000000000003, 142605.0], [412.44000000000005, 142605.0]], \"data43\": [[421.28, 0.0], [430.12, 0.0], [430.12, 123491.0], [421.28, 123491.0]], \"data40\": [[394.76, 0.0], [403.6, 0.0], [403.6, 210156.0], [394.76, 210156.0]], \"data41\": [[403.6, 0.0], [412.44, 0.0], [412.44, 162143.0], [403.6, 162143.0]], \"data46\": [[447.80000000000007, 0.0], [456.64000000000004, 0.0], [456.64000000000004, 81092.0], [447.80000000000007, 81092.0]], \"data47\": [[456.64, 0.0], [465.48, 0.0], [465.48, 61591.0], [456.64, 61591.0]], \"data44\": [[430.12, 0.0], [438.96, 0.0], [438.96, 97668.0], [430.12, 97668.0]], \"data45\": [[438.96, 0.0], [447.8, 0.0], [447.8, 96281.0], [438.96, 96281.0]], \"data48\": [[465.48, 0.0], [474.32, 0.0], [474.32, 38919.0], [465.48, 38919.0]], \"data49\": [[474.32000000000005, 0.0], [483.16, 0.0], [483.16, 19960.0], [474.32000000000005, 19960.0]], \"data50\": [[483.15999999999997, 0.0], [492.0, 0.0], [492.0, 9173.0], [483.15999999999997, 9173.0]], \"data28\": [[288.68000000000006, 0.0], [297.52000000000004, 0.0], [297.52000000000004, 1542376.0], [288.68000000000006, 1542376.0]], \"data06\": [[94.20000000000002, 0.0], [103.04, 0.0], [103.04, 4621.0], [94.20000000000002, 4621.0]], \"data08\": [[111.88, 0.0], [120.72, 0.0], [120.72, 7859.0], [111.88, 7859.0]], \"data09\": [[120.72, 0.0], [129.56, 0.0], [129.56, 8064.0], [120.72, 8064.0]], \"data20\": [[217.95999999999998, 0.0], [226.79999999999998, 0.0], [226.79999999999998, 13651.0], [217.95999999999998, 13651.0]], \"data21\": [[226.8, 0.0], [235.64, 0.0], [235.64, 13849.0], [226.8, 13849.0]], \"data22\": [[235.64, 0.0], [244.48, 0.0], [244.48, 24187.0], [235.64, 24187.0]], \"data05\": [[85.36, 0.0], [94.2, 0.0], [94.2, 5200.0], [85.36, 5200.0]], \"data02\": [[58.84, 0.0], [67.68, 0.0], [67.68, 4826.0], [58.84, 4826.0]], \"data04\": [[76.52, 0.0], [85.36, 0.0], [85.36, 21086.0], [76.52, 21086.0]], \"data26\": [[271.0, 0.0], [279.84000000000003, 0.0], [279.84000000000003, 18539.0], [271.0, 18539.0]], \"data01\": [[50.0, 0.0], [58.84, 0.0], [58.84, 7278.0], [50.0, 7278.0]], \"data23\": [[244.47999999999996, 0.0], [253.31999999999996, 0.0], [253.31999999999996, 13534.0], [244.47999999999996, 13534.0]], \"data24\": [[253.32000000000002, 0.0], [262.15999999999997, 0.0], [262.15999999999997, 20939.0], [253.32000000000002, 20939.0]], \"data03\": [[67.68, 0.0], [76.52, 0.0], [76.52, 21335.0], [67.68, 21335.0]], \"data27\": [[279.84000000000003, 0.0], [288.68, 0.0], [288.68, 374450.0], [279.84000000000003, 374450.0]], \"data07\": [[103.03999999999999, 0.0], [111.88, 0.0], [111.88, 4873.0], [103.03999999999999, 4873.0]], \"data37\": [[368.24, 0.0], [377.08, 0.0], [377.08, 432735.0], [368.24, 432735.0]], \"data36\": [[359.4, 0.0], [368.24, 0.0], [368.24, 476711.0], [359.4, 476711.0]], \"data35\": [[350.56000000000006, 0.0], [359.40000000000003, 0.0], [359.40000000000003, 980371.0], [350.56000000000006, 980371.0]], \"data34\": [[341.71999999999997, 0.0], [350.56, 0.0], [350.56, 376360.0], [341.71999999999997, 376360.0]], \"data25\": [[262.15999999999997, 0.0], [271.0, 0.0], [271.0, 19809.0], [262.15999999999997, 19809.0]], \"data32\": [[324.0400000000001, 0.0], [332.88000000000005, 0.0], [332.88000000000005, 365639.0], [324.0400000000001, 365639.0]], \"data31\": [[315.2, 0.0], [324.04, 0.0], [324.04, 213208.0], [315.2, 213208.0]], \"data30\": [[306.36, 0.0], [315.2, 0.0], [315.2, 224980.0], [306.36, 224980.0]], \"data39\": [[385.9200000000001, 0.0], [394.76000000000005, 0.0], [394.76000000000005, 228558.0], [385.9200000000001, 228558.0]], \"data38\": [[377.08, 0.0], [385.92, 0.0], [385.92, 409744.0], [377.08, 409744.0]], \"data19\": [[209.12, 0.0], [217.96, 0.0], [217.96, 10046.0], [209.12, 10046.0]], \"data18\": [[200.27999999999997, 0.0], [209.11999999999998, 0.0], [209.11999999999998, 9748.0], [200.27999999999997, 9748.0]], \"data15\": [[173.76, 0.0], [182.6, 0.0], [182.6, 10814.0], [173.76, 10814.0]], \"data14\": [[164.92000000000002, 0.0], [173.76, 0.0], [173.76, 9985.0], [164.92000000000002, 9985.0]], \"data17\": [[191.44, 0.0], [200.28, 0.0], [200.28, 9804.0], [191.44, 9804.0]], \"data16\": [[182.59999999999997, 0.0], [191.43999999999997, 0.0], [191.43999999999997, 78746.0], [182.59999999999997, 78746.0]], \"data11\": [[138.39999999999998, 0.0], [147.23999999999998, 0.0], [147.23999999999998, 9550.0], [138.39999999999998, 9550.0]], \"data10\": [[129.56, 0.0], [138.4, 0.0], [138.4, 8821.0], [129.56, 8821.0]], \"data13\": [[156.07999999999998, 0.0], [164.92000000000002, 0.0], [164.92000000000002, 8856.0], [156.07999999999998, 8856.0]], \"data12\": [[147.24, 0.0], [156.07999999999998, 0.0], [156.07999999999998, 9621.0], [147.24, 9621.0]], \"data29\": [[297.52, 0.0], [306.36, 0.0], [306.36, 6444497.0], [297.52, 6444497.0]], \"data33\": [[332.88, 0.0], [341.71999999999997, 0.0], [341.71999999999997, 498332.0], [332.88, 498332.0]]}, \"id\": \"el34074379637776\"});\n",
       "            })\n",
       "         });\n",
       "}\n",
       "</script>"
      ],
      "text/plain": [
       "<matplotlib.figure.Figure at 0x1050bf810>"
      ]
     },
     "metadata": {},
     "output_type": "display_data"
    }
   ],
   "source": [
    "# Setting up graphics in ggplot\n",
    "style.use(\"ggplot\")\n",
    "fig = plt.figure()\n",
    "ax = fig.add_subplot(111)\n",
    "# There will be a histogram axis, where we graph the lengths in bins of 50\n",
    "h = ax.hist(np.array(lengths), bins=50)\n",
    "# The x axis will thus be the sequence length, in nucleotides\n",
    "xl = ax.set_xlabel(\"Sequence Length, nt\")\n",
    "# While the y axis will be the count, or number of times this length bin showed up in our peared sequences\n",
    "yl = ax.set_ylabel(\"Count\")\n",
    "# More figure sizing stuff\n",
    "fig.set_size_inches((10,6))"
   ]
  },
  {
   "cell_type": "code",
   "execution_count": 22,
   "metadata": {
    "collapsed": false
   },
   "outputs": [
    {
     "data": {
      "text/plain": [
       "320.89277620616355"
      ]
     },
     "execution_count": 22,
     "metadata": {},
     "output_type": "execute_result"
    }
   ],
   "source": [
    "# I want to know what the average sequence length is.\n",
    "# We used 515F and 806R, so it should be around 300bp\n",
    "import numpy\n",
    "numpy.mean(lengths)"
   ]
  },
  {
   "cell_type": "code",
   "execution_count": 23,
   "metadata": {
    "collapsed": false
   },
   "outputs": [
    {
     "data": {
      "text/plain": [
       "299.0"
      ]
     },
     "execution_count": 23,
     "metadata": {},
     "output_type": "execute_result"
    }
   ],
   "source": [
    "numpy.median(lengths)"
   ]
  },
  {
   "cell_type": "code",
   "execution_count": null,
   "metadata": {
    "collapsed": false
   },
   "outputs": [],
   "source": []
  }
 ],
 "metadata": {
  "kernelspec": {
   "display_name": "Python 2",
   "language": "python",
   "name": "python2"
  },
  "language_info": {
   "codemirror_mode": {
    "name": "ipython",
    "version": 2
   },
   "file_extension": ".py",
   "mimetype": "text/x-python",
   "name": "python",
   "nbconvert_exporter": "python",
   "pygments_lexer": "ipython2",
   "version": "2.7.9"
  }
 },
 "nbformat": 4,
 "nbformat_minor": 0
}
