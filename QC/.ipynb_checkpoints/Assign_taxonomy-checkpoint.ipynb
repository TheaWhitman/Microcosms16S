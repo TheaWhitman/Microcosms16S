{
 "cells": [
  {
   "cell_type": "code",
   "execution_count": null,
   "metadata": {
    "collapsed": false
   },
   "outputs": [],
   "source": [
    "# The latest greengenes db was updated from the QIIME website \n",
    "# This is the assign taxonomy command from QIIME, using the greengenes database at 97%.\n",
    "# It is using the default uclust method, at default min 0.9 similarity\n",
    "nprocs = 4\n",
    "#!mkdir ../../SeqData/tmp\n",
    "!assign_taxonomy.py -i ../../SeqData/otus.pick.fasta -o ../../SeqData/Taxonomy/"
   ]
  },
  {
   "cell_type": "code",
   "execution_count": 2,
   "metadata": {
    "collapsed": false
   },
   "outputs": [
    {
     "name": "stdout",
     "output_type": "stream",
     "text": [
      "otus.pick_tax_assignments.log otus.pick_tax_assignments.txt\r\n"
     ]
    }
   ],
   "source": [
    "!ls ../../SeqData/Taxonomy/"
   ]
  },
  {
   "cell_type": "code",
   "execution_count": null,
   "metadata": {
    "collapsed": false
   },
   "outputs": [
    {
     "name": "stdout",
     "output_type": "stream",
     "text": [
      "\u001b7\u001b[?47h\u001b[?1h\u001b=\r",
      "16SW61_207941   k__Bacteria; p__Planctomycetes; c__Planctomycetia; o__Gemm \batales; f__Gemmataceae; g__; s__      1.00    3\r\n",
      "16SW57_5585     k__Bacteria; p__Acidobacteria; c__iii1-8; o__DS-18; f__; g \b__; s__       1.00    3\r\n",
      "16SW3_58190     k__Bacteria; p__Planctomycetes; c__Planctomycetia; o__Gemm \batales; f__Gemmataceae; g__; s__      1.00    3\r\n",
      "16SW57_12940    k__Bacteria; p__Verrucomicrobia; c__[Pedosphaerae]; o__[Pe \bdosphaerales]; f__; g__; s__  1.00    3\r\n",
      "16SW57_5589     k__Bacteria; p__Armatimonadetes; c__Chthonomonadetes; o__S \bJA-22; f__; g__; s__  1.00    3\r\n",
      "16SW55_59225    k__Bacteria; p__Actinobacteria; c__Thermoleophilia; o__Sol \birubrobacterales; f__Solirubrobacteraceae; g__; s__   1.00    3\r\n",
      "16SW15_273922   k__Bacteria; p__Proteobacteria; c__Deltaproteobacteria; o_ \b_Myxococcales; f__; g__; s__  1.00    3\r\n",
      "16SW97_1882433  k__Bacteria; p__Planctomycetes; c__Phycisphaerae; o__Phyci \bsphaerales; f__; g__; s__     0.67    3\r\n",
      "16SW119_3309095 k__Bacteria; p__Proteobacteria; c__Deltaproteobacteria; o_ \b_Syntrophobacterales; f__Syntrophobacteraceae; g__; s__       1.00    3\r\n",
      "16SW57_3991     k__Bacteria; p__Actinobacteria; c__Actinobacteria; o__Acti \bnomycetales; f__Microbacteriaceae; g__Agromyces; s__  1.00    3\r\n",
      "16SW135_607415  k__Bacteria; p__Actinobacteria; c__Thermoleophilia; o__Sol \birubrobacterales; f__Conexibacteraceae; g__; s__      0.67    3\r\n",
      "16SW113_1624627 k__Bacteria; p__Acidobacteria; c__[Chloracidobacteria]; o_ \b\u001b[7m../../SeqData/Taxonomy/otus.pick_tax_assignments.txt\u001b[m\u001b[K"
     ]
    }
   ],
   "source": [
    "!less ../../SeqData/Taxonomy/otus.pick_tax_assignments.txt"
   ]
  },
  {
   "cell_type": "code",
   "execution_count": null,
   "metadata": {
    "collapsed": false
   },
   "outputs": [],
   "source": [
    "# Joining the classification taxonomy to the biom table\n",
    "!if [ -f ../../SeqData/otu_table.tax.biom ]; then rm ../../SeqData/otu_table.tax.biom; fi #This is to mitigate a biom bug\n",
    "! biom add-metadata -i ../../SeqData/otu_table.biom -o ../../SeqData/otu_table.tax.biom \\\n",
    "--observation-metadata-fp ../../SeqData/Taxonomy/otus.pick_tax_assignments.txt \\\n",
    "--observation-header OTUID,taxonomy,confidence,numrefdbseqs --sc-separated taxonomy "
   ]
  },
  {
   "cell_type": "code",
   "execution_count": null,
   "metadata": {
    "collapsed": true
   },
   "outputs": [],
   "source": [
    "# Trying to add the mapping data too.\n",
    "!if [ -f ../../SeqData/otu_table.tax.meta.biom ]; then rm ../../SeqData/otu_table.tax.meta.biom; fi #This is to mitigate a biom bug\n",
    "! biom add-metadata -i ../../SeqData/otu_table.tax.biom -o ../../SeqData/otu_table.tax.meta.biom \\\n",
    "--sample-metadata-fp ../../SeqData/Metadata.txt"
   ]
  },
  {
   "cell_type": "code",
   "execution_count": null,
   "metadata": {
    "collapsed": false
   },
   "outputs": [],
   "source": [
    "!if [ -f ../../SeqData/otu_table.tax.meta.biom.summary.txt ]; then rm ../../SeqData/otu_table.tax.meta.biom.summary.txt; fi #This is to mitigate a biom bug\n",
    "! biom summarize-table -i ../../SeqData/otu_table.tax.meta.biom -o ../../SeqData/otu_table.tax.meta.biom.summary.txt"
   ]
  },
  {
   "cell_type": "code",
   "execution_count": null,
   "metadata": {
    "collapsed": false
   },
   "outputs": [],
   "source": [
    "!cat ../../SeqData/otu_table.tax.meta.biom.summary.txt"
   ]
  },
  {
   "cell_type": "markdown",
   "metadata": {},
   "source": [
    "Now our full OTU table with metadata is found at:\n",
    "../SeqData/otu_table.tax.meta.biom"
   ]
  },
  {
   "cell_type": "code",
   "execution_count": null,
   "metadata": {
    "collapsed": true
   },
   "outputs": [],
   "source": []
  }
 ],
 "metadata": {
  "kernelspec": {
   "display_name": "Python 2",
   "language": "python",
   "name": "python2"
  },
  "language_info": {
   "codemirror_mode": {
    "name": "ipython",
    "version": 2
   },
   "file_extension": ".py",
   "mimetype": "text/x-python",
   "name": "python",
   "nbconvert_exporter": "python",
   "pygments_lexer": "ipython2",
   "version": "2.7.9"
  }
 },
 "nbformat": 4,
 "nbformat_minor": 0
}
