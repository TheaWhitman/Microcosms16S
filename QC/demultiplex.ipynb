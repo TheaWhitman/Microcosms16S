{
 "cells": [
  {
   "cell_type": "markdown",
   "metadata": {},
   "source": [
    "##This notebook is used to demultiplex the sequencing run into the corresponding samples, according to their barcodes"
   ]
  },
  {
   "cell_type": "code",
   "execution_count": 1,
   "metadata": {
    "collapsed": false
   },
   "outputs": [
    {
     "name": "stderr",
     "output_type": "stream",
     "text": [
      "/opt/virt_env/lib/python2.7/site-packages/mpltools/style/__init__.py:42: FutureWarning: \n",
      "\n",
      "    The style-sheet functionality in mpltools has been integrated into\n",
      "    Matplotlib >= 1.4. This module will be removed in a future release.\n",
      "\n",
      "    Note that style-sheets used by `matplotlib.style` use the standard\n",
      "    Matplotlib rc-file syntax instead of the INI format used by `mpltools`.\n",
      "    This mostly means un-quoting strings and changing '=' to ':'.\n",
      "\n",
      "\n",
      "  \"\"\", FutureWarning)\n"
     ]
    }
   ],
   "source": [
    "# Imports all the necessary programs\n",
    "# screed for making databases\n",
    "# pandas, which is a library of Python data analysis functions\n",
    "# Counter tool for convenient and rapid tallies\n",
    "# matplotlib for plotting\n",
    "# numpy for basic computing in Python\n",
    "# mpltools are more tools for matplotlib\n",
    "import screed\n",
    "import pandas as pd\n",
    "from collections import Counter\n",
    "import matplotlib.pyplot as plt\n",
    "import numpy as np\n",
    "from mpltools import style"
   ]
  },
  {
   "cell_type": "code",
   "execution_count": 2,
   "metadata": {
    "collapsed": false
   },
   "outputs": [],
   "source": [
    "# sets our style parameters to ggplot\n",
    "style.use(\"ggplot\")"
   ]
  },
  {
   "cell_type": "code",
   "execution_count": 3,
   "metadata": {
    "collapsed": false
   },
   "outputs": [],
   "source": [
    "# tells the notebook to show the output (graphics) from matplotlib inline (in the notebook)\n",
    "%matplotlib inline"
   ]
  },
  {
   "cell_type": "markdown",
   "metadata": {},
   "source": [
    "### Making reverse-complement of barcodes"
   ]
  },
  {
   "cell_type": "code",
   "execution_count": 42,
   "metadata": {
    "collapsed": false
   },
   "outputs": [],
   "source": [
    "from Bio import SeqIO\n",
    "from Bio.Seq import Seq\n",
    "# Importing the sequence-handling module"
   ]
  },
  {
   "cell_type": "code",
   "execution_count": 61,
   "metadata": {
    "collapsed": false
   },
   "outputs": [
    {
     "name": "stdout",
     "output_type": "stream",
     "text": [
      "          ID  Barcode_RevC Sample Primer\n",
      "0      ITSW1  TATCGTTGACCA     W1    ITS\n",
      "1    ITSW101  GCTGATGAGCTG   W101    ITS\n",
      "2    ITSW103  ATCCCGAATTTG   W103    ITS\n",
      "3    ITSW105  TCGAGGACTGCA   W105    ITS\n",
      "4    ITSW107  GTCTAATTCCGA   W107    ITS\n",
      "5    ITSW109  GAGGCTCATCAT   W109    ITS\n",
      "6     ITSW11  CGATCCGTATTA    W11    ITS\n",
      "7    ITSW111  ATGAGACTCCAC   W111    ITS\n",
      "8    ITSW113  CTTGTGTCGATA   W113    ITS\n",
      "9    ITSW115  ACGGGACATGCT   W115    ITS\n",
      "10   ITSW117  CAGCTAGAACGC   W117    ITS\n",
      "11   ITSW119  CCACCTACTCCA   W119    ITS\n",
      "12   ITSW121  AGGCTACACGAC   W121    ITS\n",
      "13   ITSW123  TGAGTCACTGGT   W123    ITS\n",
      "14   ITSW125  AGCTGTTGTTTG   W125    ITS\n",
      "15   ITSW127  GTTGGTCAATCT   W127    ITS\n",
      "16   ITSW129  CGGAGCTATGGT   W129    ITS\n",
      "17    ITSW13  ATTCCTGTGAGT    W13    ITS\n",
      "18   ITSW131  TCCGAATTCACA   W131    ITS\n",
      "19   ITSW133  TCCTCTGTCGAC   W133    ITS\n",
      "20   ITSW135  GAATCTTCGAGC   W135    ITS\n",
      "21   ITSW137  TGAGCCGGAATC   W137    ITS\n",
      "22   ITSW139  GTCATATCGTAC   W139    ITS\n",
      "23   ITSW143  TCCCAGAACAAC   W143    ITS\n",
      "24   ITSW145  GAATAGAGCCAA   W145    ITS\n",
      "25    ITSW15  GTCAATTGACCG    W15    ITS\n",
      "26    ITSW17  ATCGATCTGTGG    W17    ITS\n",
      "27    ITSW19  CTTCGGCAGAAT    W19    ITS\n",
      "28    ITSW21  AGGCATCTTACG    W21    ITS\n",
      "29    ITSW23  AGATGTTCTGCT    W23    ITS\n",
      "..       ...           ...    ...    ...\n",
      "114   16SW47  GGACCGAACTCA    W47    16S\n",
      "115   16SW49  GATCCACGGACA    W49    16S\n",
      "116    16SW5  ATTGTGCGGTGT     W5    16S\n",
      "117   16SW51  ATCTCCTCTCCA    W51    16S\n",
      "118   16SW53  CATGAGTGCTAC    W53    16S\n",
      "119   16SW55  CGCCGTACATAA    W55    16S\n",
      "120   16SW57  TGGAAGATGAGT    W57    16S\n",
      "121   16SW59  TCGGACCTAGGA    W59    16S\n",
      "122   16SW61  TCAGGACTGTGT    W61    16S\n",
      "123   16SW63  AGGTCGTATGCG    W63    16S\n",
      "124   16SW65  TTATCCGAGGTT    W65    16S\n",
      "125   16SW67  CAGTTGGTCTGA    W67    16S\n",
      "126   16SW69  GGACAACGCTTG    W69    16S\n",
      "127    16SW7  TCAGGTTGCGGA     W7    16S\n",
      "128   16SW71  ATCGCCACGTAA    W71    16S\n",
      "129   16SW73  ATTGCCCAGATG    W73    16S\n",
      "130   16SW75  CGCATTTATACG    W75    16S\n",
      "131   16SW77  CTACTACAGGTG    W77    16S\n",
      "132   16SW79  GTGGACGTCCAA    W79    16S\n",
      "133   16SW81  GAACTGTATCTC    W81    16S\n",
      "134   16SW83  TGATAGTGAGGA    W83    16S\n",
      "135   16SW85  GCGCCGTATAAT    W85    16S\n",
      "136   16SW87  TCAGTACGAGGC    W87    16S\n",
      "137   16SW89  CTACACAAGCAC    W89    16S\n",
      "138    16SW9  CTGATGGGCGTA     W9    16S\n",
      "139   16SW91  AGTCACATCACT    W91    16S\n",
      "140   16SW93  CGGGCATAAGTC    W93    16S\n",
      "141   16SW95  CGTGAGGCATTG    W95    16S\n",
      "142   16SW97  AGTTGGCCGAGT    W97    16S\n",
      "143   16SW99  GAGTAGCTCGTG    W99    16S\n",
      "\n",
      "[144 rows x 4 columns]\n"
     ]
    }
   ],
   "source": [
    "fh = open(\"../SeqData/MapFile.txt\",\"r\")\n",
    "# Opens the map file to read it\n",
    "record = fh.readlines()\n",
    "# Goes through the file line by line\n",
    "NewMap = []\n",
    "# Creates empty list to fill\n",
    "for line in record:\n",
    "    entry = line.split(\"\\r\")\n",
    "    # Splits each line out\n",
    "    for item in entry:\n",
    "        NewMap.append(item.split(\"\\t\"))\n",
    "        # Splits the items in each line and adds them to our new map file\n",
    "for tag in NewMap:\n",
    "    tag[1]=str(Seq(tag[1]).reverse_complement())\n",
    "    # For each line in our new map file, replaces barcode with reverse complement\n",
    "print pd.DataFrame(NewMap, columns = [\"ID\",\"Barcode_RevC\",\"Sample\",\"Primer\"])\n",
    "    # Shows it worked\n",
    "MapFileRevComp = pd.DataFrame(NewMap, columns = [\"ID\",\"Barcode_RevC\",\"Sample\",\"Primer\"])\n",
    "MapFileRevComp.to_csv(\"../SeqData/MapFileRevComp.txt\", sep=\"\\t\", header=False, index=False)\n",
    "# Now you have a Map File with reverse complemented barcodes just like your original.\n",
    "fh.close()\n",
    "# Keeping everything neat"
   ]
  },
  {
   "cell_type": "markdown",
   "metadata": {},
   "source": [
    "###Creating our databases to compare index file with sequence file"
   ]
  },
  {
   "cell_type": "code",
   "execution_count": 7,
   "metadata": {
    "collapsed": false
   },
   "outputs": [
    {
     "data": {
      "text/plain": [
       "<ScreedDB, '../../SeqData/W57_I1_001.fastq_screed'>"
      ]
     },
     "execution_count": 7,
     "metadata": {},
     "output_type": "execute_result"
    }
   ],
   "source": [
    "# This creates the database which it will query\n",
    "# The database will have the sequence name, description, quality, and sequence itself (if those data are in the original files)\n",
    "# The output will be the same file with NAME_screed\n",
    "screed.read_fastq_sequences(\"../../SeqData/W57_I1_001.fastq\")"
   ]
  },
  {
   "cell_type": "code",
   "execution_count": 8,
   "metadata": {
    "collapsed": false
   },
   "outputs": [],
   "source": [
    "# tells the notebook where our index reads are\n",
    "ir1 = \"../../SeqData/W57_I1_001.fastq_screed\""
   ]
  },
  {
   "cell_type": "code",
   "execution_count": 9,
   "metadata": {
    "collapsed": false
   },
   "outputs": [],
   "source": [
    "# Loads our index reads database created above\n",
    "ir1db = screed.ScreedDB(ir1)"
   ]
  },
  {
   "cell_type": "code",
   "execution_count": 10,
   "metadata": {
    "collapsed": false
   },
   "outputs": [
    {
     "name": "stdout",
     "output_type": "stream",
     "text": [
      "W57\tCACTCAACAGAC"
     ]
    }
   ],
   "source": [
    "!head ../../SeqData/MapFileRevComp57.txt"
   ]
  },
  {
   "cell_type": "code",
   "execution_count": 13,
   "metadata": {
    "collapsed": false
   },
   "outputs": [
    {
     "data": {
      "text/html": [
       "<div>\n",
       "<table border=\"1\" class=\"dataframe\">\n",
       "  <thead>\n",
       "    <tr style=\"text-align: right;\">\n",
       "      <th></th>\n",
       "      <th>i1</th>\n",
       "      <th>SampleID</th>\n",
       "    </tr>\n",
       "  </thead>\n",
       "  <tbody>\n",
       "    <tr>\n",
       "      <th>0</th>\n",
       "      <td>W57</td>\n",
       "      <td>CACTCAACAGAC</td>\n",
       "    </tr>\n",
       "  </tbody>\n",
       "</table>\n",
       "</div>"
      ],
      "text/plain": [
       "    i1      SampleID\n",
       "0  W57  CACTCAACAGAC"
      ]
     },
     "execution_count": 13,
     "metadata": {},
     "output_type": "execute_result"
    }
   ],
   "source": [
    "# locating the tab delimited file with the index reads and the sample IDS\n",
    "# Note that 0,1,2,3,4 are just row numbers\n",
    "# I need to make this file in excel\n",
    "# This step is making that information into a data frame (using panda), called df_map\n",
    "# Note that the first items are identified by a \"0\" (Python uses a 0-index)\n",
    "# Also note that the first column was made up by the program - not present in the initial file.\n",
    "df_map = pd.read_csv(\"../../SeqData/MapFileRevComp57.txt\", delimiter=\"\\t\", usecols=[0,1,2,3], names=[\"i1\",\"SampleID\",\"Cosm\",\"Primer\"])\n",
    "# uses Pandas to read our csv file of our sequence data.\n",
    "# We only had one indexed read, so we \n",
    "# prints the head of the dataframe we made called df_map\n",
    "df_map[1:4]"
   ]
  },
  {
   "cell_type": "code",
   "execution_count": 15,
   "metadata": {
    "collapsed": false
   },
   "outputs": [
    {
     "name": "stdout",
     "output_type": "stream",
     "text": [
      "CACTCAACAGAC W57\n"
     ]
    }
   ],
   "source": [
    "# map calls a function (lambda) for a sequence of items (zipped)\n",
    "# lambda creates a function, into which x is input. \n",
    "# Here, we are getting whatever x was at 0, 1, and 2 (so the first three columns of our data), and adding the first two\n",
    "# together (our indicies), and maintaining the second one (our sample IDs).\n",
    "# \"Zipping\" links together three elements of the same length, effectively creating an array of vectors\n",
    "# So, here, we have linked together the columns in our mapping dataframe, df_map.\n",
    "# Basically, we link together the three columns, using zip, and then we concatenate the first two values\n",
    "# at each place and keep the last one separate, using the lambda function we created here.\n",
    "# This happens using the map function - the function called is defined by lambda, the sequence of items we look at \n",
    "# is defined by the zip function\n",
    "# Dict is a data structure in Python, the \"dictionary\"\n",
    "# A dictionary has unique keys that are linked to other data\n",
    "# Here we are using our map output to make the dictionary. The map created two values - our combined indicies and ID.\n",
    "# Thus, the map_d.keys at a given position will be the combined index primers,\n",
    "# and the map_d returned when the map_d.keys at a given position is input, will be our sample ID.\n",
    "map_d = dict(map(lambda x: (x[0],x[1]), zip(df_map.SampleID,df_map.i1)))\n",
    "print map_d.keys()[0], map_d[map_d.keys()[0]]"
   ]
  },
  {
   "cell_type": "code",
   "execution_count": 16,
   "metadata": {
    "collapsed": false
   },
   "outputs": [
    {
     "data": {
      "text/plain": [
       "'W57'"
      ]
     },
     "execution_count": 16,
     "metadata": {},
     "output_type": "execute_result"
    }
   ],
   "source": [
    "map_d['CACTCAACAGAC']"
   ]
  },
  {
   "cell_type": "code",
   "execution_count": 18,
   "metadata": {
    "collapsed": false
   },
   "outputs": [
    {
     "data": {
      "text/plain": [
       "<ScreedDB, '../../SeqData/pear_merged-2015-06-30.assembled.fastq_screed'>"
      ]
     },
     "execution_count": 18,
     "metadata": {},
     "output_type": "execute_result"
    }
   ],
   "source": [
    "# We already created the database with our merged sequence files in merge_reads\n",
    "# The output will be the same file with NAME_screed\n",
    "# screed.read_fastq_sequences(\"../SeqData/pear_merged-2015-11-04.assembled.fastq\")"
   ]
  },
  {
   "cell_type": "code",
   "execution_count": 18,
   "metadata": {
    "collapsed": false
   },
   "outputs": [],
   "source": [
    "# Loads the screed database\n",
    "db = screed.ScreedDB(\"../../SeqData/pear_merged_W57_2015-11-06.assembled.fastq_screed\")"
   ]
  },
  {
   "cell_type": "code",
   "execution_count": null,
   "metadata": {
    "collapsed": true
   },
   "outputs": [],
   "source": []
  },
  {
   "cell_type": "markdown",
   "metadata": {},
   "source": [
    "### Beware: the script below will overwrite your fastq file - make a backup copy and make sure it works before running it!"
   ]
  },
  {
   "cell_type": "code",
   "execution_count": 19,
   "metadata": {
    "collapsed": false
   },
   "outputs": [
    {
     "name": "stdout",
     "output_type": "stream",
     "text": [
      "Unable to assign 11861036 reads to samples\n"
     ]
    }
   ],
   "source": [
    "# Sets a counting index and starts the number of unassigned reads at zero.\n",
    "# Defines our output as our fastq file.\n",
    "# Sets up a counter function, which is actually like a dictionary.\n",
    "# Assigns our assembled sequence data\n",
    "counter = 0\n",
    "unassigned = 0\n",
    "cnt = Counter()\n",
    "fq = \"../../SeqData/pear_merged_W57_2015-11-06.assembled.fastq\"\n",
    "\n",
    "# \"w\" means we are opening the file to \"w\"rite\n",
    "with open(fq, \"w\") as out:\n",
    "# for each record in our database (of sequence reads, est. above) that we go through iteratively...\n",
    "  for rec in db.itervalues(): \n",
    "        # We get the name of this record, and then find that same name in our index db, and get the associated sequence\n",
    "        index = ir1db[rec[\"name\"]][\"sequence\"]\n",
    "        # We take the index sequence found above (matching the sample's name), and find it in our map file\n",
    "        # This should spit out the ID of the sample associated with these indicies, which we then join to\n",
    "        # an underscore, and the current counter value (which number sequence is this?)\n",
    "        try:\n",
    "            new_name = map_d[index] + \"_\" + str(counter) #case sensitive\n",
    "            # If we couldn't find the index name in our dictionary map file, we say it was unassigned, and tally it.\n",
    "        except KeyError:\n",
    "            unassigned += 1\n",
    "            continue\n",
    "            # Resetting to continue\n",
    "        counter += 1\n",
    "        # map_d[index_etc.lower] should give us the sample name we assigned to that index set.\n",
    "        # We feed that into the counter - not quite sure what happens\n",
    "        # We also increase [what?] by 1.\n",
    "        cnt[map_d[index]] += 1 #case sensitive\n",
    "        # We define s and q as the sequence and accuracy values (from our screed db) \n",
    "        s, q = rec[\"sequence\"], rec[\"quality\"]\n",
    "        # The output written to the file we called fn will be all this..not quite sure what's going on.\n",
    "        out.write(\"@%s orig_name=%s\\n%s\\n+\\n%s\\n\"%(new_name,rec[\"name\"],s,q))\n",
    "        # Reports how many reads didn't match the mapping file. Note that we require an exact match here.\n",
    "print \"Unable to assign %s reads to samples\"%unassigned\n",
    "# The final output should be still a fastq file but now with the sample ID attached.\n",
    "# For now it is called pear_merged-2014-03-25.assembled.demult.fastq"
   ]
  },
  {
   "cell_type": "markdown",
   "metadata": {},
   "source": [
    "8,321,422 out of 13,986,681 reads were from my samples (others are from other projects on this run)"
   ]
  },
  {
   "cell_type": "code",
   "execution_count": 20,
   "metadata": {
    "collapsed": false
   },
   "outputs": [
    {
     "name": "stderr",
     "output_type": "stream",
     "text": [
      "/opt/virt_env/lib/python2.7/site-packages/matplotlib/axes/_base.py:2562: UserWarning: Attempting to set identical left==right results\n",
      "in singular transformations; automatically expanding.\n",
      "left=0, right=0\n",
      "  'left=%s, right=%s') % (left, right))\n"
     ]
    },
    {
     "data": {
      "image/png": "[encoded data removed]",
      "text/plain": [
       "<matplotlib.figure.Figure at 0x10584ead0>"
      ]
     },
     "metadata": {},
     "output_type": "display_data"
    }
   ],
   "source": [
    "# Makes a plot of read counts organized by index\n",
    "# Seems like it worked okay - lowest 12 reads <50,000 counts.\n",
    "X = np.arange(len(cnt.keys()))\n",
    "Y = [v for k, v in cnt.most_common()]\n",
    "fig = plt.figure()\n",
    "fig.set_size_inches((18,8))\n",
    "ax = fig.add_subplot(111)\n",
    "bars = ax.bar(X, Y, width=0.5)\n",
    "xlims = ax.set_xlim((X.min(), X.max()))\n",
    "xt = ax.set_xticks(X)\n",
    "\n",
    "xtl = ax.set_xticklabels([k for k, v in cnt.most_common()], rotation=90, ha=\"center\", size=8)"
   ]
  },
  {
   "cell_type": "markdown",
   "metadata": {},
   "source": [
    "### Looks pretty great, actually. What are the lowest ones?"
   ]
  },
  {
   "cell_type": "code",
   "execution_count": 93,
   "metadata": {
    "collapsed": false
   },
   "outputs": [
    {
     "name": "stdout",
     "output_type": "stream",
     "text": [
      "['16SW105', '16SW1', '16SW59', '16SW35', 'ITSW59', 'ITSW83', 'ITSW61', 'ITSW93', 'ITSW87', 'ITSW11', 'ITSW37', '16SW21', '16SW89', 'ITSW77', 'ITSW29', 'ITSW129', 'ITSW89', 'ITSW33', '16SW55', '16SW91', 'ITSW19', 'ITSW13', 'ITSW79', 'ITSW131', '16SW93', 'ITSW91', 'ITSW43', '16SW79', 'ITSW27', 'ITSW73', 'ITSW107', 'ITSW85', 'ITSW1', '16SW67', '16SW83', 'ITSW51', '16SW11', 'ITSW55', 'ITSW39', '16SW13', '16SW101', '16SW45', 'ITSW53', 'ITSW57', 'ITSW7', 'ITSW81', 'ITSW109', 'ITSW41', 'ITSW35', '16SW3', 'ITSW119', 'ITSW45', 'ITSW101', 'ITSW49', '16SW7', 'ITSW113', 'ITSW143', '16SW29', 'ITSW105', 'ITSW115', '16SW73', 'ITSW75', 'ITSW97', 'ITSW17', '16SW9', '16SW77', 'ITSW121', 'ITSW9', '16SW85', '16SW23', '16SW43', '16SW65', '16SW135', '16SW17', 'ITSW15', '16SW61', 'ITSW111', '16SW117', 'ITSW133', 'ITSW123', 'ITSW137', 'ITSW95', 'ITSW127', 'ITSW69', '16SW145', 'ITSW25', 'ITSW117', 'ITSW31', '16SW39', 'ITSW67', 'ITSW47', '16SW121', '16SW15', '16SW37', '16SW115', '16SW143', 'ITSW145', '16SW75', '16SW111', 'ITSW139', 'ITSW71', '16SW51', '16SW19', 'ITSW103', '16SW129', 'ITSW21', 'ITSW135', '16SW81', 'ITSW23', '16SW69', '16SW139', '16SW33', '16SW95', 'ITSW125', '16SW97', '16SW71', '16SW49', '16SW5', '16SW119', '16SW47', '16SW27', '16SW63', '16SW103', '16SW107', 'ITSW65', '16SW53', '16SW31', '16SW127', 'ITSW99', '16SW109', '16SW125', 'ITSW63', '16SW113', '16SW41', '16SW87', '16SW131', '16SW137', '16SW25', '16SW133', '16SW99', '16SW123', 'ITSW3', 'ITSW5', '16SW57']\n",
      "[75245, 74623, 66093, 65641, 64539, 59405, 56495, 55853, 55411, 55152, 55096, 54774, 53266, 53237, 53062, 52907, 52503, 52017, 50601, 49903, 49287, 49207, 48829, 48248, 48089, 47824, 47713, 46929, 46878, 46572, 46432, 46339, 45839, 45772, 44651, 44262, 44215, 44108, 44097, 43994, 43737, 43227, 43007, 42954, 42727, 42662, 42455, 42397, 42393, 42207, 41869, 41760, 41726, 41617, 41608, 41545, 41505, 41445, 41416, 41407, 41206, 41194, 41156, 41136, 41106, 40763, 40662, 40563, 40401, 40367, 40348, 40216, 40080, 39568, 39187, 38275, 38225, 38051, 37995, 37687, 37673, 37615, 37436, 37400, 37212, 37199, 37157, 37087, 36918, 36764, 36730, 36685, 36372, 36342, 36016, 35799, 35727, 35597, 35457, 35436, 34775, 34757, 34586, 34560, 34156, 33998, 33432, 33367, 33175, 33040, 32824, 32440, 32432, 31777, 31455, 31416, 31201, 31079, 30043, 30033, 29935, 29625, 29003, 29002, 28473, 27678, 27575, 27282, 27188, 26546, 26076, 25764, 25693, 25561, 25235, 25204, 24987, 23563, 23141, 22946, 20079, 379, 186, 12]\n"
     ]
    }
   ],
   "source": [
    "X = np.arange(len(cnt.keys()))\n",
    "Y = [v for k, v in cnt.most_common()]\n",
    "Z = [k for k, v in cnt.most_common()]\n",
    "print Z\n",
    "print Y"
   ]
  },
  {
   "cell_type": "markdown",
   "metadata": {},
   "source": [
    "#### So it looks like sample IDs W3 and W5 for ITS had 379 and 186 sequences, while W57 for 16S had only 12. Next lowest is W123 for 16S with 20,079, so that's great - ranges up to 75,245!"
   ]
  },
  {
   "cell_type": "code",
   "execution_count": 22,
   "metadata": {
    "collapsed": false
   },
   "outputs": [
    {
     "name": "stdout",
     "output_type": "stream",
     "text": [
      "@W57_0 orig_name=M01056:162:000000000-AF6MY:1:1101:14421:1519\r\n",
      "AGACATAGTGCCAGCCGCCGCGGTAATACGTAGGGTGCGTTCGTTAATCGGAATTATTGGGCGTAAAGGGCGAGTAGGCGGTGCGGTAAGTGTGTTGTGAAATCCTCGGGCTCAAATCGAGGACTGCAACGATGACTGACGTGCTGGAGTGTGGGAGAGGTGCGTGGAATTCCAGGTGTAGCGGTGAAATGCGTAGATATCGGGAGGAACAACTGTGGCGAAAGAGGAGCACTGGAACACAACTGACGCTGAGGAGAGAAAGCTAGGGGAGAAAAAAGGAAAAGAAAACACAGAAGAAA\r\n",
      "+\r\n",
      "1>AAAFFFFFFFGGG11EA0E00E//D2A/F10//B/A/////BB//DA==G=BFIDF??=0=>I=GI=;<=/<>GG<B==>><=0IG9I2A@>II>?G;I>@<=F?>>>9<<II0F<I==>1<<;=IIIH1I>III@1:=I?9II@<I;II=<=IIIIII<>I;>=IIII>>0<0I;IIIGI>;IBIII==III=IIIIG;III>IBD@B29I=I=;GIIII<11?21?I9I?2I09I?II;I=AG==IFB012221GBDA00B0A13D00FBB3D13B33B3FBB3331B33>1111\r\n",
      "@W57_1 orig_name=M01056:162:000000000-AF6MY:1:1101:14435:1592\r\n",
      "AGACATAGTGCCAGCCGCCGCGGTAATACGAAGGGGGCTAGCGTTGCTCGGAATCACTGGGCGTAAAGCGCAAGTAGGCGGCTTGTTAAGTCAGGGGTGAAATCCTGGAGCTCAACTCCAGAACTGCCTTTGATACTGGAGAGCTTGAGTCCGGGAGAGGTGAGTGGAACTGCGAGTGTAGAGGTGAAATTCGTAGATATTCGCAAGAACACCAGTGGCGAAGGCGGATCACTGGCACGGTACTGACGCTGAGGTGCGAAAGCGTGGGGAGCAAACAGGAATAGAAACCCTTGTAGTCA\r\n",
      "+\r\n",
      "3>ABBFFFFFFFGGGGGGGGGCGEGAGFBC22A11000E1130BE01FE?=IIBII?FA@@1GEIIGA@G>>0=II=GIH=<IIHIIIII@>:=I?>I<IIIIIII@II>0FCIIIG@II?II<III?DIIIIIIIIII1II=IIIII?IIB0I>IIIIIIIIIIA?II=GIGIIIIIIIIII2IIIIIIIGIIIIIIIIIBIIII>II=IHIIIIIG<III?=>>I2I>I?I>09/===IIGGIIG>>IGFA////1FFEA0A0AA11D10FBB1BA3B33F1EBB1111113>1111\r\n",
      "@W57_2 orig_name=M01056:162:000000000-AF6MY:1:1101:17523:1690\r\n",
      "AGACATAGTGCCAGCAGCCGCGGTAATACGTAGGGTGCAAGCGTTAATAGGAATTACTGGGCGTAAAGCGTGCGCAGGCGGTGATGTAAGACCGATGTGAAATCCCCGGGCTCAACCTGGGAACTGCATTTGTGACAGCATCGCTGGAGTGCGGCAGAGGGGGATGGAATTCCGCGTGTAGAAGTGAAATGCGTAGATATGCGGAGAAACACCGATGGCGAAGGCAATACCCTGGGCCTGCACTGACGCTCATGCACGAAAGCGTGGGGAGCAAACAGGATTAGATACCCGAGTAGTCA\r\n"
     ]
    }
   ],
   "source": [
    "!head ../../SeqData/pear_merged_W57_2015-11-06.assembled.fastq"
   ]
  },
  {
   "cell_type": "markdown",
   "metadata": {},
   "source": []
  }
 ],
 "metadata": {
  "kernelspec": {
   "display_name": "Python 2",
   "language": "python",
   "name": "python2"
  },
  "language_info": {
   "codemirror_mode": {
    "name": "ipython",
    "version": 2
   },
   "file_extension": ".py",
   "mimetype": "text/x-python",
   "name": "python",
   "nbconvert_exporter": "python",
   "pygments_lexer": "ipython2",
   "version": "2.7.9"
  }
 },
 "nbformat": 4,
 "nbformat_minor": 0
}
