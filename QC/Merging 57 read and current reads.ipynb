{
 "cells": [
  {
   "cell_type": "markdown",
   "metadata": {},
   "source": [
    "####This notebook is for basic QC on sequencing data\n",
    "\n",
    "### %install_ext https://raw.githubusercontent.com/SchlossLab/ipython-mothurmagic/master/mothurmagic.py\n",
    "### Only needs to be done once - gets the mothurmagic so you can run mother easily in the %notebook"
   ]
  },
  {
   "cell_type": "code",
   "execution_count": 1,
   "metadata": {
    "collapsed": false
   },
   "outputs": [],
   "source": [
    "%load_ext mothurmagic\n",
    "# Loads mothurmagic so we can run mothur in the notebook using %%mothur at the top of the cell"
   ]
  },
  {
   "cell_type": "code",
   "execution_count": 2,
   "metadata": {
    "collapsed": false
   },
   "outputs": [
    {
     "name": "stdout",
     "output_type": "stream",
     "text": [
      "mothur > help()\n",
      "For more information about a specific command type 'commandName(help)' i.e. 'read.dist(help)'\n",
      "\n",
      "For further assistance please refer to the Mothur manual on our wiki at http://www.mothur.org/wiki, or contact Pat Schloss at mothur.bugs@gmail.com.\n",
      "\n",
      "mothur > quit()\n"
     ]
    }
   ],
   "source": [
    "%%mothur\n",
    "help()"
   ]
  },
  {
   "cell_type": "code",
   "execution_count": 40,
   "metadata": {
    "collapsed": false
   },
   "outputs": [
    {
     "name": "stdout",
     "output_type": "stream",
     "text": [
      "/opt/virt_env/bin:/anaconda/bin:/Users/Thea/anaconda/bin:/usr/local/bin:/usr/bin:/bin:/usr/sbin:/sbin:/opt/X11/bin:/usr/texbin:/anaconda/bin/samtools-0.1.19/:/anaconda/bin/bowtie2-2.2.5/:/anaconda/bin/cufflinks-2.2.1.OSX_x86_64/:/anaconda/bin/tophat-2.1.0.OSX_x86_64/\r\n"
     ]
    }
   ],
   "source": [
    "!echo $PATH\n",
    "#Make sure mothur folder is in your path somehow. If not, enter\n",
    "# !export PATH=$PATH:/opt/virt_env/bin/mothur\n",
    "# into your terminal"
   ]
  },
  {
   "cell_type": "markdown",
   "metadata": {},
   "source": [
    "First we need to cut out sequences with errors"
   ]
  },
  {
   "cell_type": "code",
   "execution_count": 3,
   "metadata": {
    "collapsed": false
   },
   "outputs": [
    {
     "name": "stdout",
     "output_type": "stream",
     "text": [
      "usearch v8.0.1623_i86osx32, 4.0Gb RAM (17.2Gb total), 4 cores\n",
      "(C) Copyright 2013-15 Robert C. Edgar, all rights reserved.\n",
      "http://drive5.com/usearch\n",
      "\n",
      "Licensed to: tlw59@cornell.edu\n",
      "\n",
      "00:01 1.6Mb  100.0% Filtering, 96.8% passed\n",
      "     25669  FASTQ recs (25.7k)             \n",
      "       821  Low qual recs discarded (expected errs > 1.00)\n",
      "     24848  Converted (24.8k, 96.8%)\n"
     ]
    }
   ],
   "source": [
    "! usearch -fastq_filter ../../SeqData/W57.assembled.fastq \\\n",
    "-fastaout ../../SeqData/W57.assembled.maxee.fasta \\\n",
    "-fastq_maxee 1\n",
    "# Using Roger Edgar's max expected error filtering\n",
    "# Note we needed to remove - dashes from the name for future mothur processing"
   ]
  },
  {
   "cell_type": "markdown",
   "metadata": {},
   "source": [
    "02:10 1.6Mb  100.0% Filtering, 96.4% passed  \n",
    "   5665259  FASTQ recs (5.7M)              \n",
    "    205142  Low qual recs discarded (expected errs > 1.00)  \n",
    "   5460117  Converted (5.5M, 96.4%)  "
   ]
  },
  {
   "cell_type": "markdown",
   "metadata": {},
   "source": [
    "###Now we do need to pull apart ITS vs 16S seqs"
   ]
  },
  {
   "cell_type": "code",
   "execution_count": 8,
   "metadata": {
    "collapsed": true
   },
   "outputs": [],
   "source": [
    "from Bio import SeqIO\n",
    "from Bio.Seq import Seq"
   ]
  },
  {
   "cell_type": "code",
   "execution_count": 40,
   "metadata": {
    "collapsed": false
   },
   "outputs": [],
   "source": [
    "# Setting the sequence names to match the main file\n",
    "fh = open(\"../../SeqData/W57.assembled.maxee.fasta\", \"r\")\n",
    "# Open your fasta file\n",
    "fh16S = open(\"../../SeqData/W57.assembled.maxee.16S.fasta\", \"w\")\n",
    "# Create or open your ITS and 16S files\n",
    "for record in SeqIO.parse(fh, \"fasta\") :\n",
    "    tag = str(record.id)\n",
    "    newtag = \"16S\"+tag\n",
    "    record.description = newtag\n",
    "    record.id = newtag\n",
    "    SeqIO.write(record, fh16S, \"fasta\")  \n",
    "fh.close()\n",
    "fh16S.close()"
   ]
  },
  {
   "cell_type": "code",
   "execution_count": 43,
   "metadata": {
    "collapsed": false
   },
   "outputs": [
    {
     "name": "stdout",
     "output_type": "stream",
     "text": [
      ">16SW57_3\r\n",
      "AGACATAGTGCCAGCAGCCGCGGTAATACAGAGGTCTCAAGCGTTGTTCGGATTCATTGG\r\n",
      "GCGTAAAGGGTGCGTAGGTGGCGGGGTAAGTCAGGTGTGAAATCTCGGGGCTCAACCCCG\r\n",
      "AAACTGCACTTGATACTGCCTTGCTCGAGTACTGGAGAGGAGATTGGAATTTACGGTGTA\r\n",
      "GCAGTGAAATGCGTAGATATCGTAAGGAAGACCAGTGGCGAAGGCGAATCTCTGGACAGT\r\n",
      "TACTGACACTGAGGCACGAAGGCCAGGGGAGCAAACAGGATTAGAAACCCTAGTAGTCA\r\n",
      ">16SW57_4\r\n",
      "AGACATAGTGCCAGCAGCCGCGGTAATACGTAGGGGGCAAGCGTTGTCCGGATTTATTGG\r\n",
      "GCGTAAAGAGCTCGTAGGCGGTTCCGTAAGTCGAGTGTGAAAAATCTGGGCTCAACCCAG\r\n",
      "TGGAGCACTCGATACTGCGGTGACTAGAGTACGGTAGAGGAGTGTGGAATTCCTGGTGTA\r\n",
      "GCGGTGAAATGCGCAGATATCAGGAGGAACACCAACGGCGAAGGCAGCACTCTGGGCCGG\r\n",
      "TACTGACGCTGAGGAGCGAAAGCGTGGGGAGCAAACAGGATTAGAAACCCTAGTAGTCC\r\n",
      ">16SW57_5\r\n",
      "AGACATAGTGCCAGCCGCCGCGGTAATACAGAGGGGGCAAGCGTTGTCCGGAATTACTGG\r\n",
      "GCGTACAGCGCGCGCAGGCGGTTGCCGACGTGCCGTGTGACAAACGGGGGCTCAACCCCC\r\n",
      "GAGGGCCACGGTAAACGGGGTGACTGGAGGAAGGGAGAGGGATGTGGAATGCCCGGTGGA\r\n",
      "GCGGTGAAATGCGTAGAGATCGGGCGGAACACCAGCGGCGAAGGCGGCATCCTGGCCCTT\r\n",
      "ACCTGACGCTGAGGCGCGAGAGCGTGGGGAGCAAACAGGATTAGAACCCCCTGTAGTCC\r\n",
      ">16SW57_6\r\n",
      "AGACATAGTGCCAGCCGCCGCGGTAATACGAAGGGGGCTAGCGTTGCTCGGAATCACTGG\r\n",
      "GCGTAAAGGGTGCGTAGGCGGGTCTTTAAGTCAGGGGTGAAATCCTGGAGCTCAACTCCA\r\n",
      "GAACTGCCTTTGATACTGAGGATCTTGAGTTCGGGAGAGGTGAGTGGAACTGCGAGTGTA\r\n",
      "GAGGTGAAATTCGTAGATATTCGCAAGAACACCAGTGGCGAAGGCGGCTCACTGGCCCGA\r\n",
      "TACTGACGCTGAGGCACGAAAGCGTGGGGAGCAAACAGGATTAGATACCCTAGTAGTCC\r\n",
      ">16SW57_7\r\n",
      "AGACATAGTGCCAGCAGCCGCGGTAATACAGAGGGTGCGAGCGTTAATCGGAATTACTGG\r\n",
      "GCGTAAAGCGTGCGTAGACGGCTATCTAAGTCGGGTGTGAAAGCCCCGGGCTCAACCTGG\r\n",
      "GAATTGCATTCGAGACTGAATAGCTAGGGTACGGTAGAGGGAAGTGGAATTTCCGGTGTA\r\n",
      "GCGGTGAAATGCGTAGATATCGGAAGGAACATCAGTGGCGAAAGCGACTTCCTGGACCAG\r\n",
      "TACCGACGTTCAGGCACGAAAGCGTGGGGAGCAAACAGGATTAGATACCCGTGTAGTCC\r\n",
      ">16SW57_8\r\n",
      "AGACATAGTGCCAGCCGCCGCGGTAATACGTAGGTGGCAAGCGTTGTCCGGAATTATTGG\r\n",
      "GCGTAAAGCGCGCGCAGGCGGTCCTTTAAGTCTGATGTGAAAGCCCACGGCTCAACCGTG\r\n",
      "GAGGGTCATTGGAAACTGGGGGACTTGAGTGCAGAAGAGGAAAGCGGAATTCCACGTGTA\r\n",
      "GCGGTGAAATGCGTAGAGATGTGGAGGAACACCAGTGGCGAAGGCGGCTTTCTGGTCTGT\r\n",
      "AACTGACGCTGAGGCGCGAAAGCGTGGGGAGCAAACAGGATTAGATACCCTTGTAGTCC\r\n",
      ">16SW57_9\r\n",
      "AGACATAGTGCCAGCCGCCGCGGTAAGACAGAGGGTGCAAACGTTGTTCGGAATTACTGG\r\n",
      "GCGTAAAGAGCGCGTAGGCGGTCCGATAAGTCGGCTGTGAAAGTCAGGGGCTCAACCCTT\r\n",
      "GAAAGCCGGCCGATACTGTCGGACTAGAGTCCGGAAGAGGCGAGTGGAATTCCCGGTGTA\r\n",
      "GCGGTGAAATGCGCAGATATCGGGAGGAACACCAATGGCGAAGGCAGCTCGCTGGGACGG\r\n",
      "TACTGACGCTGAGGCGCGAAAGCGTGGGGAGCAAACAGGATTAGATACCCTTGTAGTCC\r\n",
      ">16SW57_10\r\n",
      "AGACATAGTGCCAGCCGCCGCGGTAATACGAAGGGGGCTAGCGTTGCTCGGAATTACTGG\r\n",
      "GCGTAAAGGGCGCGTAGGCGGACAGTTTAGTCAGAGGTGAAAGCCCAGGGCTCAACCTTG\r\n",
      "GAATTGCATTTGATACTGGCTGTCTTGAGTTCGGGAGAGGTGAGTGGAATGCCGAGTGTA\r\n",
      "GAGGTGAAATTCGTAGATATTCGGCGGAACACCAGTGGCGAAGGCGACTCACTGGCCCGA\r\n",
      "TACTGACGCTGAGGCGCGAAAGCGTGGGGAGCAAACAGGATTAGAAACCCGTGTAGTCC\r\n",
      ">16SW57_11\r\n",
      "AGACATAGTGCCAGCCGCCGCGGTAATACGTAGGGACCAAGCGTTGTTCGGATTTACTGG\r\n"
     ]
    }
   ],
   "source": [
    "!head -50 ../../SeqData/W57.assembled.maxee.16S.fasta"
   ]
  },
  {
   "cell_type": "code",
   "execution_count": 44,
   "metadata": {
    "collapsed": true
   },
   "outputs": [],
   "source": [
    "cat ../../SeqData/W57.assembled.maxee.16S.fasta ../../SeqData/pear_merged_2015_11_04.assembled.maxee.16S.fasta >  ../../SeqData/pear_merged_2015_11_04.assembled.maxee.16S.complete.fasta"
   ]
  },
  {
   "cell_type": "code",
   "execution_count": null,
   "metadata": {
    "collapsed": true
   },
   "outputs": [],
   "source": []
  }
 ],
 "metadata": {
  "kernelspec": {
   "display_name": "Python 2",
   "language": "python",
   "name": "python2"
  },
  "language_info": {
   "codemirror_mode": {
    "name": "ipython",
    "version": 2
   },
   "file_extension": ".py",
   "mimetype": "text/x-python",
   "name": "python",
   "nbconvert_exporter": "python",
   "pygments_lexer": "ipython2",
   "version": "2.7.9"
  }
 },
 "nbformat": 4,
 "nbformat_minor": 0
}
