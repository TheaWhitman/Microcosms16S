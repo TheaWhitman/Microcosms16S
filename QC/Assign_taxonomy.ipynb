{
 "cells": [
  {
   "cell_type": "code",
   "execution_count": 1,
   "metadata": {
    "collapsed": false
   },
   "outputs": [],
   "source": [
    "# The latest greengenes db was updated from the QIIME website \n",
    "# This is the assign taxonomy command from QIIME, using the greengenes database at 97%.\n",
    "# It is using the default uclust method, at default min 0.9 similarity\n",
    "nprocs = 4\n",
    "#!mkdir ../../SeqData/tmp\n",
    "!assign_taxonomy.py -i ../SeqData/otus.pick.fasta -o ../SeqData/Taxonomy/"
   ]
  },
  {
   "cell_type": "code",
   "execution_count": 2,
   "metadata": {
    "collapsed": false
   },
   "outputs": [
    {
     "name": "stdout",
     "output_type": "stream",
     "text": [
      "otus.pick_tax_assignments.log otus.pick_tax_assignments.txt\r\n"
     ]
    }
   ],
   "source": [
    "!ls ../SeqData/Taxonomy/"
   ]
  },
  {
   "cell_type": "code",
   "execution_count": 3,
   "metadata": {
    "collapsed": false
   },
   "outputs": [
    {
     "name": "stdout",
     "output_type": "stream",
     "text": [
      "16SW127_1682846 k__Bacteria; p__Proteobacteria; c__Deltaproteobacteria; o__MIZ46 \b; f__; g__; s__ 1.00    3\n",
      "16SW89_1379231  k__Bacteria; p__TM7; c__SC3; o__; f__; g__; s__ 1.00    2\n",
      "16SW61_207941   k__Bacteria; p__Planctomycetes; c__Planctomycetia; o__Gemmatales \b; f__Gemmataceae; g__; s__      1.00    3\n",
      "16SW3_58190     k__Bacteria; p__Planctomycetes; c__Planctomycetia; o__Gemmatales \b; f__Gemmataceae; g__; s__      1.00    3\n",
      "16SW35_61854    k__Bacteria; p__Acidobacteria; c__iii1-8; o__DS-18; f__; g__; s_ \b_       1.00    3\n",
      "16SW121_11315   k__Bacteria; p__Actinobacteria; c__Acidimicrobiia; o__Acidimicro \bbiales; f__; g__; s__   0.67    3\n",
      "16SW71_546484   k__Bacteria; p__Planctomycetes; c__Planctomycetia; o__Gemmatales \b; f__Gemmataceae; g__; s__      1.00    3\n",
      "16SW55_59225    k__Bacteria; p__Actinobacteria; c__Thermoleophilia; o__Solirubro \bbacterales; f__Solirubrobacteraceae; g__; s__   1.00    3\n",
      "16SW15_273922   k__Bacteria; p__Proteobacteria; c__Deltaproteobacteria; o__Myxoc \boccales; f__; g__; s__  1.00    3\n",
      "16SW97_1882433  k__Bacteria; p__Planctomycetes; c__Phycisphaerae; o__Phycisphaer \bales; f__; g__; s__     0.67    3\n",
      "16SW63_201305   k__Bacteria; p__Proteobacteria; c__Deltaproteobacteria; o__Myxoc \boccales; f__; g__; s__  1.00    3\n",
      "16SW9_210104    k__Bacteria; p__Proteobacteria; c__Deltaproteobacteria; o__MIZ46 \b; f__; g__; s__ 1.00    3\n",
      "\u001b[K16SW75_20047    k__Bacteria; p__Planctomycetes; c__Phycisphaerae; o__Phycisphaer \b:\u001b[K"
     ]
    }
   ],
   "source": [
    "!less ../SeqData/Taxonomy/otus.pick_tax_assignments.txt"
   ]
  },
  {
   "cell_type": "code",
   "execution_count": 6,
   "metadata": {
    "collapsed": false
   },
   "outputs": [],
   "source": [
    "# Joining the classification taxonomy to the biom table\n",
    "!if [ -f ../SeqData/otu_table.tax.biom ]; then rm ../SeqData/otu_table.tax.biom; fi #This is to mitigate a biom bug\n",
    "! biom add-metadata -i ../SeqData/otu_table.biom -o ../SeqData/otu_table.tax.biom \\\n",
    "--observation-metadata-fp ../SeqData/Taxonomy/otus.pick_tax_assignments.txt \\\n",
    "--observation-header OTUID,taxonomy,confidence,numrefdbseqs --sc-separated taxonomy "
   ]
  },
  {
   "cell_type": "code",
   "execution_count": 7,
   "metadata": {
    "collapsed": true
   },
   "outputs": [],
   "source": [
    "# Trying to add the mapping data too.\n",
    "!if [ -f ../SeqData/otu_table.tax.meta.biom ]; then rm ../SeqData/otu_table.tax.meta.biom; fi #This is to mitigate a biom bug\n",
    "! biom add-metadata -i ../SeqData/otu_table.tax.biom -o ../SeqData/otu_table.tax.meta.biom \\\n",
    "--sample-metadata-fp ../SeqData/Metadata.txt"
   ]
  },
  {
   "cell_type": "code",
   "execution_count": 8,
   "metadata": {
    "collapsed": false
   },
   "outputs": [],
   "source": [
    "!if [ -f ../SeqData/otu_table.tax.meta.biom.summary.txt ]; then rm ../SeqData/otu_table.tax.meta.biom.summary.txt; fi #This is to mitigate a biom bug\n",
    "! biom summarize-table -i ../SeqData/otu_table.tax.meta.biom -o ../SeqData/otu_table.tax.meta.biom.summary.txt"
   ]
  },
  {
   "cell_type": "code",
   "execution_count": 9,
   "metadata": {
    "collapsed": false
   },
   "outputs": [
    {
     "name": "stdout",
     "output_type": "stream",
     "text": [
      "Num samples: 72\r\n",
      "Num observations: 5406\r\n",
      "Total count: 2191799\r\n",
      "Table density (fraction of non-zero values): 0.453\r\n",
      "\r\n",
      "Counts/sample summary:\r\n",
      " Min: 11.0\r\n",
      " Max: 62236.0\r\n",
      " Median: 30043.000\r\n",
      " Mean: 30441.653\r\n",
      " Std. dev.: 9855.279\r\n",
      " Sample Metadata Categories: Cosm; Trtmt; Day\r\n",
      " Observation Metadata Categories: taxonomy; confidence; numrefdbseqs\r\n",
      "\r\n",
      "Counts/sample detail:\r\n",
      " 57: 11.0\r\n",
      " 123: 16314.0\r\n",
      " 25: 18585.0\r\n",
      " 133: 18640.0\r\n",
      " 99: 18928.0\r\n",
      " 87: 19254.0\r\n",
      " 131: 19440.0\r\n",
      " 137: 20833.0\r\n",
      " 109: 20935.0\r\n",
      " 41: 20947.0\r\n",
      " 31: 21688.0\r\n",
      " 113: 21756.0\r\n",
      " 127: 22296.0\r\n",
      " 125: 22858.0\r\n",
      " 63: 23574.0\r\n",
      " 103: 23633.0\r\n",
      " 27: 24236.0\r\n",
      " 5: 24402.0\r\n",
      " 107: 24521.0\r\n",
      " 53: 24748.0\r\n",
      " 119: 24945.0\r\n",
      " 47: 25208.0\r\n",
      " 33: 25968.0\r\n",
      " 81: 26744.0\r\n",
      " 19: 27197.0\r\n",
      " 49: 27207.0\r\n",
      " 51: 27424.0\r\n",
      " 139: 27448.0\r\n",
      " 69: 27898.0\r\n",
      " 75: 27930.0\r\n",
      " 129: 27932.0\r\n",
      " 111: 28303.0\r\n",
      " 71: 28368.0\r\n",
      " 95: 28626.0\r\n",
      " 97: 28653.0\r\n",
      " 115: 29982.0\r\n",
      " 15: 30104.0\r\n",
      " 143: 30393.0\r\n",
      " 145: 30564.0\r\n",
      " 121: 30654.0\r\n",
      " 39: 30984.0\r\n",
      " 37: 31294.0\r\n",
      " 77: 31410.0\r\n",
      " 65: 31491.0\r\n",
      " 85: 31636.0\r\n",
      " 17: 31664.0\r\n",
      " 61: 32314.0\r\n",
      " 9: 32455.0\r\n",
      " 135: 32917.0\r\n",
      " 7: 32962.0\r\n",
      " 23: 33158.0\r\n",
      " 73: 34072.0\r\n",
      " 3: 34083.0\r\n",
      " 29: 34243.0\r\n",
      " 117: 34305.0\r\n",
      " 43: 34438.0\r\n",
      " 101: 35333.0\r\n",
      " 83: 35811.0\r\n",
      " 11: 36448.0\r\n",
      " 93: 36574.0\r\n",
      " 13: 36833.0\r\n",
      " 45: 37288.0\r\n",
      " 67: 37730.0\r\n",
      " 91: 38120.0\r\n",
      " 79: 38308.0\r\n",
      " 55: 42384.0\r\n",
      " 21: 44701.0\r\n",
      " 89: 44969.0\r\n",
      " 1: 56590.0\r\n",
      " 59: 57429.0\r\n",
      " 35: 58472.0\r\n",
      " 105: 62236.0\r\n"
     ]
    }
   ],
   "source": [
    "!cat ../SeqData/otu_table.tax.meta.biom.summary.txt"
   ]
  },
  {
   "cell_type": "markdown",
   "metadata": {},
   "source": [
    "Now our full OTU table with metadata is found at:\n",
    "../SeqData/otu_table.tax.meta.biom"
   ]
  },
  {
   "cell_type": "code",
   "execution_count": null,
   "metadata": {
    "collapsed": true
   },
   "outputs": [],
   "source": []
  }
 ],
 "metadata": {
  "kernelspec": {
   "display_name": "Python 2",
   "language": "python",
   "name": "python2"
  },
  "language_info": {
   "codemirror_mode": {
    "name": "ipython",
    "version": 2
   },
   "file_extension": ".py",
   "mimetype": "text/x-python",
   "name": "python",
   "nbconvert_exporter": "python",
   "pygments_lexer": "ipython2",
   "version": "2.7.9"
  }
 },
 "nbformat": 4,
 "nbformat_minor": 0
}
