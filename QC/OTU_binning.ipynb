{
 "cells": [
  {
   "cell_type": "code",
   "execution_count": 1,
   "metadata": {
    "collapsed": true
   },
   "outputs": [],
   "source": [
    "# Imports a parser from cogent\n",
    "from cogent.parse.fasta import MinimalFastaParser as parse"
   ]
  },
  {
   "cell_type": "code",
   "execution_count": 2,
   "metadata": {
    "collapsed": true
   },
   "outputs": [],
   "source": [
    "%load_ext mothurmagic\n",
    "# Loads mothurmagic so we can run mothur in the notebook using %%mothur at the top of the cell"
   ]
  },
  {
   "cell_type": "code",
   "execution_count": 3,
   "metadata": {
    "collapsed": true
   },
   "outputs": [],
   "source": [
    "# applies for the whole segment\n",
    "nprocs = 4"
   ]
  },
  {
   "cell_type": "code",
   "execution_count": 4,
   "metadata": {
    "collapsed": false
   },
   "outputs": [
    {
     "name": "stdout",
     "output_type": "stream",
     "text": [
      ">16SW125_50\r\n",
      "GACGAACCGTGCGAACGTTATTCGGAATCACTGGGCTTAAAGCGCGTGTAGGCGGGCGGGTACGTCGGCGACTGAAAGCCCCCGGCTCAACCGGGGAAGGGGTGCCGAAACGGCCGGCCTGGAGGGGCGTAGGGGGACCTGGAACTTCCGGTGGAGCGGTGAAATGCGTTGAGATCGGAAGGAACGCCCGTGGCGAAAGCGAGGTCCTGGACGCCATCTGACGCTGAGACGCGAAAGCCAGGGGAGCGAACGG\r\n",
      ">16SW9_31866\r\n",
      "GACGAACCGTGCGAACGTTATTCGGAATCACTGGGCTTAAAGCGCGTGTAGGCGGGCGGGTACGTCGGCGACTGAAAGCCCCCGGCTCAACCGGGGAAGGGGTGCCGAAACGGCCGGCCTGGAGGGGCGTAGGGGGACCTGGAACTTCCGGTGGAGCGGTGAAATGCGTTGAGATCGGAAGGAACGCCCGTGGCGAAAGCGAGGTCCTGGACGCCATCTGACGCTGAGACGCGAAAGCCAGGGGAGCGAACGG\r\n",
      ">16SW73_88828\r\n",
      "GACGAACCGTGCGAACGTTATTCGGAATCACTGGGCTTAAAGCGCGTGTAGGCGGGCGGGTACGTCGGCGACTGAAAGCCCCCGGCTCAACCGGGGAAGGGGTGCCGAAACGGCCGGCCTGGAGGGGCGTAGGGGGACCTGGAACTTCCGGTGGAGCGGTGAAATGCGTTGAGATCGGAAGGAACGCCCGTGGCGAAAGCGAGGTCCTGGACGCCATCTGACGCTGAGACGCGAAAGCCAGGGGAGCGAACGG\r\n",
      ">16SW77_739659\r\n",
      "GACGAACCGTGCGAACGTTATTCGGAATCACTGGGCTTAAAGCGCGTGTAGGCGGGCGGGTACGTCGGCGACTGAAAGCCCCCGGCTCAACCGGGGAAGGGGTGCCGAAACGGCCGGCCTGGAGGGGCGTAGGGGGACCTGGAACTTCCGGTGGAGCGGTGAAATGCGTTGAGATCGGAAGGAACGCCCGTGGCGAAAGCGAGGTCCTGGACGCCATCTGACGCTGAGACGCGAAAGCCAGGGGAGCGAACGG\r\n",
      ">16SW39_1122566\r\n",
      "GACGAACCGTGCGAACGTTATTCGGAATCACTGGGCTTAAAGCGCGTGTAGGCGGGCGGGTACGTCGGCGACTGAAAGCCCCCGGCTCAACCGGGGAAGGGGTGCCGAAACGGCCGGCCTGGAGGGGCGTAGGGGGACCTGGAACTTCCGGTGGAGCGGTGAAATGCGTTGAGATCGGAAGGAACGCCCGTGGCGAAAGCGAGGTCCTGGACGCCATCTGACGCTGAGACGCGAAAGCCAGGGGAGCGAACGG\r\n"
     ]
    }
   ],
   "source": [
    "# Checking out data file.\n",
    "# This file was created using the QC_basic notebook.\n",
    "!head ../SeqData/16SfinalQC.fasta"
   ]
  },
  {
   "cell_type": "code",
   "execution_count": 5,
   "metadata": {
    "collapsed": false
   },
   "outputs": [
    {
     "name": "stdout",
     "output_type": "stream",
     "text": [
      "usearch v8.0.1623_i86osx32, 4.0Gb RAM (17.2Gb total), 4 cores\n",
      "(C) Copyright 2013-15 Robert C. Edgar, all rights reserved.\n",
      "http://drive5.com/usearch\n",
      "\n",
      "Licensed to: tlw59@cornell.edu\n",
      "\n",
      "00:06 772Mb  100.0% Reading ../SeqData/16SfinalQC.fasta\n",
      "00:12 846Mb 2495989 seqs, 769277 uniques, 664701 singletons (86.4%)\n",
      "00:12 846Mb Min size 1, median 1, max 23646, avg 3.24\n",
      "00:25 846Mb  100.0% Writing ../SeqData/16SfinalQC.unique.fasta\n"
     ]
    }
   ],
   "source": [
    "# Making usearch-style unique sequences for subsequent steps\n",
    "# This could run out of memory if seq files are too large\n",
    "# Removing singletons later\n",
    "!usearch -derep_fulllength ../SeqData/16SfinalQC.fasta -fastaout ../SeqData/16SfinalQC.unique.fasta -sizeout -threads 4"
   ]
  },
  {
   "cell_type": "code",
   "execution_count": 7,
   "metadata": {
    "collapsed": false
   },
   "outputs": [
    {
     "name": "stdout",
     "output_type": "stream",
     "text": [
      ">16SW55_76;size=23646;\r\n",
      "TACGAAGGGGGCTAGCGTTGCTCGGAATCACTGGGCGTAAAGGGTGCGTAGGCGGGTCTTTAAGTCAGGGGTGAAATCCT\r\n",
      "GGAGCTCAACTCCAGAACTGCCTTTGATACTGAGGATCTTGAGTTCGGGAGAGGTGAGTGGAACTGCGAGTGTAGAGGTG\r\n",
      "AAATTCGTAGATATTCGCAAGAACACCAGTGGCGAAGGCGGCTCACTGGCCCGATACTGACGCTGAGGCACGAAAGCGTG\r\n",
      "GGGAGCAAACAG\r\n",
      ">16SW135_288;size=15469;\r\n",
      "TACGTAGGTGGCAAGCGTTGTCCGGAATTATTGGGCGTAAAGCGCGCGCAGGCGGTCCTTTAAGTCTGATGTGAAAGCCC\r\n",
      "ACGGCTCAACCGTGGAGGGTCATTGGAAACTGGGGGACTTGAGTACAGAAGAGAAGAGTGGAATTCCACGTGTAGCGGTG\r\n",
      "AAATGCGTAGAGATGTGGAGGAACACCAGTGGCGAAGGCGACTCTTTGGTCTGTAACTGACGCTGAGGCGCGAAAGCGTG\r\n",
      "GGGAGCAAACAG\r\n"
     ]
    }
   ],
   "source": [
    "!head ../SeqData/16SfinalQC.unique.fasta"
   ]
  },
  {
   "cell_type": "code",
   "execution_count": 8,
   "metadata": {
    "collapsed": false
   },
   "outputs": [
    {
     "name": "stdout",
     "output_type": "stream",
     "text": [
      "usearch v8.0.1623_i86osx32, 4.0Gb RAM (17.2Gb total), 4 cores\n",
      "(C) Copyright 2013-15 Robert C. Edgar, all rights reserved.\n",
      "http://drive5.com/usearch\n",
      "\n",
      "Licensed to: tlw59@cornell.edu\n",
      "\n",
      "00:02 279Mb  100.0% Reading ../SeqData/16SfinalQC.unique.fasta\n",
      "00:02 245Mb Getting sizes                                     \n",
      "00:04 246Mb Sorting 104576 sequences\n",
      "00:05 246Mb  100.0% Writing output\n"
     ]
    }
   ],
   "source": [
    "# Sequences are sorted by size\n",
    "# Here the size of clusters - we are excluding the singletons here\n",
    "# You would change minsize to 1 if you wanted to include singletons\n",
    "# Or, you know, just not do this step.\n",
    "# But you should just get rid of them.\n",
    "!usearch -sortbysize ../SeqData/16SfinalQC.unique.fasta -fastaout ../SeqData/16SfinalQC.unique.sorted.fasta -minsize 2"
   ]
  },
  {
   "cell_type": "code",
   "execution_count": 9,
   "metadata": {
    "collapsed": false
   },
   "outputs": [
    {
     "name": "stdout",
     "output_type": "stream",
     "text": [
      ">16SW21_148525;size=2;\r\n",
      "TACGGAGGGGGCTAGCGTTGTTCGGAATTACTGGGCGTAAAGCGCACGTAGGCGGCTTTGTAAGTTAGAGGTGAAAGCCC\r\n",
      "GGGGCTCAACCCCGGAATTGCCTTTAAGACTGCATCGCTAGAATTGTGGAGAGGTAAGTGGAATTCCGAGTGTAGGGGTG\r\n",
      "AAATTCGTAGATATTCGGAAGAACACCAGTGGCGAAGGCGACTTACTGGACACATATTGACGCTGAGGTGCGAAAGCGTG\r\n",
      "GGGAGCAAACAG\r\n",
      ">16SW59_1908809;size=2;\r\n",
      "CACGGAGGGGGCTAGCGTTGTTCGGAATTACTGGGCGTAAAGCGCACGTAGGCGGCTTTGCAAGTCAGAGGTGAAAGCCC\r\n",
      "GGGGCTCAACCCCGGAATAGCCTTTGAGACTGCATCGCTTGAACATCGGAGAGGTAAGTGGAATTCCGAGTGTAGAGGTG\r\n",
      "AAATTCGTAGATATTCGGAAGAACACCAGTGGCGAAGGCGACTTACTGGACGATTGTTGACGCTGAGGTGCGAAAGCGTG\r\n",
      "GGGAGCAAACAG\r\n"
     ]
    }
   ],
   "source": [
    "# Confirming least common sequences have 2 representatives\n",
    "!tail ../SeqData/16SfinalQC.unique.sorted.fasta"
   ]
  },
  {
   "cell_type": "code",
   "execution_count": 10,
   "metadata": {
    "collapsed": false
   },
   "outputs": [
    {
     "name": "stdout",
     "output_type": "stream",
     "text": [
      "usearch v8.0.1623_i86osx32, 4.0Gb RAM (17.2Gb total), 4 cores\n",
      "(C) Copyright 2013-15 Robert C. Edgar, all rights reserved.\n",
      "http://drive5.com/usearch\n",
      "\n",
      "Licensed to: tlw59@cornell.edu\n",
      "\n",
      "00:41  46Mb  100.0% 5652 OTUs, 12035 chimeras (11.5%)\n"
     ]
    }
   ],
   "source": [
    "# Here we are just creating the centroids, or \"seeds\" for future clustering\n",
    "# Default is 97% minimum ID - not recommended to use more than 97%.\n",
    "\n",
    "!usearch -cluster_otus ../SeqData/16SfinalQC.unique.sorted.fasta -otus ../SeqData/otus.fasta"
   ]
  },
  {
   "cell_type": "code",
   "execution_count": 11,
   "metadata": {
    "collapsed": false
   },
   "outputs": [],
   "source": [
    "# You do need to assign taxonomy in order to pull out the Euks., etc.\n",
    "# Input is your fasta file\n",
    "# Output is a fasta with taxonomy assinged (still working with unique seqs)\n",
    "# It's using the database that we got when recently updating QIIME.\n",
    "\n",
    "!parallel_assign_taxonomy_uclust.py -i ../SeqData/otus.fasta -o ../SeqData/otus.tax -O 4\n",
    "#-r data/97_Silva_111_rep_set_no_ambig.fasta \\\n",
    "#-t data/Silva_111_taxa_map_full.txt \\\n",
    "\n"
   ]
  },
  {
   "cell_type": "code",
   "execution_count": 13,
   "metadata": {
    "collapsed": false
   },
   "outputs": [],
   "source": [
    "# This makes a file of what we want to remove\n",
    "# Could change this to pull out different groups.\n",
    "# These primers actually had good Archaeal targets - so, it would be okay to include them.\n",
    "!egrep \"Chloroplast|Eukaryota|Unassigned|mitochondria\" \\\n",
    "../SeqData/otus.tax/otus_tax_assignments.txt \\\n",
    "| awk '{print $1}' > ../SeqData/to_remove_tax.accnos"
   ]
  },
  {
   "cell_type": "code",
   "execution_count": 14,
   "metadata": {
    "collapsed": false
   },
   "outputs": [
    {
     "name": "stdout",
     "output_type": "stream",
     "text": [
      "     246 ../SeqData/to_remove_tax.accnos\r\n"
     ]
    }
   ],
   "source": [
    "# wc is number of lines of the non-bacteria or archaea taxa that will be removed\n",
    "!wc -l ../SeqData/to_remove_tax.accnos"
   ]
  },
  {
   "cell_type": "code",
   "execution_count": 15,
   "metadata": {
    "collapsed": false
   },
   "outputs": [
    {
     "name": "stdout",
     "output_type": "stream",
     "text": [
      "16SW97_123368\r\n",
      "16SW99_21712\r\n",
      "16SW75_24363\r\n",
      "16SW67_25329\r\n",
      "16SW31_599253\r\n",
      "16SW101_21194\r\n",
      "16SW77_10033\r\n",
      "16SW21_28518\r\n",
      "16SW33_21381\r\n",
      "16SW31_1976\r\n"
     ]
    }
   ],
   "source": [
    "# Looking at what you're removing\n",
    "!head ../SeqData/to_remove_tax.accnos"
   ]
  },
  {
   "cell_type": "code",
   "execution_count": 21,
   "metadata": {
    "collapsed": false
   },
   "outputs": [
    {
     "name": "stdout",
     "output_type": "stream",
     "text": [
      ">16SW31_1976\r\n",
      "GACGGGGGGGGCAAGTGTTCTTCGGAATGACTGGGCGTAAAGGGCACGTAGGCGGTGAATCGGGTTGAAAGTGAAAGTCG\r\n",
      "CCAAAAAGTGGCGGAATGCTCTCGAAACCAATTCACTTGAGTGAGACAGAGGAGAGTGGAATTTCGTGTGTAGGGGTGAA\r\n",
      "ATCCGTAGATCTACGAAGGAACGCCAAAAGCGAAGGCAGCTCTCTGGGTCCCTACCGACGCTGGGGTGCGAAAGCATGGG\r\n",
      "GAGCGAACAG\r\n"
     ]
    }
   ],
   "source": [
    "# We can blast a few of these to see what they might be.\n",
    "! grep -A 4 \">16SW31_1976\" ../SeqData/otus.fasta\n",
    "# Clone matches might be artifacts of previous errors?\n",
    "# Some of them look like MitoC, etc.\n",
    "# Regardless, there are only 246."
   ]
  },
  {
   "cell_type": "code",
   "execution_count": 22,
   "metadata": {
    "collapsed": false
   },
   "outputs": [
    {
     "name": "stdout",
     "output_type": "stream",
     "text": [
      "mothur > remove.seqs(fasta=../SeqData/otus.fasta, accnos=../SeqData/to_remove_tax.accnos)\n",
      "Removed 246 sequences from your fasta file.\n",
      "\n",
      "Output File Names:\n",
      "../SeqData/otus.pick.fasta\n",
      "\n",
      "\n",
      "mothur > quit()\n"
     ]
    }
   ],
   "source": [
    "%%mothur\n",
    "remove.seqs(fasta=../SeqData/otus.fasta, accnos=../SeqData/to_remove_tax.accnos)"
   ]
  },
  {
   "cell_type": "code",
   "execution_count": null,
   "metadata": {
    "collapsed": true
   },
   "outputs": [],
   "source": [
    "# Pulling out the sample identifier.\n",
    "# It is adding a portion to the finalQC file that has the barcode label.\n",
    "# Then we can use this later\n",
    "# Now we will see how these reads map to the defined centroids (after removing EuK, etc.)\n",
    "# Basically, we cut, cut, refined our fasta to make our OTU centroids.\n",
    "# THEN, we went back to our original QC'd total fasta file and will throw it all against these nicely defined seeds.\n",
    "# Anything that doesn't match, we won't keep.\n",
    "!awk -F\"_\" \\\n",
    "'BEGIN{OFS=\";\"}{ if ( substr($1,0,1) == \">\"){ print $0,\"barcodelabel=\",$1 } else { print $0 } }' \\\n",
    "../SeqData/16SfinalQC.fasta | \\\n",
    "sed 's/;>//' > ../SeqData/16SfinalQC.usearch.fasta"
   ]
  },
  {
   "cell_type": "code",
   "execution_count": 26,
   "metadata": {
    "collapsed": false
   },
   "outputs": [],
   "source": [
    "# Pulling out the sample identifier.\n",
    "# It is adding a portion to the finalQC file that has the barcode label.\n",
    "# Then we can use this later\n",
    "# Now we will see how these reads map to the defined centroids (after removing EuK, etc.)\n",
    "# Basically, we cut, cut, refined our fasta to make our OTU centroids.\n",
    "# THEN, we went back to our original QC'd total fasta file and will throw it all against these nicely defined seeds.\n",
    "# Anything that doesn't match, we won't keep.\n",
    "!awk -F\"_\" \\\n",
    "'BEGIN{OFS=\";\"}{ if ( substr($1,0,1) == \">\"){ print $0,\"barcodelabel=\"substr($1,6)} else { print $0 } }' \\\n",
    "../SeqData/16SfinalQC.fasta | \\\n",
    "sed 's/;>//' > ../SeqData/16SfinalQC.usearch.fasta"
   ]
  },
  {
   "cell_type": "code",
   "execution_count": 27,
   "metadata": {
    "collapsed": false
   },
   "outputs": [
    {
     "name": "stdout",
     "output_type": "stream",
     "text": [
      ">16SW125_50;barcodelabel=125\r\n",
      "GACGAACCGTGCGAACGTTATTCGGAATCACTGGGCTTAAAGCGCGTGTAGGCGGGCGGGTACGTCGGCGACTGAAAGCCCCCGGCTCAACCGGGGAAGGGGTGCCGAAACGGCCGGCCTGGAGGGGCGTAGGGGGACCTGGAACTTCCGGTGGAGCGGTGAAATGCGTTGAGATCGGAAGGAACGCCCGTGGCGAAAGCGAGGTCCTGGACGCCATCTGACGCTGAGACGCGAAAGCCAGGGGAGCGAACGG\r\n",
      ">16SW9_31866;barcodelabel=9\r\n",
      "GACGAACCGTGCGAACGTTATTCGGAATCACTGGGCTTAAAGCGCGTGTAGGCGGGCGGGTACGTCGGCGACTGAAAGCCCCCGGCTCAACCGGGGAAGGGGTGCCGAAACGGCCGGCCTGGAGGGGCGTAGGGGGACCTGGAACTTCCGGTGGAGCGGTGAAATGCGTTGAGATCGGAAGGAACGCCCGTGGCGAAAGCGAGGTCCTGGACGCCATCTGACGCTGAGACGCGAAAGCCAGGGGAGCGAACGG\r\n",
      ">16SW73_88828;barcodelabel=73\r\n",
      "GACGAACCGTGCGAACGTTATTCGGAATCACTGGGCTTAAAGCGCGTGTAGGCGGGCGGGTACGTCGGCGACTGAAAGCCCCCGGCTCAACCGGGGAAGGGGTGCCGAAACGGCCGGCCTGGAGGGGCGTAGGGGGACCTGGAACTTCCGGTGGAGCGGTGAAATGCGTTGAGATCGGAAGGAACGCCCGTGGCGAAAGCGAGGTCCTGGACGCCATCTGACGCTGAGACGCGAAAGCCAGGGGAGCGAACGG\r\n",
      ">16SW77_739659;barcodelabel=77\r\n",
      "GACGAACCGTGCGAACGTTATTCGGAATCACTGGGCTTAAAGCGCGTGTAGGCGGGCGGGTACGTCGGCGACTGAAAGCCCCCGGCTCAACCGGGGAAGGGGTGCCGAAACGGCCGGCCTGGAGGGGCGTAGGGGGACCTGGAACTTCCGGTGGAGCGGTGAAATGCGTTGAGATCGGAAGGAACGCCCGTGGCGAAAGCGAGGTCCTGGACGCCATCTGACGCTGAGACGCGAAAGCCAGGGGAGCGAACGG\r\n",
      ">16SW39_1122566;barcodelabel=39\r\n",
      "GACGAACCGTGCGAACGTTATTCGGAATCACTGGGCTTAAAGCGCGTGTAGGCGGGCGGGTACGTCGGCGACTGAAAGCCCCCGGCTCAACCGGGGAAGGGGTGCCGAAACGGCCGGCCTGGAGGGGCGTAGGGGGACCTGGAACTTCCGGTGGAGCGGTGAAATGCGTTGAGATCGGAAGGAACGCCCGTGGCGAAAGCGAGGTCCTGGACGCCATCTGACGCTGAGACGCGAAAGCCAGGGGAGCGAACGG\r\n"
     ]
    }
   ],
   "source": [
    "!head ../SeqData/16SfinalQC.usearch.fasta"
   ]
  },
  {
   "cell_type": "code",
   "execution_count": 35,
   "metadata": {
    "collapsed": false
   },
   "outputs": [
    {
     "name": "stdout",
     "output_type": "stream",
     "text": [
      "usearch v8.0.1623_i86osx32, 4.0Gb RAM (17.2Gb total), 4 cores\n",
      "(C) Copyright 2013-15 Robert C. Edgar, all rights reserved.\n",
      "http://drive5.com/usearch\n",
      "\n",
      "Licensed to: tlw59@cornell.edu\n",
      "\n",
      "00:00 4.3Mb  100.0% Reading ../SeqData/otus.pick.fasta\n",
      "00:00 2.9Mb  100.0% Masking\n",
      "00:00 3.8Mb  100.0% Word stats\n",
      "00:00 3.8Mb  100.0% Alloc rows\n",
      "00:00 8.8Mb  100.0% Build index\n",
      "01:06  44Mb  100.0% Searching 16SfinalQC.usearch.fasta, 87.8% matched\n"
     ]
    }
   ],
   "source": [
    "# This is where the actual OTUs are being assigned. We choose 97% sequence ID threshold here.\n",
    "# This might take a while - Depending ont he clustering algorithm, like pairwise... \n",
    "# it would take, like, days on the same number of processors.\n",
    "# This is why usearch (centroid-based) is so much better\n",
    "# But is it more biologically relevant? ... maybe, maybe not.\n",
    "# Edgar is showing it's not that bad.\n",
    "\n",
    "# We take our total QC data\n",
    "# We compare it to the otusn.pick.fasta database we made above\n",
    "# We produce a readmap.uc file which tells us how the reads from our finalQC file map to the otusn seed database.\n",
    "\n",
    "# Using our full database of all fasta sequences, not just the unique ones\n",
    "# Using our picked OTUs as the reference database\n",
    "# we know the strands are oriented correctly and will use 97% ID\n",
    "# outputs a uclust formatted file (tab)\n",
    "# 4 processors\n",
    "\n",
    "!usearch -usearch_global ../SeqData/16SfinalQC.usearch.fasta -db ../SeqData/otus.pick.fasta \\\n",
    "-strand plus -id 0.97 -uc ../SeqData/readmap.uc -threads 4\n"
   ]
  },
  {
   "cell_type": "code",
   "execution_count": 36,
   "metadata": {
    "collapsed": false
   },
   "outputs": [
    {
     "name": "stdout",
     "output_type": "stream",
     "text": [
      "../SeqData/readmap.uc 100.0%   \n"
     ]
    }
   ],
   "source": [
    "# Makes an OTU table\n",
    "# It will tell me the OTU ID, and then for all the samples, which OTUs it has sequences from.\n",
    "!python /opt/virt_env/bin/uc2otutab.py ../SeqData/readmap.uc > ../SeqData/otu_table.txt"
   ]
  },
  {
   "cell_type": "code",
   "execution_count": 37,
   "metadata": {
    "collapsed": false
   },
   "outputs": [],
   "source": [
    "# Issues with biom table formatting\n",
    "!if [ -f ../SeqData/otu_table.biom ]; then rm ../SeqData/otu_table.biom; fi #This is to mitigate a biom bug\n",
    "!biom convert -i ../SeqData/otu_table.txt -o ../SeqData/otu_table.biom --table-type=\"OTU table\" --to-json"
   ]
  },
  {
   "cell_type": "code",
   "execution_count": 38,
   "metadata": {
    "collapsed": true
   },
   "outputs": [],
   "source": [
    "# Issues with biom table formatting\n",
    "!if [ -f ../SeqData/otu_table_summary.txt ]; then rm ../SeqData/otu_table_summary.txt; fi #This is to mitigate a biom bug\n",
    "!biom summarize-table -i ../SeqData/otu_table.biom -o ../SeqData/otu_table_summary.txt"
   ]
  },
  {
   "cell_type": "code",
   "execution_count": 39,
   "metadata": {
    "collapsed": false
   },
   "outputs": [
    {
     "name": "stdout",
     "output_type": "stream",
     "text": [
      "Num samples: 72\r\n",
      "Num observations: 5406\r\n",
      "Total count: 2191799\r\n",
      "Table density (fraction of non-zero values): 0.453\r\n",
      "\r\n",
      "Counts/sample summary:\r\n",
      " Min: 11.0\r\n",
      " Max: 62236.0\r\n",
      " Median: 30043.000\r\n",
      " Mean: 30441.653\r\n",
      " Std. dev.: 9855.279\r\n",
      " Sample Metadata Categories: None provided\r\n",
      " Observation Metadata Categories: None provided\r\n",
      "\r\n",
      "Counts/sample detail:\r\n",
      " 57: 11.0\r\n",
      " 123: 16314.0\r\n",
      " 25: 18585.0\r\n",
      " 133: 18640.0\r\n",
      " 99: 18928.0\r\n",
      " 87: 19254.0\r\n",
      " 131: 19440.0\r\n",
      " 137: 20833.0\r\n",
      " 109: 20935.0\r\n",
      " 41: 20947.0\r\n",
      " 31: 21688.0\r\n",
      " 113: 21756.0\r\n",
      " 127: 22296.0\r\n",
      " 125: 22858.0\r\n",
      " 63: 23574.0\r\n",
      " 103: 23633.0\r\n",
      " 27: 24236.0\r\n",
      " 5: 24402.0\r\n",
      " 107: 24521.0\r\n",
      " 53: 24748.0\r\n",
      " 119: 24945.0\r\n",
      " 47: 25208.0\r\n",
      " 33: 25968.0\r\n",
      " 81: 26744.0\r\n",
      " 19: 27197.0\r\n",
      " 49: 27207.0\r\n",
      " 51: 27424.0\r\n",
      " 139: 27448.0\r\n",
      " 69: 27898.0\r\n",
      " 75: 27930.0\r\n",
      " 129: 27932.0\r\n",
      " 111: 28303.0\r\n",
      " 71: 28368.0\r\n",
      " 95: 28626.0\r\n",
      " 97: 28653.0\r\n",
      " 115: 29982.0\r\n",
      " 15: 30104.0\r\n",
      " 143: 30393.0\r\n",
      " 145: 30564.0\r\n",
      " 121: 30654.0\r\n",
      " 39: 30984.0\r\n",
      " 37: 31294.0\r\n",
      " 77: 31410.0\r\n",
      " 65: 31491.0\r\n",
      " 85: 31636.0\r\n",
      " 17: 31664.0\r\n",
      " 61: 32314.0\r\n",
      " 9: 32455.0\r\n",
      " 135: 32917.0\r\n",
      " 7: 32962.0\r\n",
      " 23: 33158.0\r\n",
      " 73: 34072.0\r\n",
      " 3: 34083.0\r\n",
      " 29: 34243.0\r\n",
      " 117: 34305.0\r\n",
      " 43: 34438.0\r\n",
      " 101: 35333.0\r\n",
      " 83: 35811.0\r\n",
      " 11: 36448.0\r\n",
      " 93: 36574.0\r\n",
      " 13: 36833.0\r\n",
      " 45: 37288.0\r\n",
      " 67: 37730.0\r\n",
      " 91: 38120.0\r\n",
      " 79: 38308.0\r\n",
      " 55: 42384.0\r\n",
      " 21: 44701.0\r\n",
      " 89: 44969.0\r\n",
      " 1: 56590.0\r\n",
      " 59: 57429.0\r\n",
      " 35: 58472.0\r\n",
      " 105: 62236.0\r\n"
     ]
    }
   ],
   "source": [
    "# This tells us the overall data info\n",
    "# Num obs = OTUs\n",
    "# total count = total seqs\n",
    "# Chantal had 50% reduction after QC.\n",
    "\n",
    "!cat ../SeqData/otu_table_summary.txt"
   ]
  },
  {
   "cell_type": "markdown",
   "metadata": {},
   "source": [
    "This leaves us with the following data:\n",
    "OTU sequences: ../SeqData/otus.pick.fasta\n",
    "OTU table: ../SeqData/otu_table.biom\n",
    "\n",
    "We have 5.4k different OTUs, and 2.2M sequences"
   ]
  },
  {
   "cell_type": "code",
   "execution_count": null,
   "metadata": {
    "collapsed": true
   },
   "outputs": [],
   "source": []
  }
 ],
 "metadata": {
  "kernelspec": {
   "display_name": "Python 2",
   "language": "python",
   "name": "python2"
  },
  "language_info": {
   "codemirror_mode": {
    "name": "ipython",
    "version": 2
   },
   "file_extension": ".py",
   "mimetype": "text/x-python",
   "name": "python",
   "nbconvert_exporter": "python",
   "pygments_lexer": "ipython2",
   "version": "2.7.9"
  }
 },
 "nbformat": 4,
 "nbformat_minor": 0
}
