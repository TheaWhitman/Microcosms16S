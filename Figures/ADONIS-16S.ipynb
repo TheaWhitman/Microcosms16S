{
 "cells": [
  {
   "cell_type": "code",
   "execution_count": 1,
   "metadata": {
    "collapsed": true
   },
   "outputs": [],
   "source": [
    "%load_ext rpy2.ipython\n",
    "# Turning on in-IPy R capabilities"
   ]
  },
  {
   "cell_type": "code",
   "execution_count": 2,
   "metadata": {
    "collapsed": false
   },
   "outputs": [
    {
     "data": {
      "text/plain": [
       "Loading required package: permute\n",
       "Loading required package: lattice\n",
       "This is vegan 2.3-0\n",
       "\n",
       "Attaching package: ‘dplyr’\n",
       "\n",
       "The following objects are masked from ‘package:plyr’:\n",
       "\n",
       "    arrange, count, desc, failwith, id, mutate, rename, summarise,\n",
       "    summarize\n",
       "\n",
       "The following objects are masked from ‘package:stats’:\n",
       "\n",
       "    filter, lag\n",
       "\n",
       "The following objects are masked from ‘package:base’:\n",
       "\n",
       "    intersect, setdiff, setequal, union\n",
       "\n"
      ]
     },
     "metadata": {},
     "output_type": "display_data"
    }
   ],
   "source": [
    "%%R\n",
    "library(phyloseq)\n",
    "library(vegan)\n",
    "library(plyr)\n",
    "library(dplyr)\n",
    "library(ggplot2)"
   ]
  },
  {
   "cell_type": "code",
   "execution_count": 3,
   "metadata": {
    "collapsed": true
   },
   "outputs": [],
   "source": [
    "%%R\n",
    "#Creating the physeq object from our tree and biom table with taxonomic and metadata already included, telling it \\\n",
    "# that the taxonomy is from greengenes database, so it will recognize the samples\n",
    "physeq = import_biom(\"../../SeqData/otu_table.tax.meta.biom\", \"../../SeqData/trees/fulltree.tre\", parseFunction = parse_taxonomy_greengenes)"
   ]
  },
  {
   "cell_type": "code",
   "execution_count": 4,
   "metadata": {
    "collapsed": false
   },
   "outputs": [
    {
     "data": {
      "text/plain": [
       "phyloseq-class experiment-level object\n",
       "otu_table()   OTU Table:         [ 5452 taxa and 72 samples ]\n",
       "sample_data() Sample Data:       [ 72 samples by 3 sample variables ]\n",
       "tax_table()   Taxonomy Table:    [ 5452 taxa by 8 taxonomic ranks ]\n",
       "phy_tree()    Phylogenetic Tree: [ 5452 tips and 5450 internal nodes ]\n"
      ]
     },
     "metadata": {},
     "output_type": "display_data"
    }
   ],
   "source": [
    "%%R\n",
    "physeq"
   ]
  },
  {
   "cell_type": "code",
   "execution_count": 5,
   "metadata": {
    "collapsed": false
   },
   "outputs": [],
   "source": [
    "%%R\n",
    "# Normalizes the sample counts by the total - i.e., reporting what fraction of each sample each OTU makes up.\n",
    "physeq = transform_sample_counts(physeq, function(x) x / sum(x))"
   ]
  },
  {
   "cell_type": "code",
   "execution_count": 7,
   "metadata": {
    "collapsed": false
   },
   "outputs": [
    {
     "data": {
      "text/plain": [
       "  Tukey multiple comparisons of means\n",
       "    95% family-wise confidence level\n",
       "\n",
       "Fit: aov(formula = distances ~ group, data = df)\n",
       "\n",
       "$group\n",
       "             diff          lwr         upr     p adj\n",
       "1-0  3.387305e-03 -0.013071744 0.019846354 0.9903917\n",
       "2-0  1.039255e-02 -0.006066503 0.026851595 0.4397017\n",
       "3-0  8.404920e-03 -0.008054129 0.024863969 0.6661995\n",
       "5-0  3.326895e-03 -0.013132154 0.019785944 0.9911528\n",
       "7-0  3.932278e-03 -0.012526772 0.020391327 0.9811650\n",
       "2-1  7.005241e-03 -0.009453808 0.023464291 0.8108509\n",
       "3-1  5.017615e-03 -0.011441434 0.021476664 0.9464493\n",
       "5-1 -6.041008e-05 -0.016519459 0.016398639 1.0000000\n",
       "7-1  5.449728e-04 -0.015914077 0.017004022 0.9999987\n",
       "3-2 -1.987626e-03 -0.018446675 0.014471423 0.9992313\n",
       "5-2 -7.065651e-03 -0.023524701 0.009393398 0.8052855\n",
       "7-2 -6.460268e-03 -0.022919318 0.009998781 0.8574948\n",
       "5-3 -5.078025e-03 -0.021537075 0.011381024 0.9437545\n",
       "7-3 -4.472642e-03 -0.020931692 0.011986407 0.9669624\n",
       "7-5  6.053829e-04 -0.015853666 0.017064432 0.9999978\n",
       "\n"
      ]
     },
     "metadata": {},
     "output_type": "display_data"
    },
    {
     "data": {
      "image/png": "[encoded data removed]"
     },
     "metadata": {},
     "output_type": "display_data"
    }
   ],
   "source": [
    "%%R\n",
    "df = as(sample_data(physeq), \"data.frame\")\n",
    "d = distance(physeq, method = \"unifrac\")\n",
    "sampdat = sample_data(physeq)\n",
    "groups = as.factor(sampdat$Day)\n",
    "x = betadisper(d, groups)\n",
    "boxplot(x, ylab = \"Distance to centroid\")\n",
    "anova(x)\n",
    "TukeyHSD(x, ordered = FALSE, conf.level = 0.95)\n",
    "# Performing test of beta dispersion - the permanova/adonis test requires that groups have similar dispersion.\n",
    "# This doesn't look outrageously bad here. Some worry re. Kaolinite, as expected, and soils look tight too."
   ]
  },
  {
   "cell_type": "code",
   "execution_count": 10,
   "metadata": {
    "collapsed": false
   },
   "outputs": [
    {
     "data": {
      "text/plain": [
       "\n",
       "Call:\n",
       "adonis(formula = d ~ sample_data(physeq)$Day + sample_data(physeq)$Trtmt +      sample_data(physeq)$Cosm, data = df) \n",
       "\n",
       "Permutation: free\n",
       "Number of permutations: 999\n",
       "\n",
       "Terms added sequentially (first to last)\n",
       "\n",
       "                          Df SumsOfSqs   MeanSqs F.Model      R2 Pr(>F)    \n",
       "sample_data(physeq)$Day    5  0.005824 0.0011649  2.4661 0.08392  0.005 ** \n",
       "sample_data(physeq)$Trtmt  1  0.001408 0.0014079  2.9807 0.02029  0.041 *  \n",
       "sample_data(physeq)$Cosm  10  0.036194 0.0036194  7.6627 0.52149  0.001 ***\n",
       "Residuals                 55  0.025979 0.0004723         0.37431           \n",
       "Total                     71  0.069405                   1.00000           \n",
       "---\n",
       "Signif. codes:  0 ‘***’ 0.001 ‘**’ 0.01 ‘*’ 0.05 ‘.’ 0.1 ‘ ’ 1\n"
      ]
     },
     "metadata": {},
     "output_type": "display_data"
    }
   ],
   "source": [
    "%%R\n",
    "df = as(sample_data(physeq), \"data.frame\")\n",
    "d = distance(physeq, method = \"unifrac\", weighted=TRUE)\n",
    "\n",
    "d.adonis = adonis(d ~ sample_data(physeq)$Day + sample_data(physeq)$Trtmt + sample_data(physeq)$Cosm, df)\n",
    "d.adonis"
   ]
  },
  {
   "cell_type": "markdown",
   "metadata": {},
   "source": [
    "There is not a significant effect of day or treatment, across samples, nor is there an interaction.  \n",
    "BUT when we take into account microcosm, all effects are significant:  \n",
    "Trtmt p=0.04, Day p = 0.005, Cosm p = 0.001"
   ]
  },
  {
   "cell_type": "code",
   "execution_count": null,
   "metadata": {
    "collapsed": true
   },
   "outputs": [],
   "source": []
  }
 ],
 "metadata": {
  "kernelspec": {
   "display_name": "Python 2",
   "language": "python",
   "name": "python2"
  },
  "language_info": {
   "codemirror_mode": {
    "name": "ipython",
    "version": 2
   },
   "file_extension": ".py",
   "mimetype": "text/x-python",
   "name": "python",
   "nbconvert_exporter": "python",
   "pygments_lexer": "ipython2",
   "version": "2.7.9"
  }
 },
 "nbformat": 4,
 "nbformat_minor": 0
}
