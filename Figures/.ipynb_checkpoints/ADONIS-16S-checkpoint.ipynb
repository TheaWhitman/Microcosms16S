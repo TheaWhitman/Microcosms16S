{
 "cells": [
  {
   "cell_type": "code",
   "execution_count": 1,
   "metadata": {
    "collapsed": true
   },
   "outputs": [],
   "source": [
    "%load_ext rpy2.ipython\n",
    "# Turning on in-IPy R capabilities"
   ]
  },
  {
   "cell_type": "code",
   "execution_count": 2,
   "metadata": {
    "collapsed": false
   },
   "outputs": [
    {
     "data": {
      "text/plain": [
       "Loading required package: permute\n",
       "Loading required package: lattice\n",
       "This is vegan 2.3-0\n",
       "\n",
       "Attaching package: ‘dplyr’\n",
       "\n",
       "The following objects are masked from ‘package:plyr’:\n",
       "\n",
       "    arrange, count, desc, failwith, id, mutate, rename, summarise,\n",
       "    summarize\n",
       "\n",
       "The following objects are masked from ‘package:stats’:\n",
       "\n",
       "    filter, lag\n",
       "\n",
       "The following objects are masked from ‘package:base’:\n",
       "\n",
       "    intersect, setdiff, setequal, union\n",
       "\n"
      ]
     },
     "metadata": {},
     "output_type": "display_data"
    }
   ],
   "source": [
    "%%R\n",
    "library(phyloseq)\n",
    "library(vegan)\n",
    "library(plyr)\n",
    "library(dplyr)\n",
    "library(ggplot2)"
   ]
  },
  {
   "cell_type": "code",
   "execution_count": 3,
   "metadata": {
    "collapsed": true
   },
   "outputs": [],
   "source": [
    "%%R\n",
    "#Creating the physeq object from our tree and biom table with taxonomic and metadata already included, telling it \\\n",
    "# that the taxonomy is from greengenes database, so it will recognize the samples\n",
    "physeq = import_biom(\"../../SeqData/otu_table.tax.meta.biom\", \"../../SeqData/trees/fulltree.tre\", parseFunction = parse_taxonomy_greengenes)"
   ]
  },
  {
   "cell_type": "code",
   "execution_count": 4,
   "metadata": {
    "collapsed": false
   },
   "outputs": [
    {
     "data": {
      "text/plain": [
       "phyloseq-class experiment-level object\n",
       "otu_table()   OTU Table:         [ 5452 taxa and 72 samples ]\n",
       "sample_data() Sample Data:       [ 72 samples by 3 sample variables ]\n",
       "tax_table()   Taxonomy Table:    [ 5452 taxa by 8 taxonomic ranks ]\n",
       "phy_tree()    Phylogenetic Tree: [ 5452 tips and 5450 internal nodes ]\n"
      ]
     },
     "metadata": {},
     "output_type": "display_data"
    }
   ],
   "source": [
    "%%R\n",
    "physeq"
   ]
  },
  {
   "cell_type": "code",
   "execution_count": 5,
   "metadata": {
    "collapsed": false
   },
   "outputs": [],
   "source": [
    "%%R\n",
    "# Normalizes the sample counts by the total - i.e., reporting what fraction of each sample each OTU makes up.\n",
    "physeq = transform_sample_counts(physeq, function(x) x / sum(x))"
   ]
  },
  {
   "cell_type": "code",
   "execution_count": null,
   "metadata": {
    "collapsed": false
   },
   "outputs": [],
   "source": [
    "%%R\n",
    "df = as(sample_data(physeq), \"data.frame\")\n",
    "d = distance(physeq, method = \"unifrac\")\n",
    "sampdat = sample_data(physeq)\n",
    "groups = as.factor(sampdat$Day)\n",
    "x = betadisper(d, groups)\n",
    "boxplot(x, ylab = \"Distance to centroid\")\n",
    "anova(x)\n",
    "TukeyHSD(x, ordered = FALSE, conf.level = 0.95)\n",
    "# Performing test of beta dispersion - the permanova/adonis test requires that groups have similar dispersion.\n",
    "# This doesn't look outrageously bad here. Some worry re. Kaolinite, as expected, and soils look tight too."
   ]
  },
  {
   "cell_type": "code",
   "execution_count": 42,
   "metadata": {
    "collapsed": false
   },
   "outputs": [
    {
     "data": {
      "text/plain": [
       "\n",
       "Call:\n",
       "adonis(formula = d ~ sample_data(physeq)$Month + sample_data(physeq)$Trtmt,      data = df) \n",
       "\n",
       "Permutation: free\n",
       "Number of permutations: 999\n",
       "\n",
       "Terms added sequentially (first to last)\n",
       "\n",
       "                          Df SumsOfSqs MeanSqs F.Model      R2 Pr(>F)    \n",
       "sample_data(physeq)$Month  1    0.2669 0.26694  1.6345 0.04511  0.055 .  \n",
       "sample_data(physeq)$Trtmt  1    0.7512 0.75123  4.5999 0.12695  0.001 ***\n",
       "Residuals                 30    4.8995 0.16332         0.82794           \n",
       "Total                     32    5.9176                 1.00000           \n",
       "---\n",
       "Signif. codes:  0 ‘***’ 0.001 ‘**’ 0.01 ‘*’ 0.05 ‘.’ 0.1 ‘ ’ 1\n"
      ]
     },
     "metadata": {},
     "output_type": "display_data"
    }
   ],
   "source": [
    "%%R\n",
    "df = as(sample_data(physeq), \"data.frame\")\n",
    "d = distance(physeq, method = \"bray\")\n",
    "\n",
    "d.adonis = adonis(d ~ sample_data(physeq)$Month + sample_data(physeq)$Trtmt, df)\n",
    "d.adonis"
   ]
  },
  {
   "cell_type": "markdown",
   "metadata": {},
   "source": [
    "There is a significant effect of both month and treatment, across samples"
   ]
  },
  {
   "cell_type": "code",
   "execution_count": 7,
   "metadata": {
    "collapsed": true
   },
   "outputs": [],
   "source": [
    "%%R\n",
    "physeq.QS = subset_samples(physeq, Trtmt == c(\"Soil\",\"Quartz\"))\n",
    "physeq.FS = subset_samples(physeq, Trtmt == c(\"Soil\",\"Ferrihydrite\"))\n",
    "physeq.QF = subset_samples(physeq, Trtmt == c(\"Quartz\",\"Ferrihydrite\"))"
   ]
  },
  {
   "cell_type": "code",
   "execution_count": 8,
   "metadata": {
    "collapsed": false
   },
   "outputs": [
    {
     "data": {
      "text/plain": [
       "\n",
       "Call:\n",
       "adonis(formula = d ~ sample_data(ps)$Month + sample_data(ps)$Trtmt,      data = df) \n",
       "\n",
       "Permutation: free\n",
       "Number of permutations: 999\n",
       "\n",
       "Terms added sequentially (first to last)\n",
       "\n",
       "                      Df SumsOfSqs MeanSqs F.Model      R2 Pr(>F)    \n",
       "sample_data(ps)$Month  1   0.09045 0.09045  0.8509 0.03781  0.479    \n",
       "sample_data(ps)$Trtmt  1   1.02607 1.02607  9.6527 0.42894  0.001 ***\n",
       "Residuals             12   1.27558 0.10630         0.53325           \n",
       "Total                 14   2.39211                 1.00000           \n",
       "---\n",
       "Signif. codes:  0 ‘***’ 0.001 ‘**’ 0.01 ‘*’ 0.05 ‘.’ 0.1 ‘ ’ 1\n"
      ]
     },
     "metadata": {},
     "output_type": "display_data"
    }
   ],
   "source": [
    "%%R\n",
    "ps = physeq.QS\n",
    "df = as(sample_data(ps), \"data.frame\")\n",
    "d = distance(ps, method = \"bray\")\n",
    "\n",
    "d.adonis = adonis(d ~ sample_data(ps)$Month + sample_data(ps)$Trtmt, df)\n",
    "d.adonis"
   ]
  },
  {
   "cell_type": "code",
   "execution_count": 9,
   "metadata": {
    "collapsed": false
   },
   "outputs": [
    {
     "data": {
      "text/plain": [
       "\n",
       "Call:\n",
       "adonis(formula = d ~ sample_data(ps)$Month + sample_data(ps)$Trtmt,      data = df) \n",
       "\n",
       "Permutation: free\n",
       "Number of permutations: 999\n",
       "\n",
       "Terms added sequentially (first to last)\n",
       "\n",
       "                      Df SumsOfSqs MeanSqs F.Model      R2 Pr(>F)    \n",
       "sample_data(ps)$Month  1   0.17345 0.17345  1.5799 0.05869  0.159    \n",
       "sample_data(ps)$Trtmt  1   1.24509 1.24509 11.3409 0.42127  0.001 ***\n",
       "Residuals             14   1.53703 0.10979         0.52005           \n",
       "Total                 16   2.95557                 1.00000           \n",
       "---\n",
       "Signif. codes:  0 ‘***’ 0.001 ‘**’ 0.01 ‘*’ 0.05 ‘.’ 0.1 ‘ ’ 1\n"
      ]
     },
     "metadata": {},
     "output_type": "display_data"
    }
   ],
   "source": [
    "%%R\n",
    "ps = physeq.FS\n",
    "df = as(sample_data(ps), \"data.frame\")\n",
    "d = distance(ps, method = \"bray\")\n",
    "\n",
    "d.adonis = adonis(d ~ sample_data(ps)$Month + sample_data(ps)$Trtmt, df)\n",
    "d.adonis"
   ]
  },
  {
   "cell_type": "code",
   "execution_count": 10,
   "metadata": {
    "collapsed": false
   },
   "outputs": [
    {
     "data": {
      "text/plain": [
       "\n",
       "Call:\n",
       "adonis(formula = d ~ sample_data(ps)$Month + sample_data(ps)$Trtmt,      data = df) \n",
       "\n",
       "Permutation: free\n",
       "Number of permutations: 999\n",
       "\n",
       "Terms added sequentially (first to last)\n",
       "\n",
       "                      Df SumsOfSqs MeanSqs F.Model      R2 Pr(>F)   \n",
       "sample_data(ps)$Month  1   0.33423 0.33423  2.1606 0.11609  0.016 * \n",
       "sample_data(ps)$Trtmt  1   0.37921 0.37921  2.4514 0.13171  0.005 **\n",
       "Residuals             14   2.16572 0.15469         0.75220          \n",
       "Total                 16   2.87916                 1.00000          \n",
       "---\n",
       "Signif. codes:  0 ‘***’ 0.001 ‘**’ 0.01 ‘*’ 0.05 ‘.’ 0.1 ‘ ’ 1\n"
      ]
     },
     "metadata": {},
     "output_type": "display_data"
    }
   ],
   "source": [
    "%%R\n",
    "ps = physeq.QF\n",
    "df = as(sample_data(ps), \"data.frame\")\n",
    "d = distance(ps, method = \"bray\")\n",
    "\n",
    "d.adonis = adonis(d ~ sample_data(ps)$Month + sample_data(ps)$Trtmt, df)\n",
    "d.adonis"
   ]
  },
  {
   "cell_type": "code",
   "execution_count": null,
   "metadata": {
    "collapsed": true
   },
   "outputs": [],
   "source": []
  }
 ],
 "metadata": {
  "kernelspec": {
   "display_name": "Python 2",
   "language": "python",
   "name": "python2"
  },
  "language_info": {
   "codemirror_mode": {
    "name": "ipython",
    "version": 2
   },
   "file_extension": ".py",
   "mimetype": "text/x-python",
   "name": "python",
   "nbconvert_exporter": "python",
   "pygments_lexer": "ipython2",
   "version": "2.7.9"
  }
 },
 "nbformat": 4,
 "nbformat_minor": 0
}
